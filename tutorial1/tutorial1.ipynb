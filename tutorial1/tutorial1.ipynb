{
 "cells": [
  {
   "cell_type": "markdown",
   "metadata": {
    "button": false,
    "colab_type": "text",
    "id": "YETb0LFvlyxW",
    "new_sheet": false,
    "run_control": {
     "read_only": false
    }
   },
   "source": [
    "**Data Visualization course - winter semester 2023/24 - FU Berlin**\n",
    "\n",
    "*Tutorials adapted from the [Information Visualization](https://infovis.fh-potsdam.de/tutorials/) course at the FH Potsdam*\n",
    "\n",
    "# Tutorial 1: Getting started\n",
    "\n",
    "During the tutorials you will be reading and writing **Python** code in **Jupyter** notebooks.\n",
    "Phew… Let's unpack this a bit!\n",
    "\n",
    "* 🐍 [Python](https://www.python.org) is a programming language that has gained considerable traction over the last years, in various contexts, including data science and the digital humanities. If you have never written any Python before, it would be useful for you to familiarize yourself with the language, its basic constructs and conventions. It is popular for its versatility and readability. Speaking of which…\n",
    "\n",
    "* 🪐 [Jupyter](https://jupyter.org) notebooks are hybrid documents that contain both code and markup. So it becomes easy to mix programming and documentation. What you are looking at now is a text cell written in the markup language Markdown, further below you see code cells written in the programming language Python (note the light grey background), which contain computable code! When viewing the notebooks on in Jupyter, you can double-click on any text cell to see its source. \n",
    "\n",
    "In this tutorial you will get a bit acquainted with Python and Jupyter, and get to know a few handy libraries for working with data."
   ]
  },
  {
   "cell_type": "markdown",
   "metadata": {
    "colab_type": "text",
    "id": "hIwGbqu6C-xs"
   },
   "source": [
    "## 🌍 Hello world \n",
    "\n",
    "Okay, enough words. Let's dive right into it and start with a classic:"
   ]
  },
  {
   "cell_type": "code",
   "execution_count": 1,
   "metadata": {
    "colab": {
     "base_uri": "https://localhost:8080/",
     "height": 34
    },
    "colab_type": "code",
    "executionInfo": {
     "elapsed": 646,
     "status": "ok",
     "timestamp": 1598360698873,
     "user": {
      "displayName": "Marian Dörk",
      "photoUrl": "https://lh3.googleusercontent.com/a-/AOh14GhqiajTdRS6NXELnqFzS3NNM3uxy6nUDGSMCjvAjw=s64",
      "userId": "05248840544598202773"
     },
     "user_tz": -120
    },
    "id": "R65CfhjLlN0x",
    "outputId": "6bc6e9c5-19a7-4415-f941-99efffd674c7"
   },
   "outputs": [
    {
     "name": "stdout",
     "output_type": "stream",
     "text": [
      "Hello world\n"
     ]
    }
   ],
   "source": [
    "print(\"Hello world\")"
   ]
  },
  {
   "cell_type": "markdown",
   "metadata": {
    "colab_type": "text",
    "id": "wxMjevMRMp5x"
   },
   "source": [
    "Above code cell can be executed (i.e., run) by clicking **Shift + Enter**.\n",
    "\n",
    "Of course we can set variables and extend them. Feel free to change the message:"
   ]
  },
  {
   "cell_type": "code",
   "execution_count": 2,
   "metadata": {
    "colab": {
     "base_uri": "https://localhost:8080/",
     "height": 37
    },
    "colab_type": "code",
    "executionInfo": {
     "elapsed": 898,
     "status": "ok",
     "timestamp": 1598360699140,
     "user": {
      "displayName": "Marian Dörk",
      "photoUrl": "https://lh3.googleusercontent.com/a-/AOh14GhqiajTdRS6NXELnqFzS3NNM3uxy6nUDGSMCjvAjw=s64",
      "userId": "05248840544598202773"
     },
     "user_tz": -120
    },
    "id": "Db3jY1JiMkSP",
    "outputId": "95671b01-c79a-4fb5-eaeb-5e05a9eed8e2"
   },
   "outputs": [
    {
     "data": {
      "text/plain": [
       "'hello world how are you!'"
      ]
     },
     "execution_count": 2,
     "metadata": {},
     "output_type": "execute_result"
    }
   ],
   "source": [
    "hello = \"hello world\"\n",
    "hello = hello + \" how are you!\"\n",
    "hello"
   ]
  },
  {
   "cell_type": "markdown",
   "metadata": {
    "colab_type": "text",
    "id": "wfXk4Bon1Yk5"
   },
   "source": [
    "Now that we have our first variable `hello` we can perform some string tricks, for example, we could change the capitalization:"
   ]
  },
  {
   "cell_type": "code",
   "execution_count": 3,
   "metadata": {
    "colab": {
     "base_uri": "https://localhost:8080/",
     "height": 37
    },
    "colab_type": "code",
    "executionInfo": {
     "elapsed": 889,
     "status": "ok",
     "timestamp": 1598360699141,
     "user": {
      "displayName": "Marian Dörk",
      "photoUrl": "https://lh3.googleusercontent.com/a-/AOh14GhqiajTdRS6NXELnqFzS3NNM3uxy6nUDGSMCjvAjw=s64",
      "userId": "05248840544598202773"
     },
     "user_tz": -120
    },
    "id": "083ukp0a5OOu",
    "outputId": "b5a8714c-d277-478e-8a42-c0f0481b4aba"
   },
   "outputs": [
    {
     "data": {
      "text/plain": [
       "'Hello World How Are You!'"
      ]
     },
     "execution_count": 3,
     "metadata": {},
     "output_type": "execute_result"
    }
   ],
   "source": [
    "hello.title()"
   ]
  },
  {
   "cell_type": "code",
   "execution_count": 4,
   "metadata": {
    "colab": {
     "base_uri": "https://localhost:8080/",
     "height": 37
    },
    "colab_type": "code",
    "executionInfo": {
     "elapsed": 878,
     "status": "ok",
     "timestamp": 1598360699141,
     "user": {
      "displayName": "Marian Dörk",
      "photoUrl": "https://lh3.googleusercontent.com/a-/AOh14GhqiajTdRS6NXELnqFzS3NNM3uxy6nUDGSMCjvAjw=s64",
      "userId": "05248840544598202773"
     },
     "user_tz": -120
    },
    "id": "VAoTCbnmWpyz",
    "outputId": "66da4ec9-ac44-480e-baab-09c1f6b7f156"
   },
   "outputs": [
    {
     "data": {
      "text/plain": [
       "'HELLO WORLD HOW ARE YOU!'"
      ]
     },
     "execution_count": 4,
     "metadata": {},
     "output_type": "execute_result"
    }
   ],
   "source": [
    "hello.upper()"
   ]
  },
  {
   "cell_type": "markdown",
   "metadata": {
    "colab_type": "text",
    "id": "9wDVk_w9BVe0"
   },
   "source": [
    "✏️ *Now it's your turn! (The pencil stands for a small hands-on activity!). Try some string manipulations yourself. To get some inspiration, have a look at the [string methods](https://docs.python.org/3/library/stdtypes.html?#string-methods) that Python has built-in:*"
   ]
  },
  {
   "cell_type": "code",
   "execution_count": 5,
   "metadata": {
    "colab": {},
    "colab_type": "code",
    "id": "tFGcIMSPAZmQ"
   },
   "outputs": [
    {
     "data": {
      "text/plain": [
       "'Hello world how are you!'"
      ]
     },
     "execution_count": 5,
     "metadata": {},
     "output_type": "execute_result"
    }
   ],
   "source": [
    "hello.capitalize()"
   ]
  },
  {
   "cell_type": "markdown",
   "metadata": {
    "colab_type": "text",
    "id": "UjMp0emzDY19"
   },
   "source": [
    "## 📦 Let's get some packages\n",
    "\n",
    "Python itself provides only limited methods for working with more complex data. One of the main reasons for Python's (and  Jupyter's) popularity is the wide availability of software packages that provide powerful means for preparing, processing, presenting, and probing data. Throughout the tutorials you will get to know a few packages, some of them highly specific tools and others more general-purpose libraries. \n",
    "\n",
    "To use packages in a notebook, you simply `import` them and assign an abbreviation after `as` to keep your code succinct. This is how you do it:"
   ]
  },
  {
   "cell_type": "code",
   "execution_count": 6,
   "metadata": {
    "colab": {},
    "colab_type": "code",
    "id": "xkOALOiiGs-G"
   },
   "outputs": [],
   "source": [
    "import pandas as pd"
   ]
  },
  {
   "cell_type": "markdown",
   "metadata": {
    "colab_type": "text",
    "id": "4GkVEmvxJFyC"
   },
   "source": [
    "Now the powerful `pandas` package is loaded and will answer to its nickname `pd`.\n",
    "\n",
    "🐼 [Pandas](https://pandas.pydata.org) really is a data analysis workhorse with the DataFrame data structure being one of its main muscles. You will learn to love it! With pandas you can do simple and sophisticated operations over small and sizable datasets. \n",
    "\n",
    "Let's create a little toy dataset to give you a sense of how it works:\n"
   ]
  },
  {
   "cell_type": "code",
   "execution_count": 7,
   "metadata": {
    "colab": {},
    "colab_type": "code",
    "id": "XFmCkuuENNGl"
   },
   "outputs": [],
   "source": [
    "covid_data = pd.read_csv(\"https://covid.ourworldindata.org/data/owid-covid-data.csv\")"
   ]
  },
  {
   "cell_type": "markdown",
   "metadata": {
    "colab_type": "text",
    "id": "IyYR9uk-YbV1"
   },
   "source": [
    "To check whether the DataFrame was created successfully, we can simply type the variable name `covid_data`, display its content as an ouput:"
   ]
  },
  {
   "cell_type": "code",
   "execution_count": 8,
   "metadata": {
    "colab": {
     "base_uri": "https://localhost:8080/",
     "height": 173
    },
    "colab_type": "code",
    "executionInfo": {
     "elapsed": 1133,
     "status": "ok",
     "timestamp": 1598360699412,
     "user": {
      "displayName": "Marian Dörk",
      "photoUrl": "https://lh3.googleusercontent.com/a-/AOh14GhqiajTdRS6NXELnqFzS3NNM3uxy6nUDGSMCjvAjw=s64",
      "userId": "05248840544598202773"
     },
     "user_tz": -120
    },
    "id": "NU1zjGHAYcTk",
    "outputId": "6a4c9434-023c-4f68-b6c5-6e383b914282"
   },
   "outputs": [
    {
     "data": {
      "text/html": [
       "<div>\n",
       "<style scoped>\n",
       "    .dataframe tbody tr th:only-of-type {\n",
       "        vertical-align: middle;\n",
       "    }\n",
       "\n",
       "    .dataframe tbody tr th {\n",
       "        vertical-align: top;\n",
       "    }\n",
       "\n",
       "    .dataframe thead th {\n",
       "        text-align: right;\n",
       "    }\n",
       "</style>\n",
       "<table border=\"1\" class=\"dataframe\">\n",
       "  <thead>\n",
       "    <tr style=\"text-align: right;\">\n",
       "      <th></th>\n",
       "      <th>iso_code</th>\n",
       "      <th>continent</th>\n",
       "      <th>location</th>\n",
       "      <th>date</th>\n",
       "      <th>total_cases</th>\n",
       "      <th>new_cases</th>\n",
       "      <th>new_cases_smoothed</th>\n",
       "      <th>total_deaths</th>\n",
       "      <th>new_deaths</th>\n",
       "      <th>new_deaths_smoothed</th>\n",
       "      <th>...</th>\n",
       "      <th>male_smokers</th>\n",
       "      <th>handwashing_facilities</th>\n",
       "      <th>hospital_beds_per_thousand</th>\n",
       "      <th>life_expectancy</th>\n",
       "      <th>human_development_index</th>\n",
       "      <th>population</th>\n",
       "      <th>excess_mortality_cumulative_absolute</th>\n",
       "      <th>excess_mortality_cumulative</th>\n",
       "      <th>excess_mortality</th>\n",
       "      <th>excess_mortality_cumulative_per_million</th>\n",
       "    </tr>\n",
       "  </thead>\n",
       "  <tbody>\n",
       "    <tr>\n",
       "      <th>0</th>\n",
       "      <td>AFG</td>\n",
       "      <td>Asia</td>\n",
       "      <td>Afghanistan</td>\n",
       "      <td>2020-01-03</td>\n",
       "      <td>NaN</td>\n",
       "      <td>0.0</td>\n",
       "      <td>NaN</td>\n",
       "      <td>NaN</td>\n",
       "      <td>0.0</td>\n",
       "      <td>NaN</td>\n",
       "      <td>...</td>\n",
       "      <td>NaN</td>\n",
       "      <td>37.746</td>\n",
       "      <td>0.5</td>\n",
       "      <td>64.83</td>\n",
       "      <td>0.511</td>\n",
       "      <td>41128772.0</td>\n",
       "      <td>NaN</td>\n",
       "      <td>NaN</td>\n",
       "      <td>NaN</td>\n",
       "      <td>NaN</td>\n",
       "    </tr>\n",
       "    <tr>\n",
       "      <th>1</th>\n",
       "      <td>AFG</td>\n",
       "      <td>Asia</td>\n",
       "      <td>Afghanistan</td>\n",
       "      <td>2020-01-04</td>\n",
       "      <td>NaN</td>\n",
       "      <td>0.0</td>\n",
       "      <td>NaN</td>\n",
       "      <td>NaN</td>\n",
       "      <td>0.0</td>\n",
       "      <td>NaN</td>\n",
       "      <td>...</td>\n",
       "      <td>NaN</td>\n",
       "      <td>37.746</td>\n",
       "      <td>0.5</td>\n",
       "      <td>64.83</td>\n",
       "      <td>0.511</td>\n",
       "      <td>41128772.0</td>\n",
       "      <td>NaN</td>\n",
       "      <td>NaN</td>\n",
       "      <td>NaN</td>\n",
       "      <td>NaN</td>\n",
       "    </tr>\n",
       "    <tr>\n",
       "      <th>2</th>\n",
       "      <td>AFG</td>\n",
       "      <td>Asia</td>\n",
       "      <td>Afghanistan</td>\n",
       "      <td>2020-01-05</td>\n",
       "      <td>NaN</td>\n",
       "      <td>0.0</td>\n",
       "      <td>NaN</td>\n",
       "      <td>NaN</td>\n",
       "      <td>0.0</td>\n",
       "      <td>NaN</td>\n",
       "      <td>...</td>\n",
       "      <td>NaN</td>\n",
       "      <td>37.746</td>\n",
       "      <td>0.5</td>\n",
       "      <td>64.83</td>\n",
       "      <td>0.511</td>\n",
       "      <td>41128772.0</td>\n",
       "      <td>NaN</td>\n",
       "      <td>NaN</td>\n",
       "      <td>NaN</td>\n",
       "      <td>NaN</td>\n",
       "    </tr>\n",
       "    <tr>\n",
       "      <th>3</th>\n",
       "      <td>AFG</td>\n",
       "      <td>Asia</td>\n",
       "      <td>Afghanistan</td>\n",
       "      <td>2020-01-06</td>\n",
       "      <td>NaN</td>\n",
       "      <td>0.0</td>\n",
       "      <td>NaN</td>\n",
       "      <td>NaN</td>\n",
       "      <td>0.0</td>\n",
       "      <td>NaN</td>\n",
       "      <td>...</td>\n",
       "      <td>NaN</td>\n",
       "      <td>37.746</td>\n",
       "      <td>0.5</td>\n",
       "      <td>64.83</td>\n",
       "      <td>0.511</td>\n",
       "      <td>41128772.0</td>\n",
       "      <td>NaN</td>\n",
       "      <td>NaN</td>\n",
       "      <td>NaN</td>\n",
       "      <td>NaN</td>\n",
       "    </tr>\n",
       "    <tr>\n",
       "      <th>4</th>\n",
       "      <td>AFG</td>\n",
       "      <td>Asia</td>\n",
       "      <td>Afghanistan</td>\n",
       "      <td>2020-01-07</td>\n",
       "      <td>NaN</td>\n",
       "      <td>0.0</td>\n",
       "      <td>NaN</td>\n",
       "      <td>NaN</td>\n",
       "      <td>0.0</td>\n",
       "      <td>NaN</td>\n",
       "      <td>...</td>\n",
       "      <td>NaN</td>\n",
       "      <td>37.746</td>\n",
       "      <td>0.5</td>\n",
       "      <td>64.83</td>\n",
       "      <td>0.511</td>\n",
       "      <td>41128772.0</td>\n",
       "      <td>NaN</td>\n",
       "      <td>NaN</td>\n",
       "      <td>NaN</td>\n",
       "      <td>NaN</td>\n",
       "    </tr>\n",
       "    <tr>\n",
       "      <th>...</th>\n",
       "      <td>...</td>\n",
       "      <td>...</td>\n",
       "      <td>...</td>\n",
       "      <td>...</td>\n",
       "      <td>...</td>\n",
       "      <td>...</td>\n",
       "      <td>...</td>\n",
       "      <td>...</td>\n",
       "      <td>...</td>\n",
       "      <td>...</td>\n",
       "      <td>...</td>\n",
       "      <td>...</td>\n",
       "      <td>...</td>\n",
       "      <td>...</td>\n",
       "      <td>...</td>\n",
       "      <td>...</td>\n",
       "      <td>...</td>\n",
       "      <td>...</td>\n",
       "      <td>...</td>\n",
       "      <td>...</td>\n",
       "      <td>...</td>\n",
       "    </tr>\n",
       "    <tr>\n",
       "      <th>346666</th>\n",
       "      <td>ZWE</td>\n",
       "      <td>Africa</td>\n",
       "      <td>Zimbabwe</td>\n",
       "      <td>2023-09-30</td>\n",
       "      <td>265753.0</td>\n",
       "      <td>0.0</td>\n",
       "      <td>0.714</td>\n",
       "      <td>5718.0</td>\n",
       "      <td>0.0</td>\n",
       "      <td>0.0</td>\n",
       "      <td>...</td>\n",
       "      <td>30.7</td>\n",
       "      <td>36.791</td>\n",
       "      <td>1.7</td>\n",
       "      <td>61.49</td>\n",
       "      <td>0.571</td>\n",
       "      <td>16320539.0</td>\n",
       "      <td>NaN</td>\n",
       "      <td>NaN</td>\n",
       "      <td>NaN</td>\n",
       "      <td>NaN</td>\n",
       "    </tr>\n",
       "    <tr>\n",
       "      <th>346667</th>\n",
       "      <td>ZWE</td>\n",
       "      <td>Africa</td>\n",
       "      <td>Zimbabwe</td>\n",
       "      <td>2023-10-01</td>\n",
       "      <td>265753.0</td>\n",
       "      <td>0.0</td>\n",
       "      <td>0.714</td>\n",
       "      <td>5718.0</td>\n",
       "      <td>0.0</td>\n",
       "      <td>0.0</td>\n",
       "      <td>...</td>\n",
       "      <td>30.7</td>\n",
       "      <td>36.791</td>\n",
       "      <td>1.7</td>\n",
       "      <td>61.49</td>\n",
       "      <td>0.571</td>\n",
       "      <td>16320539.0</td>\n",
       "      <td>NaN</td>\n",
       "      <td>NaN</td>\n",
       "      <td>NaN</td>\n",
       "      <td>NaN</td>\n",
       "    </tr>\n",
       "    <tr>\n",
       "      <th>346668</th>\n",
       "      <td>ZWE</td>\n",
       "      <td>Africa</td>\n",
       "      <td>Zimbabwe</td>\n",
       "      <td>2023-10-02</td>\n",
       "      <td>265753.0</td>\n",
       "      <td>0.0</td>\n",
       "      <td>0.714</td>\n",
       "      <td>5718.0</td>\n",
       "      <td>0.0</td>\n",
       "      <td>0.0</td>\n",
       "      <td>...</td>\n",
       "      <td>30.7</td>\n",
       "      <td>36.791</td>\n",
       "      <td>1.7</td>\n",
       "      <td>61.49</td>\n",
       "      <td>0.571</td>\n",
       "      <td>16320539.0</td>\n",
       "      <td>NaN</td>\n",
       "      <td>NaN</td>\n",
       "      <td>NaN</td>\n",
       "      <td>NaN</td>\n",
       "    </tr>\n",
       "    <tr>\n",
       "      <th>346669</th>\n",
       "      <td>ZWE</td>\n",
       "      <td>Africa</td>\n",
       "      <td>Zimbabwe</td>\n",
       "      <td>2023-10-03</td>\n",
       "      <td>265753.0</td>\n",
       "      <td>0.0</td>\n",
       "      <td>0.000</td>\n",
       "      <td>5718.0</td>\n",
       "      <td>0.0</td>\n",
       "      <td>0.0</td>\n",
       "      <td>...</td>\n",
       "      <td>30.7</td>\n",
       "      <td>36.791</td>\n",
       "      <td>1.7</td>\n",
       "      <td>61.49</td>\n",
       "      <td>0.571</td>\n",
       "      <td>16320539.0</td>\n",
       "      <td>NaN</td>\n",
       "      <td>NaN</td>\n",
       "      <td>NaN</td>\n",
       "      <td>NaN</td>\n",
       "    </tr>\n",
       "    <tr>\n",
       "      <th>346670</th>\n",
       "      <td>ZWE</td>\n",
       "      <td>Africa</td>\n",
       "      <td>Zimbabwe</td>\n",
       "      <td>2023-10-04</td>\n",
       "      <td>265753.0</td>\n",
       "      <td>0.0</td>\n",
       "      <td>0.000</td>\n",
       "      <td>5718.0</td>\n",
       "      <td>0.0</td>\n",
       "      <td>0.0</td>\n",
       "      <td>...</td>\n",
       "      <td>30.7</td>\n",
       "      <td>36.791</td>\n",
       "      <td>1.7</td>\n",
       "      <td>61.49</td>\n",
       "      <td>0.571</td>\n",
       "      <td>16320539.0</td>\n",
       "      <td>NaN</td>\n",
       "      <td>NaN</td>\n",
       "      <td>NaN</td>\n",
       "      <td>NaN</td>\n",
       "    </tr>\n",
       "  </tbody>\n",
       "</table>\n",
       "<p>346671 rows × 67 columns</p>\n",
       "</div>"
      ],
      "text/plain": [
       "       iso_code continent     location        date  total_cases  new_cases  \\\n",
       "0           AFG      Asia  Afghanistan  2020-01-03          NaN        0.0   \n",
       "1           AFG      Asia  Afghanistan  2020-01-04          NaN        0.0   \n",
       "2           AFG      Asia  Afghanistan  2020-01-05          NaN        0.0   \n",
       "3           AFG      Asia  Afghanistan  2020-01-06          NaN        0.0   \n",
       "4           AFG      Asia  Afghanistan  2020-01-07          NaN        0.0   \n",
       "...         ...       ...          ...         ...          ...        ...   \n",
       "346666      ZWE    Africa     Zimbabwe  2023-09-30     265753.0        0.0   \n",
       "346667      ZWE    Africa     Zimbabwe  2023-10-01     265753.0        0.0   \n",
       "346668      ZWE    Africa     Zimbabwe  2023-10-02     265753.0        0.0   \n",
       "346669      ZWE    Africa     Zimbabwe  2023-10-03     265753.0        0.0   \n",
       "346670      ZWE    Africa     Zimbabwe  2023-10-04     265753.0        0.0   \n",
       "\n",
       "        new_cases_smoothed  total_deaths  new_deaths  new_deaths_smoothed  \\\n",
       "0                      NaN           NaN         0.0                  NaN   \n",
       "1                      NaN           NaN         0.0                  NaN   \n",
       "2                      NaN           NaN         0.0                  NaN   \n",
       "3                      NaN           NaN         0.0                  NaN   \n",
       "4                      NaN           NaN         0.0                  NaN   \n",
       "...                    ...           ...         ...                  ...   \n",
       "346666               0.714        5718.0         0.0                  0.0   \n",
       "346667               0.714        5718.0         0.0                  0.0   \n",
       "346668               0.714        5718.0         0.0                  0.0   \n",
       "346669               0.000        5718.0         0.0                  0.0   \n",
       "346670               0.000        5718.0         0.0                  0.0   \n",
       "\n",
       "        ...  male_smokers  handwashing_facilities  hospital_beds_per_thousand  \\\n",
       "0       ...           NaN                  37.746                         0.5   \n",
       "1       ...           NaN                  37.746                         0.5   \n",
       "2       ...           NaN                  37.746                         0.5   \n",
       "3       ...           NaN                  37.746                         0.5   \n",
       "4       ...           NaN                  37.746                         0.5   \n",
       "...     ...           ...                     ...                         ...   \n",
       "346666  ...          30.7                  36.791                         1.7   \n",
       "346667  ...          30.7                  36.791                         1.7   \n",
       "346668  ...          30.7                  36.791                         1.7   \n",
       "346669  ...          30.7                  36.791                         1.7   \n",
       "346670  ...          30.7                  36.791                         1.7   \n",
       "\n",
       "        life_expectancy  human_development_index  population  \\\n",
       "0                 64.83                    0.511  41128772.0   \n",
       "1                 64.83                    0.511  41128772.0   \n",
       "2                 64.83                    0.511  41128772.0   \n",
       "3                 64.83                    0.511  41128772.0   \n",
       "4                 64.83                    0.511  41128772.0   \n",
       "...                 ...                      ...         ...   \n",
       "346666            61.49                    0.571  16320539.0   \n",
       "346667            61.49                    0.571  16320539.0   \n",
       "346668            61.49                    0.571  16320539.0   \n",
       "346669            61.49                    0.571  16320539.0   \n",
       "346670            61.49                    0.571  16320539.0   \n",
       "\n",
       "        excess_mortality_cumulative_absolute  excess_mortality_cumulative  \\\n",
       "0                                        NaN                          NaN   \n",
       "1                                        NaN                          NaN   \n",
       "2                                        NaN                          NaN   \n",
       "3                                        NaN                          NaN   \n",
       "4                                        NaN                          NaN   \n",
       "...                                      ...                          ...   \n",
       "346666                                   NaN                          NaN   \n",
       "346667                                   NaN                          NaN   \n",
       "346668                                   NaN                          NaN   \n",
       "346669                                   NaN                          NaN   \n",
       "346670                                   NaN                          NaN   \n",
       "\n",
       "        excess_mortality  excess_mortality_cumulative_per_million  \n",
       "0                    NaN                                      NaN  \n",
       "1                    NaN                                      NaN  \n",
       "2                    NaN                                      NaN  \n",
       "3                    NaN                                      NaN  \n",
       "4                    NaN                                      NaN  \n",
       "...                  ...                                      ...  \n",
       "346666               NaN                                      NaN  \n",
       "346667               NaN                                      NaN  \n",
       "346668               NaN                                      NaN  \n",
       "346669               NaN                                      NaN  \n",
       "346670               NaN                                      NaN  \n",
       "\n",
       "[346671 rows x 67 columns]"
      ]
     },
     "execution_count": 8,
     "metadata": {},
     "output_type": "execute_result"
    }
   ],
   "source": [
    "covid_data"
   ]
  },
  {
   "cell_type": "code",
   "execution_count": 9,
   "metadata": {},
   "outputs": [
    {
     "name": "stdout",
     "output_type": "stream",
     "text": [
      "<class 'pandas.core.frame.DataFrame'>\n",
      "RangeIndex: 346671 entries, 0 to 346670\n",
      "Data columns (total 67 columns):\n",
      " #   Column                                      Non-Null Count   Dtype  \n",
      "---  ------                                      --------------   -----  \n",
      " 0   iso_code                                    346671 non-null  object \n",
      " 1   continent                                   330156 non-null  object \n",
      " 2   location                                    346671 non-null  object \n",
      " 3   date                                        346671 non-null  object \n",
      " 4   total_cases                                 308672 non-null  float64\n",
      " 5   new_cases                                   337028 non-null  float64\n",
      " 6   new_cases_smoothed                          335769 non-null  float64\n",
      " 7   total_deaths                                287169 non-null  float64\n",
      " 8   new_deaths                                  337072 non-null  float64\n",
      " 9   new_deaths_smoothed                         335842 non-null  float64\n",
      " 10  total_cases_per_million                     308672 non-null  float64\n",
      " 11  new_cases_per_million                       337028 non-null  float64\n",
      " 12  new_cases_smoothed_per_million              335769 non-null  float64\n",
      " 13  total_deaths_per_million                    287169 non-null  float64\n",
      " 14  new_deaths_per_million                      337072 non-null  float64\n",
      " 15  new_deaths_smoothed_per_million             335842 non-null  float64\n",
      " 16  reproduction_rate                           184817 non-null  float64\n",
      " 17  icu_patients                                37524 non-null   float64\n",
      " 18  icu_patients_per_million                    37524 non-null   float64\n",
      " 19  hosp_patients                               38779 non-null   float64\n",
      " 20  hosp_patients_per_million                   38779 non-null   float64\n",
      " 21  weekly_icu_admissions                       10164 non-null   float64\n",
      " 22  weekly_icu_admissions_per_million           10164 non-null   float64\n",
      " 23  weekly_hosp_admissions                      23163 non-null   float64\n",
      " 24  weekly_hosp_admissions_per_million          23163 non-null   float64\n",
      " 25  total_tests                                 79387 non-null   float64\n",
      " 26  new_tests                                   75403 non-null   float64\n",
      " 27  total_tests_per_thousand                    79387 non-null   float64\n",
      " 28  new_tests_per_thousand                      75403 non-null   float64\n",
      " 29  new_tests_smoothed                          103965 non-null  float64\n",
      " 30  new_tests_smoothed_per_thousand             103965 non-null  float64\n",
      " 31  positive_rate                               95927 non-null   float64\n",
      " 32  tests_per_case                              94348 non-null   float64\n",
      " 33  tests_units                                 106788 non-null  object \n",
      " 34  total_vaccinations                          79037 non-null   float64\n",
      " 35  people_vaccinated                           75656 non-null   float64\n",
      " 36  people_fully_vaccinated                     72307 non-null   float64\n",
      " 37  total_boosters                              47311 non-null   float64\n",
      " 38  new_vaccinations                            65093 non-null   float64\n",
      " 39  new_vaccinations_smoothed                   180200 non-null  float64\n",
      " 40  total_vaccinations_per_hundred              79037 non-null   float64\n",
      " 41  people_vaccinated_per_hundred               75656 non-null   float64\n",
      " 42  people_fully_vaccinated_per_hundred         72307 non-null   float64\n",
      " 43  total_boosters_per_hundred                  47311 non-null   float64\n",
      " 44  new_vaccinations_smoothed_per_million       180200 non-null  float64\n",
      " 45  new_people_vaccinated_smoothed              180004 non-null  float64\n",
      " 46  new_people_vaccinated_smoothed_per_hundred  180004 non-null  float64\n",
      " 47  stringency_index                            197651 non-null  float64\n",
      " 48  population_density                          294238 non-null  float64\n",
      " 49  median_age                                  273651 non-null  float64\n",
      " 50  aged_65_older                               264076 non-null  float64\n",
      " 51  aged_70_older                               270909 non-null  float64\n",
      " 52  gdp_per_capita                              268189 non-null  float64\n",
      " 53  extreme_poverty                             172832 non-null  float64\n",
      " 54  cardiovasc_death_rate                       268797 non-null  float64\n",
      " 55  diabetes_prevalence                         282475 non-null  float64\n",
      " 56  female_smokers                              201641 non-null  float64\n",
      " 57  male_smokers                                198899 non-null  float64\n",
      " 58  handwashing_facilities                      131639 non-null  float64\n",
      " 59  hospital_beds_per_thousand                  237287 non-null  float64\n",
      " 60  life_expectancy                             318894 non-null  float64\n",
      " 61  human_development_index                     260532 non-null  float64\n",
      " 62  population                                  346671 non-null  float64\n",
      " 63  excess_mortality_cumulative_absolute        12048 non-null   float64\n",
      " 64  excess_mortality_cumulative                 12048 non-null   float64\n",
      " 65  excess_mortality                            12048 non-null   float64\n",
      " 66  excess_mortality_cumulative_per_million     12048 non-null   float64\n",
      "dtypes: float64(62), object(5)\n",
      "memory usage: 177.2+ MB\n"
     ]
    }
   ],
   "source": [
    "covid_data.info()"
   ]
  },
  {
   "cell_type": "markdown",
   "metadata": {
    "colab_type": "text",
    "id": "cysxsu-3j3ms"
   },
   "source": [
    "The output generated by a code cell is printed right below it. In the case of a DataFrame we get a table. By convention, the rows are the data entries and the columns are the data dimensions. The first column on the left side is the index.\n",
    "\n",
    "Now let's do something with our newly created DataFrame. For example, we could get the largest amount of new cases using the ```max``` method."
   ]
  },
  {
   "cell_type": "code",
   "execution_count": 10,
   "metadata": {
    "colab": {
     "base_uri": "https://localhost:8080/",
     "height": 34
    },
    "colab_type": "code",
    "executionInfo": {
     "elapsed": 1123,
     "status": "ok",
     "timestamp": 1598360699413,
     "user": {
      "displayName": "Marian Dörk",
      "photoUrl": "https://lh3.googleusercontent.com/a-/AOh14GhqiajTdRS6NXELnqFzS3NNM3uxy6nUDGSMCjvAjw=s64",
      "userId": "05248840544598202773"
     },
     "user_tz": -120
    },
    "id": "KwgDbPOKVuEK",
    "outputId": "e1104602-c216-423b-a308-7aa5a0b2e844"
   },
   "outputs": [
    {
     "data": {
      "text/plain": [
       "771150460.0"
      ]
     },
     "execution_count": 10,
     "metadata": {},
     "output_type": "execute_result"
    }
   ],
   "source": [
    "covid_data.total_cases.max()"
   ]
  },
  {
   "cell_type": "markdown",
   "metadata": {
    "colab_type": "text",
    "id": "cv_uzWGvBm4N"
   },
   "source": [
    "✏️ *What would it take to get the highest positive rate?*"
   ]
  },
  {
   "cell_type": "code",
   "execution_count": 11,
   "metadata": {
    "colab": {},
    "colab_type": "code",
    "id": "2Co8p4WfBwKV"
   },
   "outputs": [
    {
     "data": {
      "text/plain": [
       "8401961.0"
      ]
     },
     "execution_count": 11,
     "metadata": {},
     "output_type": "execute_result"
    }
   ],
   "source": [
    "covid_data.new_cases.max()"
   ]
  },
  {
   "cell_type": "markdown",
   "metadata": {
    "colab_type": "text",
    "id": "-FiavujLB14l"
   },
   "source": [
    "To get the entry belonging to the biggest amount of new cases, one needs to **loc**ate it via its index:"
   ]
  },
  {
   "cell_type": "code",
   "execution_count": 12,
   "metadata": {
    "colab": {
     "base_uri": "https://localhost:8080/",
     "height": 102
    },
    "colab_type": "code",
    "executionInfo": {
     "elapsed": 1111,
     "status": "ok",
     "timestamp": 1598360699414,
     "user": {
      "displayName": "Marian Dörk",
      "photoUrl": "https://lh3.googleusercontent.com/a-/AOh14GhqiajTdRS6NXELnqFzS3NNM3uxy6nUDGSMCjvAjw=s64",
      "userId": "05248840544598202773"
     },
     "user_tz": -120
    },
    "id": "k2jxlpQYA1v9",
    "outputId": "1f5f9818-d4e3-4cce-8786-aee3c5d535bd"
   },
   "outputs": [
    {
     "data": {
      "text/plain": [
       "iso_code                                       OWID_WRL\n",
       "continent                                           NaN\n",
       "location                                          World\n",
       "date                                         2023-10-01\n",
       "total_cases                                 771150460.0\n",
       "                                               ...     \n",
       "population                                 7975105024.0\n",
       "excess_mortality_cumulative_absolute                NaN\n",
       "excess_mortality_cumulative                         NaN\n",
       "excess_mortality                                    NaN\n",
       "excess_mortality_cumulative_per_million             NaN\n",
       "Name: 342547, Length: 67, dtype: object"
      ]
     },
     "execution_count": 12,
     "metadata": {},
     "output_type": "execute_result"
    }
   ],
   "source": [
    "covid_data.loc[ covid_data.total_cases.idxmax() ]"
   ]
  },
  {
   "cell_type": "markdown",
   "metadata": {
    "colab_type": "text",
    "id": "rsKefF68DXNs"
   },
   "source": [
    "We can also calculate averages for each numeric column by selecting them first and then calculating the mean:"
   ]
  },
  {
   "cell_type": "code",
   "execution_count": 13,
   "metadata": {
    "colab": {
     "base_uri": "https://localhost:8080/",
     "height": 85
    },
    "colab_type": "code",
    "executionInfo": {
     "elapsed": 1102,
     "status": "ok",
     "timestamp": 1598360699415,
     "user": {
      "displayName": "Marian Dörk",
      "photoUrl": "https://lh3.googleusercontent.com/a-/AOh14GhqiajTdRS6NXELnqFzS3NNM3uxy6nUDGSMCjvAjw=s64",
      "userId": "05248840544598202773"
     },
     "user_tz": -120
    },
    "id": "KEInp_PmVroj",
    "outputId": "a35b6be0-da22-460d-8e4c-dd440ea49763"
   },
   "outputs": [
    {
     "data": {
      "text/plain": [
       "total_cases    6.609069e+06\n",
       "new_cases      9.695906e+03\n",
       "new_deaths     8.639289e+01\n",
       "dtype: float64"
      ]
     },
     "execution_count": 13,
     "metadata": {},
     "output_type": "execute_result"
    }
   ],
   "source": [
    "covid_data[['total_cases', 'new_cases', 'new_deaths']].mean(axis=0)"
   ]
  },
  {
   "cell_type": "markdown",
   "metadata": {
    "colab_type": "text",
    "id": "7-ouzVpYZkyD"
   },
   "source": [
    "There is so much more to discover, some of which you will do over the course of the tutorials. The [DataFrame page](https://pandas.pydata.org/pandas-docs/stable/reference/api/pandas.DataFrame.html) in the pandas reference gives a complete (i.e., long) list of all methods provided by the data structure. \n",
    "\n",
    "If you want to do something specific, but do not know the particular method name, a well formulated search query in a search engine can help wonders. In particular, the discussions on Stack Overflow contain various helpful entries. Quite often it is the case that somebody else has had a similar problem that you're trying to solve. The key then is to precisely formulate your query. For this it is good to understand the basic terminology of Python, pandas, etc."
   ]
  },
  {
   "cell_type": "markdown",
   "metadata": {
    "colab_type": "text",
    "id": "RKg7MCJyDpKY"
   },
   "source": [
    "## 🌠 Let's reach to the stars \n",
    "\n",
    "Altair is the brightest star in the Aquila constellation and it is also the name of a versatile [visualization library](https://altair-viz.github.io/)  specifically created for Python based on the popular Vega-Lite visualization grammar. \n",
    "\n",
    "With 📊Altair we can create charts and visualizations in little time. \n",
    "\n",
    "In order to put Altair to use, we first have to import it and give it a short name:\n"
   ]
  },
  {
   "cell_type": "code",
   "execution_count": 14,
   "metadata": {
    "colab": {},
    "colab_type": "code",
    "id": "GKERU_uFKoi4"
   },
   "outputs": [],
   "source": [
    "import altair as alt"
   ]
  },
  {
   "cell_type": "markdown",
   "metadata": {},
   "source": [
    "First lets prepare the data. Since Altair only supports dataframes up to 5000 rows, we need a bit of work to get our data in form! So lets by start by aggregating our data."
   ]
  },
  {
   "cell_type": "code",
   "execution_count": 15,
   "metadata": {},
   "outputs": [],
   "source": [
    "data = covid_data.groupby('continent').sum().reset_index()"
   ]
  },
  {
   "cell_type": "markdown",
   "metadata": {},
   "source": [
    "First we call ```groupby``` to group our data by the ```continent``` column, then we sum the values in each group. The result of this computation has the grouped-by values in its index. But since Altair does not support the creation of axes out of indexes we reset the index to a column by executing ```reset_index``` on the resulting dataframe."
   ]
  },
  {
   "cell_type": "code",
   "execution_count": 16,
   "metadata": {
    "colab": {
     "base_uri": "https://localhost:8080/",
     "height": 416
    },
    "colab_type": "code",
    "executionInfo": {
     "elapsed": 1581,
     "status": "ok",
     "timestamp": 1598360699907,
     "user": {
      "displayName": "Marian Dörk",
      "photoUrl": "https://lh3.googleusercontent.com/a-/AOh14GhqiajTdRS6NXELnqFzS3NNM3uxy6nUDGSMCjvAjw=s64",
      "userId": "05248840544598202773"
     },
     "user_tz": -120
    },
    "id": "5Rf-nuRi1oyC",
    "outputId": "a8039def-b166-4a98-d0f0-15c1b0326bc2"
   },
   "outputs": [
    {
     "data": {
      "text/html": [
       "\n",
       "<style>\n",
       "  #altair-viz-8c92e1f5d69a4f8ab4d8f9b1833aff4a.vega-embed {\n",
       "    width: 100%;\n",
       "    display: flex;\n",
       "  }\n",
       "\n",
       "  #altair-viz-8c92e1f5d69a4f8ab4d8f9b1833aff4a.vega-embed details,\n",
       "  #altair-viz-8c92e1f5d69a4f8ab4d8f9b1833aff4a.vega-embed details summary {\n",
       "    position: relative;\n",
       "  }\n",
       "</style>\n",
       "<div id=\"altair-viz-8c92e1f5d69a4f8ab4d8f9b1833aff4a\"></div>\n",
       "<script type=\"text/javascript\">\n",
       "  var VEGA_DEBUG = (typeof VEGA_DEBUG == \"undefined\") ? {} : VEGA_DEBUG;\n",
       "  (function(spec, embedOpt){\n",
       "    let outputDiv = document.currentScript.previousElementSibling;\n",
       "    if (outputDiv.id !== \"altair-viz-8c92e1f5d69a4f8ab4d8f9b1833aff4a\") {\n",
       "      outputDiv = document.getElementById(\"altair-viz-8c92e1f5d69a4f8ab4d8f9b1833aff4a\");\n",
       "    }\n",
       "    const paths = {\n",
       "      \"vega\": \"https://cdn.jsdelivr.net/npm/vega@5?noext\",\n",
       "      \"vega-lib\": \"https://cdn.jsdelivr.net/npm/vega-lib?noext\",\n",
       "      \"vega-lite\": \"https://cdn.jsdelivr.net/npm/vega-lite@5.8.0?noext\",\n",
       "      \"vega-embed\": \"https://cdn.jsdelivr.net/npm/vega-embed@6?noext\",\n",
       "    };\n",
       "\n",
       "    function maybeLoadScript(lib, version) {\n",
       "      var key = `${lib.replace(\"-\", \"\")}_version`;\n",
       "      return (VEGA_DEBUG[key] == version) ?\n",
       "        Promise.resolve(paths[lib]) :\n",
       "        new Promise(function(resolve, reject) {\n",
       "          var s = document.createElement('script');\n",
       "          document.getElementsByTagName(\"head\")[0].appendChild(s);\n",
       "          s.async = true;\n",
       "          s.onload = () => {\n",
       "            VEGA_DEBUG[key] = version;\n",
       "            return resolve(paths[lib]);\n",
       "          };\n",
       "          s.onerror = () => reject(`Error loading script: ${paths[lib]}`);\n",
       "          s.src = paths[lib];\n",
       "        });\n",
       "    }\n",
       "\n",
       "    function showError(err) {\n",
       "      outputDiv.innerHTML = `<div class=\"error\" style=\"color:red;\">${err}</div>`;\n",
       "      throw err;\n",
       "    }\n",
       "\n",
       "    function displayChart(vegaEmbed) {\n",
       "      vegaEmbed(outputDiv, spec, embedOpt)\n",
       "        .catch(err => showError(`Javascript Error: ${err.message}<br>This usually means there's a typo in your chart specification. See the javascript console for the full traceback.`));\n",
       "    }\n",
       "\n",
       "    if(typeof define === \"function\" && define.amd) {\n",
       "      requirejs.config({paths});\n",
       "      require([\"vega-embed\"], displayChart, err => showError(`Error loading script: ${err.message}`));\n",
       "    } else {\n",
       "      maybeLoadScript(\"vega\", \"5\")\n",
       "        .then(() => maybeLoadScript(\"vega-lite\", \"5.8.0\"))\n",
       "        .then(() => maybeLoadScript(\"vega-embed\", \"6\"))\n",
       "        .catch(showError)\n",
       "        .then(() => displayChart(vegaEmbed));\n",
       "    }\n",
       "  })({\"config\": {\"view\": {\"continuousWidth\": 300, \"continuousHeight\": 300}}, \"data\": {\"name\": \"data-f0a2ba772c5a1c7ac513b65e63b87dcc\"}, \"mark\": {\"type\": \"bar\"}, \"encoding\": {\"x\": {\"field\": \"continent\", \"type\": \"nominal\"}, \"y\": {\"field\": \"new_cases\", \"type\": \"quantitative\"}}, \"$schema\": \"https://vega.github.io/schema/vega-lite/v5.8.0.json\", \"datasets\": {\"data-f0a2ba772c5a1c7ac513b65e63b87dcc\": [{\"continent\": \"Africa\", \"total_cases\": 10649499908.0, \"new_cases\": 13132526.0, \"new_cases_smoothed\": 13132292.398, \"total_deaths\": 228712202.0, \"new_deaths\": 261640.0, \"new_deaths_smoothed\": 261267.493, \"total_cases_per_million\": 1725444596.343, \"new_cases_per_million\": 2649390.349, \"new_cases_smoothed_per_million\": 2649376.612, \"total_deaths_per_million\": 15133909.062, \"new_deaths_per_million\": 18368.228, \"new_deaths_smoothed_per_million\": 18323.806, \"reproduction_rate\": 41237.32, \"icu_patients\": 718183.0, \"icu_patients_per_million\": 12083.418, \"hosp_patients\": 5107144.0, \"hosp_patients_per_million\": 85269.86, \"weekly_icu_admissions\": 0.0, \"weekly_icu_admissions_per_million\": 0.0, \"weekly_hosp_admissions\": 521471.0, \"weekly_hosp_admissions_per_million\": 8706.584, \"total_tests\": 22213357604.0, \"new_tests\": 61532819.0, \"total_tests_per_thousand\": 894799.048, \"new_tests_per_thousand\": 2946.482, \"new_tests_smoothed\": 90963215.0, \"new_tests_smoothed_per_thousand\": 5559.793, \"positive_rate\": 1393.3409, \"tests_per_case\": 2064272.6, \"total_vaccinations\": 50385456841.0, \"people_vaccinated\": 29745620510.0, \"people_fully_vaccinated\": 22495256973.0, \"total_boosters\": 2541890034.0, \"new_vaccinations\": 117367074.0, \"new_vaccinations_smoothed\": 851344718.0, \"total_vaccinations_per_hundred\": 189709.64, \"people_vaccinated_per_hundred\": 110561.86, \"people_fully_vaccinated_per_hundred\": 85924.91, \"total_boosters_per_hundred\": 10782.48, \"new_vaccinations_smoothed_per_million\": 37441227.0, \"new_people_vaccinated_smoothed\": 548542745.0, \"new_people_vaccinated_smoothed_per_hundred\": 2243.374, \"stringency_index\": 2131520.7, \"population_density\": 7520072.1, \"median_age\": 1637413.7, \"aged_65_older\": 271651.311, \"aged_70_older\": 174236.286, \"gdp_per_capita\": 395565537.528, \"extreme_poverty\": 1916795.1, \"cardiovasc_death_rate\": 21269777.631, \"diabetes_prevalence\": 416770.29, \"female_smokers\": 127640.1, \"male_smokers\": 1353588.3, \"handwashing_facilities\": 1517466.672, \"hospital_beds_per_thousand\": 82561.62, \"life_expectancy\": 5076403.41, \"human_development_index\": 40744.749, \"population\": 1955266770944.0, \"excess_mortality_cumulative_absolute\": 42119817.38532614, \"excess_mortality_cumulative\": 8492.75, \"excess_mortality\": 9326.78, \"excess_mortality_cumulative_per_million\": 952709.05365136}, {\"continent\": \"Asia\", \"total_cases\": 161191026021.0, \"new_cases\": 300702706.0, \"new_cases_smoothed\": 300699569.992, \"total_deaths\": 1297304259.0, \"new_deaths\": 1633966.0, \"new_deaths_smoothed\": 1633867.311, \"total_cases_per_million\": 4329213588.838, \"new_cases_per_million\": 6730012.651, \"new_cases_smoothed_per_million\": 6729947.691, \"total_deaths_per_million\": 26007607.323, \"new_deaths_per_million\": 31960.339, \"new_deaths_smoothed_per_million\": 31958.772, \"reproduction_rate\": 43268.07, \"icu_patients\": 905649.0, \"icu_patients_per_million\": 29200.581, \"hosp_patients\": 6788690.0, \"hosp_patients_per_million\": 222603.28, \"weekly_icu_admissions\": 76321.0, \"weekly_icu_admissions_per_million\": 5736.733, \"weekly_hosp_admissions\": 6648330.0, \"weekly_hosp_admissions_per_million\": 237846.243, \"total_tests\": 576014519305.0, \"new_tests\": 1798337488.0, \"total_tests_per_thousand\": 16107194.612, \"new_tests_per_thousand\": 60790.714, \"new_tests_smoothed\": 11018265047.0, \"new_tests_smoothed_per_thousand\": 78680.775, \"positive_rate\": 1939.5681, \"tests_per_case\": 220738102.1, \"total_vaccinations\": 4048420787093.0, \"people_vaccinated\": 1206556816603.0, \"people_fully_vaccinated\": 1027342056650.0, \"total_boosters\": 272240860541.0, \"new_vaccinations\": 7550334933.0, \"new_vaccinations_smoothed\": 9068704897.0, \"total_vaccinations_per_hundred\": 2231020.48, \"people_vaccinated_per_hundred\": 929457.84, \"people_fully_vaccinated_per_hundred\": 815249.55, \"total_boosters_per_hundred\": 343119.89, \"new_vaccinations_smoothed_per_million\": 90901157.0, \"new_people_vaccinated_smoothed\": 3062225797.0, \"new_people_vaccinated_smoothed_per_hundred\": 3428.695, \"stringency_index\": 2393659.13, \"population_density\": 52716531.595, \"median_age\": 2076700.3, \"aged_65_older\": 432019.964, \"aged_70_older\": 277696.195, \"gdp_per_capita\": 1517777579.547, \"extreme_poverty\": 221669.2, \"cardiovasc_death_rate\": 19487708.102, \"diabetes_prevalence\": 590523.43, \"female_smokers\": 250371.9, \"male_smokers\": 2068907.4, \"handwashing_facilities\": 2577212.339, \"hospital_beds_per_thousand\": 199544.24, \"life_expectancy\": 5060752.98, \"human_development_index\": 47598.021, \"population\": 6483321682000.0, \"excess_mortality_cumulative_absolute\": 47389753.99388824, \"excess_mortality_cumulative\": 15894.9, \"excess_mortality\": 20408.44, \"excess_mortality_cumulative_per_million\": 1564769.6314708}, {\"continent\": \"Europe\", \"total_cases\": 160293858570.0, \"new_cases\": 249577570.0, \"new_cases_smoothed\": 249559215.631, \"total_deaths\": 1725779110.0, \"new_deaths\": 2078500.0, \"new_deaths_smoothed\": 2078393.468, \"total_cases_per_million\": 13194488924.339, \"new_cases_per_million\": 20301063.925, \"new_cases_smoothed_per_million\": 20300562.109, \"total_deaths_per_million\": 109000068.889, \"new_deaths_per_million\": 133360.773, \"new_deaths_smoothed_per_million\": 133350.624, \"reproduction_rate\": 47085.74, \"icu_patients\": 10081507.0, \"icu_patients_per_million\": 427393.247, \"hosp_patients\": 87481493.0, \"hosp_patients_per_million\": 4401184.375, \"weekly_icu_admissions\": 2986823.0, \"weekly_icu_admissions_per_million\": 78757.378, \"weekly_hosp_admissions\": 45481904.0, \"weekly_hosp_admissions_per_million\": 1526898.669, \"total_tests\": 609317604566.0, \"new_tests\": 1954533982.0, \"total_tests_per_thousand\": 47790939.581, \"new_tests_per_thousand\": 157424.835, \"new_tests_smoothed\": 2344724520.0, \"new_tests_smoothed_per_thousand\": 175581.107, \"positive_rate\": 3191.2314, \"tests_per_case\": 1897861.9, \"total_vaccinations\": 704083883811.0, \"people_vaccinated\": 290621193129.0, \"people_fully_vaccinated\": 259098479826.0, \"total_boosters\": 153728370293.0, \"new_vaccinations\": 1265521527.0, \"new_vaccinations_smoothed\": 1562032543.0, \"total_vaccinations_per_hundred\": 3380533.05, \"people_vaccinated_per_hundred\": 1371220.27, \"people_fully_vaccinated_per_hundred\": 1178571.04, \"total_boosters_per_hundred\": 658128.87, \"new_vaccinations_smoothed_per_million\": 103058993.0, \"new_people_vaccinated_smoothed\": 573689458.0, \"new_people_vaccinated_smoothed_per_hundred\": 3688.436, \"stringency_index\": 1887589.35, \"population_density\": 41249384.171, \"median_age\": 2309616.3, \"aged_65_older\": 972869.259, \"aged_70_older\": 630138.414, \"gdp_per_capita\": 1922765072.5410001, \"extreme_poverty\": 37198.2, \"cardiovasc_death_rate\": 12950561.423, \"diabetes_prevalence\": 395928.52999999997, \"female_smokers\": 1284896.2, \"male_smokers\": 1953923.2, \"handwashing_facilities\": 386432.80199999997, \"hospital_beds_per_thousand\": 304762.886, \"life_expectancy\": 5254648.74, \"human_development_index\": 50715.892, \"population\": 1111974890428.0, \"excess_mortality_cumulative_absolute\": 214077237.0291582, \"excess_mortality_cumulative\": 50403.73, \"excess_mortality\": 59561.07, \"excess_mortality_cumulative_per_million\": 12365801.7759233}, {\"continent\": \"North America\", \"total_cases\": 89450824644.0, \"new_cases\": 124492565.0, \"new_cases_smoothed\": 124492373.385, \"total_deaths\": 1380134157.0, \"new_deaths\": 1606035.0, \"new_deaths_smoothed\": 1605000.225, \"total_cases_per_million\": 6088862291.257, \"new_cases_per_million\": 9492143.896, \"new_cases_smoothed_per_million\": 9491553.976, \"total_deaths_per_million\": 46904317.034, \"new_deaths_per_million\": 62208.122, \"new_deaths_smoothed_per_million\": 62188.452, \"reproduction_rate\": 19165.89, \"icu_patients\": 10713755.0, \"icu_patients_per_million\": 42797.845, \"hosp_patients\": 51547975.0, \"hosp_patients_per_million\": 247232.847, \"weekly_icu_admissions\": 0.0, \"weekly_icu_admissions_per_million\": 0.0, \"weekly_hosp_admissions\": 46244918.0, \"weekly_hosp_admissions_per_million\": 136702.061, \"total_tests\": 381789868848.0, \"new_tests\": 1017159368.0, \"total_tests_per_thousand\": 4101852.242, \"new_tests_per_thousand\": 11816.37, \"new_tests_smoothed\": 1019706497.0, \"new_tests_smoothed_per_thousand\": 17261.03, \"positive_rate\": 1625.1374, \"tests_per_case\": 339573.4, \"total_vaccinations\": 533962933979.0, \"people_vaccinated\": 239084746253.0, \"people_fully_vaccinated\": 202570585655.0, \"total_boosters\": 46634832815.0, \"new_vaccinations\": 998301280.0, \"new_vaccinations_smoothed\": 1148268701.0, \"total_vaccinations_per_hundred\": 985100.68, \"people_vaccinated_per_hundred\": 430093.55, \"people_fully_vaccinated_per_hundred\": 369093.79, \"total_boosters_per_hundred\": 96864.98, \"new_vaccinations_smoothed_per_million\": 49556633.0, \"new_people_vaccinated_smoothed\": 458792704.0, \"new_people_vaccinated_smoothed_per_hundred\": 2061.515, \"stringency_index\": 1035444.26, \"population_density\": 13055079.811999999, \"median_age\": 1258003.6, \"aged_65_older\": 340985.597, \"aged_70_older\": 230730.32, \"gdp_per_capita\": 801952871.031, \"extreme_poverty\": 86242.1, \"cardiovasc_death_rate\": 7025102.824, \"diabetes_prevalence\": 462570.26, \"female_smokers\": 123560.0, \"male_smokers\": 367084.1, \"handwashing_facilities\": 1382194.4209999999, \"hospital_beds_per_thousand\": 73052.41, \"life_expectancy\": 4235000.52, \"human_development_index\": 23840.061, \"population\": 823637777056.0, \"excess_mortality_cumulative_absolute\": 227013826.48386484, \"excess_mortality_cumulative\": 17397.94, \"excess_mortality\": 22196.81, \"excess_mortality_cumulative_per_million\": 2630657.57771303}, {\"continent\": \"Oceania\", \"total_cases\": 7121351790.0, \"new_cases\": 14484161.0, \"new_cases_smoothed\": 14484138.924, \"total_deaths\": 14203672.0, \"new_deaths\": 29831.0, \"new_deaths_smoothed\": 29831.27, \"total_cases_per_million\": 2659446117.805, \"new_cases_per_million\": 5591736.54, \"new_cases_smoothed_per_million\": 5591538.353, \"total_deaths_per_million\": 8295864.849, \"new_deaths_per_million\": 12904.646, \"new_deaths_smoothed_per_million\": 12904.65, \"reproduction_rate\": 4425.14, \"icu_patients\": 94924.0, \"icu_patients_per_million\": 3626.115, \"hosp_patients\": 1761431.0, \"hosp_patients_per_million\": 67288.181, \"weekly_icu_admissions\": 0.0, \"weekly_icu_admissions_per_million\": 0.0, \"weekly_hosp_admissions\": 0.0, \"weekly_hosp_admissions_per_million\": 0.0, \"total_tests\": 24123978485.0, \"new_tests\": 78409471.0, \"total_tests_per_thousand\": 2274064.393, \"new_tests_per_thousand\": 7262.597, \"new_tests_smoothed\": 81371985.0, \"new_tests_smoothed_per_thousand\": 8744.989, \"positive_rate\": 188.2555, \"tests_per_case\": 1606640.1, \"total_vaccinations\": 25266886911.0, \"people_vaccinated\": 7713764498.0, \"people_fully_vaccinated\": 7968658443.0, \"total_boosters\": 4926422891.0, \"new_vaccinations\": 74542164.0, \"new_vaccinations_smoothed\": 82636022.0, \"total_vaccinations_per_hundred\": 252421.03, \"people_vaccinated_per_hundred\": 98100.59, \"people_fully_vaccinated_per_hundred\": 89828.62, \"total_boosters_per_hundred\": 45290.36, \"new_vaccinations_smoothed_per_million\": 32294290.0, \"new_people_vaccinated_smoothed\": 28946969.0, \"new_people_vaccinated_smoothed_per_hundred\": 1226.192, \"stringency_index\": 348205.39, \"population_density\": 3894182.005, \"median_age\": 492089.8, \"aged_65_older\": 131864.574, \"aged_70_older\": 80502.91, \"gdp_per_capita\": 203839238.764, \"extreme_poverty\": 81575.0, \"cardiovasc_death_rate\": 6895527.613, \"diabetes_prevalence\": 412059.12, \"female_smokers\": 245970.4, \"male_smokers\": 483705.3, \"handwashing_facilities\": 196876.971, \"hospital_beds_per_thousand\": 37226.49, \"life_expectancy\": 2322653.41, \"human_development_index\": 11749.043, \"population\": 61774518907.0, \"excess_mortality_cumulative_absolute\": 843837.4346181001, \"excess_mortality_cumulative\": -330.34, \"excess_mortality\": 1603.48, \"excess_mortality_cumulative_per_million\": 8935.89193608}, {\"continent\": \"South America\", \"total_cases\": 52740683415.0, \"new_cases\": 68841865.0, \"new_cases_smoothed\": 68804084.636, \"total_deaths\": 1238360628.0, \"new_deaths\": 1359968.0, \"new_deaths_smoothed\": 1359953.737, \"total_cases_per_million\": 1774511826.207, \"new_cases_per_million\": 2564529.267, \"new_cases_smoothed_per_million\": 2564086.726, \"total_deaths_per_million\": 29256587.96, \"new_deaths_per_million\": 33187.369, \"new_deaths_smoothed_per_million\": 33186.159, \"reproduction_rate\": 12126.19, \"icu_patients\": 2934855.0, \"icu_patients_per_million\": 95905.87, \"hosp_patients\": 368769.0, \"hosp_patients_per_million\": 30167.332, \"weekly_icu_admissions\": 400025.0, \"weekly_icu_admissions_per_million\": 20405.537, \"weekly_hosp_admissions\": 1611040.0, \"weekly_hosp_admissions_per_million\": 82180.246, \"total_tests\": 61969482409.0, \"new_tests\": 163548802.0, \"total_tests_per_thousand\": 2204962.904, \"new_tests_per_thousand\": 6512.74, \"new_tests_smoothed\": 226542318.0, \"new_tests_smoothed_per_thousand\": 8009.504, \"positive_rate\": 1078.9014, \"tests_per_case\": 131498.0, \"total_vaccinations\": 407756354865.0, \"people_vaccinated\": 176727481924.0, \"people_fully_vaccinated\": 146940964624.0, \"total_boosters\": 82619917630.0, \"new_vaccinations\": 845097479.0, \"new_vaccinations_smoothed\": 959034598.0, \"total_vaccinations_per_hundred\": 890833.55, \"people_vaccinated_per_hundred\": 373654.96, \"people_fully_vaccinated_per_hundred\": 318020.14, \"total_boosters_per_hundred\": 199049.5, \"new_vaccinations_smoothed_per_million\": 24503425.0, \"new_people_vaccinated_smoothed\": 375019789.0, \"new_people_vaccinated_smoothed_per_hundred\": 1003.244, \"stringency_index\": 646050.18, \"population_density\": 401564.85699999996, \"median_age\": 532315.3, \"aged_65_older\": 136369.486, \"aged_70_older\": 89423.914, \"gdp_per_capita\": 228003930.052, \"extreme_poverty\": 35377.3, \"cardiovasc_death_rate\": 3084506.289, \"diabetes_prevalence\": 128596.34, \"female_smokers\": 135134.0, \"male_smokers\": 270859.2, \"handwashing_facilities\": 542839.224, \"hospital_beds_per_thousand\": 34087.82, \"life_expectancy\": 1457818.81, \"human_development_index\": 12568.097, \"population\": 599263709073.0, \"excess_mortality_cumulative_absolute\": 89896807.0212067, \"excess_mortality_cumulative\": 26719.43, \"excess_mortality\": 22361.23, \"excess_mortality_cumulative_per_million\": 2525462.76274554}]}}, {\"mode\": \"vega-lite\"});\n",
       "</script>"
      ],
      "text/plain": [
       "alt.Chart(...)"
      ]
     },
     "execution_count": 16,
     "metadata": {},
     "output_type": "execute_result"
    }
   ],
   "source": [
    "alt.Chart(data).mark_bar().encode(x='continent', y='new_cases')"
   ]
  },
  {
   "cell_type": "markdown",
   "metadata": {
    "colab_type": "text",
    "id": "esZqfT7CCsz2"
   },
   "source": [
    "✏️ *Change above chart into a horizontal bar chart of new cases:* "
   ]
  },
  {
   "cell_type": "code",
   "execution_count": 17,
   "metadata": {
    "colab": {},
    "colab_type": "code",
    "id": "Kr-2sFJtC81k"
   },
   "outputs": [
    {
     "data": {
      "text/html": [
       "\n",
       "<style>\n",
       "  #altair-viz-525752a96209497f8d8ef670ed8cb0d8.vega-embed {\n",
       "    width: 100%;\n",
       "    display: flex;\n",
       "  }\n",
       "\n",
       "  #altair-viz-525752a96209497f8d8ef670ed8cb0d8.vega-embed details,\n",
       "  #altair-viz-525752a96209497f8d8ef670ed8cb0d8.vega-embed details summary {\n",
       "    position: relative;\n",
       "  }\n",
       "</style>\n",
       "<div id=\"altair-viz-525752a96209497f8d8ef670ed8cb0d8\"></div>\n",
       "<script type=\"text/javascript\">\n",
       "  var VEGA_DEBUG = (typeof VEGA_DEBUG == \"undefined\") ? {} : VEGA_DEBUG;\n",
       "  (function(spec, embedOpt){\n",
       "    let outputDiv = document.currentScript.previousElementSibling;\n",
       "    if (outputDiv.id !== \"altair-viz-525752a96209497f8d8ef670ed8cb0d8\") {\n",
       "      outputDiv = document.getElementById(\"altair-viz-525752a96209497f8d8ef670ed8cb0d8\");\n",
       "    }\n",
       "    const paths = {\n",
       "      \"vega\": \"https://cdn.jsdelivr.net/npm/vega@5?noext\",\n",
       "      \"vega-lib\": \"https://cdn.jsdelivr.net/npm/vega-lib?noext\",\n",
       "      \"vega-lite\": \"https://cdn.jsdelivr.net/npm/vega-lite@5.8.0?noext\",\n",
       "      \"vega-embed\": \"https://cdn.jsdelivr.net/npm/vega-embed@6?noext\",\n",
       "    };\n",
       "\n",
       "    function maybeLoadScript(lib, version) {\n",
       "      var key = `${lib.replace(\"-\", \"\")}_version`;\n",
       "      return (VEGA_DEBUG[key] == version) ?\n",
       "        Promise.resolve(paths[lib]) :\n",
       "        new Promise(function(resolve, reject) {\n",
       "          var s = document.createElement('script');\n",
       "          document.getElementsByTagName(\"head\")[0].appendChild(s);\n",
       "          s.async = true;\n",
       "          s.onload = () => {\n",
       "            VEGA_DEBUG[key] = version;\n",
       "            return resolve(paths[lib]);\n",
       "          };\n",
       "          s.onerror = () => reject(`Error loading script: ${paths[lib]}`);\n",
       "          s.src = paths[lib];\n",
       "        });\n",
       "    }\n",
       "\n",
       "    function showError(err) {\n",
       "      outputDiv.innerHTML = `<div class=\"error\" style=\"color:red;\">${err}</div>`;\n",
       "      throw err;\n",
       "    }\n",
       "\n",
       "    function displayChart(vegaEmbed) {\n",
       "      vegaEmbed(outputDiv, spec, embedOpt)\n",
       "        .catch(err => showError(`Javascript Error: ${err.message}<br>This usually means there's a typo in your chart specification. See the javascript console for the full traceback.`));\n",
       "    }\n",
       "\n",
       "    if(typeof define === \"function\" && define.amd) {\n",
       "      requirejs.config({paths});\n",
       "      require([\"vega-embed\"], displayChart, err => showError(`Error loading script: ${err.message}`));\n",
       "    } else {\n",
       "      maybeLoadScript(\"vega\", \"5\")\n",
       "        .then(() => maybeLoadScript(\"vega-lite\", \"5.8.0\"))\n",
       "        .then(() => maybeLoadScript(\"vega-embed\", \"6\"))\n",
       "        .catch(showError)\n",
       "        .then(() => displayChart(vegaEmbed));\n",
       "    }\n",
       "  })({\"config\": {\"view\": {\"continuousWidth\": 300, \"continuousHeight\": 300}}, \"data\": {\"name\": \"data-f0a2ba772c5a1c7ac513b65e63b87dcc\"}, \"mark\": {\"type\": \"bar\"}, \"encoding\": {\"x\": {\"field\": \"new_cases\", \"type\": \"quantitative\"}, \"y\": {\"field\": \"continent\", \"type\": \"nominal\"}}, \"height\": {\"step\": 40}, \"width\": 500, \"$schema\": \"https://vega.github.io/schema/vega-lite/v5.8.0.json\", \"datasets\": {\"data-f0a2ba772c5a1c7ac513b65e63b87dcc\": [{\"continent\": \"Africa\", \"total_cases\": 10649499908.0, \"new_cases\": 13132526.0, \"new_cases_smoothed\": 13132292.398, \"total_deaths\": 228712202.0, \"new_deaths\": 261640.0, \"new_deaths_smoothed\": 261267.493, \"total_cases_per_million\": 1725444596.343, \"new_cases_per_million\": 2649390.349, \"new_cases_smoothed_per_million\": 2649376.612, \"total_deaths_per_million\": 15133909.062, \"new_deaths_per_million\": 18368.228, \"new_deaths_smoothed_per_million\": 18323.806, \"reproduction_rate\": 41237.32, \"icu_patients\": 718183.0, \"icu_patients_per_million\": 12083.418, \"hosp_patients\": 5107144.0, \"hosp_patients_per_million\": 85269.86, \"weekly_icu_admissions\": 0.0, \"weekly_icu_admissions_per_million\": 0.0, \"weekly_hosp_admissions\": 521471.0, \"weekly_hosp_admissions_per_million\": 8706.584, \"total_tests\": 22213357604.0, \"new_tests\": 61532819.0, \"total_tests_per_thousand\": 894799.048, \"new_tests_per_thousand\": 2946.482, \"new_tests_smoothed\": 90963215.0, \"new_tests_smoothed_per_thousand\": 5559.793, \"positive_rate\": 1393.3409, \"tests_per_case\": 2064272.6, \"total_vaccinations\": 50385456841.0, \"people_vaccinated\": 29745620510.0, \"people_fully_vaccinated\": 22495256973.0, \"total_boosters\": 2541890034.0, \"new_vaccinations\": 117367074.0, \"new_vaccinations_smoothed\": 851344718.0, \"total_vaccinations_per_hundred\": 189709.64, \"people_vaccinated_per_hundred\": 110561.86, \"people_fully_vaccinated_per_hundred\": 85924.91, \"total_boosters_per_hundred\": 10782.48, \"new_vaccinations_smoothed_per_million\": 37441227.0, \"new_people_vaccinated_smoothed\": 548542745.0, \"new_people_vaccinated_smoothed_per_hundred\": 2243.374, \"stringency_index\": 2131520.7, \"population_density\": 7520072.1, \"median_age\": 1637413.7, \"aged_65_older\": 271651.311, \"aged_70_older\": 174236.286, \"gdp_per_capita\": 395565537.528, \"extreme_poverty\": 1916795.1, \"cardiovasc_death_rate\": 21269777.631, \"diabetes_prevalence\": 416770.29, \"female_smokers\": 127640.1, \"male_smokers\": 1353588.3, \"handwashing_facilities\": 1517466.672, \"hospital_beds_per_thousand\": 82561.62, \"life_expectancy\": 5076403.41, \"human_development_index\": 40744.749, \"population\": 1955266770944.0, \"excess_mortality_cumulative_absolute\": 42119817.38532614, \"excess_mortality_cumulative\": 8492.75, \"excess_mortality\": 9326.78, \"excess_mortality_cumulative_per_million\": 952709.05365136}, {\"continent\": \"Asia\", \"total_cases\": 161191026021.0, \"new_cases\": 300702706.0, \"new_cases_smoothed\": 300699569.992, \"total_deaths\": 1297304259.0, \"new_deaths\": 1633966.0, \"new_deaths_smoothed\": 1633867.311, \"total_cases_per_million\": 4329213588.838, \"new_cases_per_million\": 6730012.651, \"new_cases_smoothed_per_million\": 6729947.691, \"total_deaths_per_million\": 26007607.323, \"new_deaths_per_million\": 31960.339, \"new_deaths_smoothed_per_million\": 31958.772, \"reproduction_rate\": 43268.07, \"icu_patients\": 905649.0, \"icu_patients_per_million\": 29200.581, \"hosp_patients\": 6788690.0, \"hosp_patients_per_million\": 222603.28, \"weekly_icu_admissions\": 76321.0, \"weekly_icu_admissions_per_million\": 5736.733, \"weekly_hosp_admissions\": 6648330.0, \"weekly_hosp_admissions_per_million\": 237846.243, \"total_tests\": 576014519305.0, \"new_tests\": 1798337488.0, \"total_tests_per_thousand\": 16107194.612, \"new_tests_per_thousand\": 60790.714, \"new_tests_smoothed\": 11018265047.0, \"new_tests_smoothed_per_thousand\": 78680.775, \"positive_rate\": 1939.5681, \"tests_per_case\": 220738102.1, \"total_vaccinations\": 4048420787093.0, \"people_vaccinated\": 1206556816603.0, \"people_fully_vaccinated\": 1027342056650.0, \"total_boosters\": 272240860541.0, \"new_vaccinations\": 7550334933.0, \"new_vaccinations_smoothed\": 9068704897.0, \"total_vaccinations_per_hundred\": 2231020.48, \"people_vaccinated_per_hundred\": 929457.84, \"people_fully_vaccinated_per_hundred\": 815249.55, \"total_boosters_per_hundred\": 343119.89, \"new_vaccinations_smoothed_per_million\": 90901157.0, \"new_people_vaccinated_smoothed\": 3062225797.0, \"new_people_vaccinated_smoothed_per_hundred\": 3428.695, \"stringency_index\": 2393659.13, \"population_density\": 52716531.595, \"median_age\": 2076700.3, \"aged_65_older\": 432019.964, \"aged_70_older\": 277696.195, \"gdp_per_capita\": 1517777579.547, \"extreme_poverty\": 221669.2, \"cardiovasc_death_rate\": 19487708.102, \"diabetes_prevalence\": 590523.43, \"female_smokers\": 250371.9, \"male_smokers\": 2068907.4, \"handwashing_facilities\": 2577212.339, \"hospital_beds_per_thousand\": 199544.24, \"life_expectancy\": 5060752.98, \"human_development_index\": 47598.021, \"population\": 6483321682000.0, \"excess_mortality_cumulative_absolute\": 47389753.99388824, \"excess_mortality_cumulative\": 15894.9, \"excess_mortality\": 20408.44, \"excess_mortality_cumulative_per_million\": 1564769.6314708}, {\"continent\": \"Europe\", \"total_cases\": 160293858570.0, \"new_cases\": 249577570.0, \"new_cases_smoothed\": 249559215.631, \"total_deaths\": 1725779110.0, \"new_deaths\": 2078500.0, \"new_deaths_smoothed\": 2078393.468, \"total_cases_per_million\": 13194488924.339, \"new_cases_per_million\": 20301063.925, \"new_cases_smoothed_per_million\": 20300562.109, \"total_deaths_per_million\": 109000068.889, \"new_deaths_per_million\": 133360.773, \"new_deaths_smoothed_per_million\": 133350.624, \"reproduction_rate\": 47085.74, \"icu_patients\": 10081507.0, \"icu_patients_per_million\": 427393.247, \"hosp_patients\": 87481493.0, \"hosp_patients_per_million\": 4401184.375, \"weekly_icu_admissions\": 2986823.0, \"weekly_icu_admissions_per_million\": 78757.378, \"weekly_hosp_admissions\": 45481904.0, \"weekly_hosp_admissions_per_million\": 1526898.669, \"total_tests\": 609317604566.0, \"new_tests\": 1954533982.0, \"total_tests_per_thousand\": 47790939.581, \"new_tests_per_thousand\": 157424.835, \"new_tests_smoothed\": 2344724520.0, \"new_tests_smoothed_per_thousand\": 175581.107, \"positive_rate\": 3191.2314, \"tests_per_case\": 1897861.9, \"total_vaccinations\": 704083883811.0, \"people_vaccinated\": 290621193129.0, \"people_fully_vaccinated\": 259098479826.0, \"total_boosters\": 153728370293.0, \"new_vaccinations\": 1265521527.0, \"new_vaccinations_smoothed\": 1562032543.0, \"total_vaccinations_per_hundred\": 3380533.05, \"people_vaccinated_per_hundred\": 1371220.27, \"people_fully_vaccinated_per_hundred\": 1178571.04, \"total_boosters_per_hundred\": 658128.87, \"new_vaccinations_smoothed_per_million\": 103058993.0, \"new_people_vaccinated_smoothed\": 573689458.0, \"new_people_vaccinated_smoothed_per_hundred\": 3688.436, \"stringency_index\": 1887589.35, \"population_density\": 41249384.171, \"median_age\": 2309616.3, \"aged_65_older\": 972869.259, \"aged_70_older\": 630138.414, \"gdp_per_capita\": 1922765072.5410001, \"extreme_poverty\": 37198.2, \"cardiovasc_death_rate\": 12950561.423, \"diabetes_prevalence\": 395928.52999999997, \"female_smokers\": 1284896.2, \"male_smokers\": 1953923.2, \"handwashing_facilities\": 386432.80199999997, \"hospital_beds_per_thousand\": 304762.886, \"life_expectancy\": 5254648.74, \"human_development_index\": 50715.892, \"population\": 1111974890428.0, \"excess_mortality_cumulative_absolute\": 214077237.0291582, \"excess_mortality_cumulative\": 50403.73, \"excess_mortality\": 59561.07, \"excess_mortality_cumulative_per_million\": 12365801.7759233}, {\"continent\": \"North America\", \"total_cases\": 89450824644.0, \"new_cases\": 124492565.0, \"new_cases_smoothed\": 124492373.385, \"total_deaths\": 1380134157.0, \"new_deaths\": 1606035.0, \"new_deaths_smoothed\": 1605000.225, \"total_cases_per_million\": 6088862291.257, \"new_cases_per_million\": 9492143.896, \"new_cases_smoothed_per_million\": 9491553.976, \"total_deaths_per_million\": 46904317.034, \"new_deaths_per_million\": 62208.122, \"new_deaths_smoothed_per_million\": 62188.452, \"reproduction_rate\": 19165.89, \"icu_patients\": 10713755.0, \"icu_patients_per_million\": 42797.845, \"hosp_patients\": 51547975.0, \"hosp_patients_per_million\": 247232.847, \"weekly_icu_admissions\": 0.0, \"weekly_icu_admissions_per_million\": 0.0, \"weekly_hosp_admissions\": 46244918.0, \"weekly_hosp_admissions_per_million\": 136702.061, \"total_tests\": 381789868848.0, \"new_tests\": 1017159368.0, \"total_tests_per_thousand\": 4101852.242, \"new_tests_per_thousand\": 11816.37, \"new_tests_smoothed\": 1019706497.0, \"new_tests_smoothed_per_thousand\": 17261.03, \"positive_rate\": 1625.1374, \"tests_per_case\": 339573.4, \"total_vaccinations\": 533962933979.0, \"people_vaccinated\": 239084746253.0, \"people_fully_vaccinated\": 202570585655.0, \"total_boosters\": 46634832815.0, \"new_vaccinations\": 998301280.0, \"new_vaccinations_smoothed\": 1148268701.0, \"total_vaccinations_per_hundred\": 985100.68, \"people_vaccinated_per_hundred\": 430093.55, \"people_fully_vaccinated_per_hundred\": 369093.79, \"total_boosters_per_hundred\": 96864.98, \"new_vaccinations_smoothed_per_million\": 49556633.0, \"new_people_vaccinated_smoothed\": 458792704.0, \"new_people_vaccinated_smoothed_per_hundred\": 2061.515, \"stringency_index\": 1035444.26, \"population_density\": 13055079.811999999, \"median_age\": 1258003.6, \"aged_65_older\": 340985.597, \"aged_70_older\": 230730.32, \"gdp_per_capita\": 801952871.031, \"extreme_poverty\": 86242.1, \"cardiovasc_death_rate\": 7025102.824, \"diabetes_prevalence\": 462570.26, \"female_smokers\": 123560.0, \"male_smokers\": 367084.1, \"handwashing_facilities\": 1382194.4209999999, \"hospital_beds_per_thousand\": 73052.41, \"life_expectancy\": 4235000.52, \"human_development_index\": 23840.061, \"population\": 823637777056.0, \"excess_mortality_cumulative_absolute\": 227013826.48386484, \"excess_mortality_cumulative\": 17397.94, \"excess_mortality\": 22196.81, \"excess_mortality_cumulative_per_million\": 2630657.57771303}, {\"continent\": \"Oceania\", \"total_cases\": 7121351790.0, \"new_cases\": 14484161.0, \"new_cases_smoothed\": 14484138.924, \"total_deaths\": 14203672.0, \"new_deaths\": 29831.0, \"new_deaths_smoothed\": 29831.27, \"total_cases_per_million\": 2659446117.805, \"new_cases_per_million\": 5591736.54, \"new_cases_smoothed_per_million\": 5591538.353, \"total_deaths_per_million\": 8295864.849, \"new_deaths_per_million\": 12904.646, \"new_deaths_smoothed_per_million\": 12904.65, \"reproduction_rate\": 4425.14, \"icu_patients\": 94924.0, \"icu_patients_per_million\": 3626.115, \"hosp_patients\": 1761431.0, \"hosp_patients_per_million\": 67288.181, \"weekly_icu_admissions\": 0.0, \"weekly_icu_admissions_per_million\": 0.0, \"weekly_hosp_admissions\": 0.0, \"weekly_hosp_admissions_per_million\": 0.0, \"total_tests\": 24123978485.0, \"new_tests\": 78409471.0, \"total_tests_per_thousand\": 2274064.393, \"new_tests_per_thousand\": 7262.597, \"new_tests_smoothed\": 81371985.0, \"new_tests_smoothed_per_thousand\": 8744.989, \"positive_rate\": 188.2555, \"tests_per_case\": 1606640.1, \"total_vaccinations\": 25266886911.0, \"people_vaccinated\": 7713764498.0, \"people_fully_vaccinated\": 7968658443.0, \"total_boosters\": 4926422891.0, \"new_vaccinations\": 74542164.0, \"new_vaccinations_smoothed\": 82636022.0, \"total_vaccinations_per_hundred\": 252421.03, \"people_vaccinated_per_hundred\": 98100.59, \"people_fully_vaccinated_per_hundred\": 89828.62, \"total_boosters_per_hundred\": 45290.36, \"new_vaccinations_smoothed_per_million\": 32294290.0, \"new_people_vaccinated_smoothed\": 28946969.0, \"new_people_vaccinated_smoothed_per_hundred\": 1226.192, \"stringency_index\": 348205.39, \"population_density\": 3894182.005, \"median_age\": 492089.8, \"aged_65_older\": 131864.574, \"aged_70_older\": 80502.91, \"gdp_per_capita\": 203839238.764, \"extreme_poverty\": 81575.0, \"cardiovasc_death_rate\": 6895527.613, \"diabetes_prevalence\": 412059.12, \"female_smokers\": 245970.4, \"male_smokers\": 483705.3, \"handwashing_facilities\": 196876.971, \"hospital_beds_per_thousand\": 37226.49, \"life_expectancy\": 2322653.41, \"human_development_index\": 11749.043, \"population\": 61774518907.0, \"excess_mortality_cumulative_absolute\": 843837.4346181001, \"excess_mortality_cumulative\": -330.34, \"excess_mortality\": 1603.48, \"excess_mortality_cumulative_per_million\": 8935.89193608}, {\"continent\": \"South America\", \"total_cases\": 52740683415.0, \"new_cases\": 68841865.0, \"new_cases_smoothed\": 68804084.636, \"total_deaths\": 1238360628.0, \"new_deaths\": 1359968.0, \"new_deaths_smoothed\": 1359953.737, \"total_cases_per_million\": 1774511826.207, \"new_cases_per_million\": 2564529.267, \"new_cases_smoothed_per_million\": 2564086.726, \"total_deaths_per_million\": 29256587.96, \"new_deaths_per_million\": 33187.369, \"new_deaths_smoothed_per_million\": 33186.159, \"reproduction_rate\": 12126.19, \"icu_patients\": 2934855.0, \"icu_patients_per_million\": 95905.87, \"hosp_patients\": 368769.0, \"hosp_patients_per_million\": 30167.332, \"weekly_icu_admissions\": 400025.0, \"weekly_icu_admissions_per_million\": 20405.537, \"weekly_hosp_admissions\": 1611040.0, \"weekly_hosp_admissions_per_million\": 82180.246, \"total_tests\": 61969482409.0, \"new_tests\": 163548802.0, \"total_tests_per_thousand\": 2204962.904, \"new_tests_per_thousand\": 6512.74, \"new_tests_smoothed\": 226542318.0, \"new_tests_smoothed_per_thousand\": 8009.504, \"positive_rate\": 1078.9014, \"tests_per_case\": 131498.0, \"total_vaccinations\": 407756354865.0, \"people_vaccinated\": 176727481924.0, \"people_fully_vaccinated\": 146940964624.0, \"total_boosters\": 82619917630.0, \"new_vaccinations\": 845097479.0, \"new_vaccinations_smoothed\": 959034598.0, \"total_vaccinations_per_hundred\": 890833.55, \"people_vaccinated_per_hundred\": 373654.96, \"people_fully_vaccinated_per_hundred\": 318020.14, \"total_boosters_per_hundred\": 199049.5, \"new_vaccinations_smoothed_per_million\": 24503425.0, \"new_people_vaccinated_smoothed\": 375019789.0, \"new_people_vaccinated_smoothed_per_hundred\": 1003.244, \"stringency_index\": 646050.18, \"population_density\": 401564.85699999996, \"median_age\": 532315.3, \"aged_65_older\": 136369.486, \"aged_70_older\": 89423.914, \"gdp_per_capita\": 228003930.052, \"extreme_poverty\": 35377.3, \"cardiovasc_death_rate\": 3084506.289, \"diabetes_prevalence\": 128596.34, \"female_smokers\": 135134.0, \"male_smokers\": 270859.2, \"handwashing_facilities\": 542839.224, \"hospital_beds_per_thousand\": 34087.82, \"life_expectancy\": 1457818.81, \"human_development_index\": 12568.097, \"population\": 599263709073.0, \"excess_mortality_cumulative_absolute\": 89896807.0212067, \"excess_mortality_cumulative\": 26719.43, \"excess_mortality\": 22361.23, \"excess_mortality_cumulative_per_million\": 2525462.76274554}]}}, {\"mode\": \"vega-lite\"});\n",
       "</script>"
      ],
      "text/plain": [
       "alt.Chart(...)"
      ]
     },
     "execution_count": 17,
     "metadata": {},
     "output_type": "execute_result"
    }
   ],
   "source": [
    "alt.Chart(data).mark_bar().encode(y='continent', x='new_cases').properties(height=alt.Step(40), width=500)"
   ]
  },
  {
   "cell_type": "markdown",
   "metadata": {
    "colab_type": "text",
    "id": "gdaXDekQf5fS"
   },
   "source": [
    "With a few more specifications, we can give this barchart some tooltips and an aspect ratio of a square:"
   ]
  },
  {
   "cell_type": "code",
   "execution_count": 18,
   "metadata": {
    "colab": {
     "base_uri": "https://localhost:8080/",
     "height": 316
    },
    "colab_type": "code",
    "executionInfo": {
     "elapsed": 1569,
     "status": "ok",
     "timestamp": 1598360699909,
     "user": {
      "displayName": "Marian Dörk",
      "photoUrl": "https://lh3.googleusercontent.com/a-/AOh14GhqiajTdRS6NXELnqFzS3NNM3uxy6nUDGSMCjvAjw=s64",
      "userId": "05248840544598202773"
     },
     "user_tz": -120
    },
    "id": "9jh8ldKpgHk-",
    "outputId": "12616465-702a-484b-fdb3-ed7c69e9daaa"
   },
   "outputs": [
    {
     "data": {
      "text/html": [
       "\n",
       "<style>\n",
       "  #altair-viz-e28c9507e0de4701ae71053ea56d3b5a.vega-embed {\n",
       "    width: 100%;\n",
       "    display: flex;\n",
       "  }\n",
       "\n",
       "  #altair-viz-e28c9507e0de4701ae71053ea56d3b5a.vega-embed details,\n",
       "  #altair-viz-e28c9507e0de4701ae71053ea56d3b5a.vega-embed details summary {\n",
       "    position: relative;\n",
       "  }\n",
       "</style>\n",
       "<div id=\"altair-viz-e28c9507e0de4701ae71053ea56d3b5a\"></div>\n",
       "<script type=\"text/javascript\">\n",
       "  var VEGA_DEBUG = (typeof VEGA_DEBUG == \"undefined\") ? {} : VEGA_DEBUG;\n",
       "  (function(spec, embedOpt){\n",
       "    let outputDiv = document.currentScript.previousElementSibling;\n",
       "    if (outputDiv.id !== \"altair-viz-e28c9507e0de4701ae71053ea56d3b5a\") {\n",
       "      outputDiv = document.getElementById(\"altair-viz-e28c9507e0de4701ae71053ea56d3b5a\");\n",
       "    }\n",
       "    const paths = {\n",
       "      \"vega\": \"https://cdn.jsdelivr.net/npm/vega@5?noext\",\n",
       "      \"vega-lib\": \"https://cdn.jsdelivr.net/npm/vega-lib?noext\",\n",
       "      \"vega-lite\": \"https://cdn.jsdelivr.net/npm/vega-lite@5.8.0?noext\",\n",
       "      \"vega-embed\": \"https://cdn.jsdelivr.net/npm/vega-embed@6?noext\",\n",
       "    };\n",
       "\n",
       "    function maybeLoadScript(lib, version) {\n",
       "      var key = `${lib.replace(\"-\", \"\")}_version`;\n",
       "      return (VEGA_DEBUG[key] == version) ?\n",
       "        Promise.resolve(paths[lib]) :\n",
       "        new Promise(function(resolve, reject) {\n",
       "          var s = document.createElement('script');\n",
       "          document.getElementsByTagName(\"head\")[0].appendChild(s);\n",
       "          s.async = true;\n",
       "          s.onload = () => {\n",
       "            VEGA_DEBUG[key] = version;\n",
       "            return resolve(paths[lib]);\n",
       "          };\n",
       "          s.onerror = () => reject(`Error loading script: ${paths[lib]}`);\n",
       "          s.src = paths[lib];\n",
       "        });\n",
       "    }\n",
       "\n",
       "    function showError(err) {\n",
       "      outputDiv.innerHTML = `<div class=\"error\" style=\"color:red;\">${err}</div>`;\n",
       "      throw err;\n",
       "    }\n",
       "\n",
       "    function displayChart(vegaEmbed) {\n",
       "      vegaEmbed(outputDiv, spec, embedOpt)\n",
       "        .catch(err => showError(`Javascript Error: ${err.message}<br>This usually means there's a typo in your chart specification. See the javascript console for the full traceback.`));\n",
       "    }\n",
       "\n",
       "    if(typeof define === \"function\" && define.amd) {\n",
       "      requirejs.config({paths});\n",
       "      require([\"vega-embed\"], displayChart, err => showError(`Error loading script: ${err.message}`));\n",
       "    } else {\n",
       "      maybeLoadScript(\"vega\", \"5\")\n",
       "        .then(() => maybeLoadScript(\"vega-lite\", \"5.8.0\"))\n",
       "        .then(() => maybeLoadScript(\"vega-embed\", \"6\"))\n",
       "        .catch(showError)\n",
       "        .then(() => displayChart(vegaEmbed));\n",
       "    }\n",
       "  })({\"config\": {\"view\": {\"continuousWidth\": 300, \"continuousHeight\": 300}}, \"data\": {\"name\": \"data-f0a2ba772c5a1c7ac513b65e63b87dcc\"}, \"mark\": {\"type\": \"bar\"}, \"encoding\": {\"tooltip\": [{\"field\": \"new_deaths\", \"type\": \"quantitative\"}, {\"field\": \"new_cases_per_million\", \"type\": \"quantitative\"}], \"x\": {\"field\": \"continent\", \"type\": \"nominal\"}, \"y\": {\"field\": \"new_cases\", \"type\": \"quantitative\"}}, \"height\": 200, \"width\": 200, \"$schema\": \"https://vega.github.io/schema/vega-lite/v5.8.0.json\", \"datasets\": {\"data-f0a2ba772c5a1c7ac513b65e63b87dcc\": [{\"continent\": \"Africa\", \"total_cases\": 10649499908.0, \"new_cases\": 13132526.0, \"new_cases_smoothed\": 13132292.398, \"total_deaths\": 228712202.0, \"new_deaths\": 261640.0, \"new_deaths_smoothed\": 261267.493, \"total_cases_per_million\": 1725444596.343, \"new_cases_per_million\": 2649390.349, \"new_cases_smoothed_per_million\": 2649376.612, \"total_deaths_per_million\": 15133909.062, \"new_deaths_per_million\": 18368.228, \"new_deaths_smoothed_per_million\": 18323.806, \"reproduction_rate\": 41237.32, \"icu_patients\": 718183.0, \"icu_patients_per_million\": 12083.418, \"hosp_patients\": 5107144.0, \"hosp_patients_per_million\": 85269.86, \"weekly_icu_admissions\": 0.0, \"weekly_icu_admissions_per_million\": 0.0, \"weekly_hosp_admissions\": 521471.0, \"weekly_hosp_admissions_per_million\": 8706.584, \"total_tests\": 22213357604.0, \"new_tests\": 61532819.0, \"total_tests_per_thousand\": 894799.048, \"new_tests_per_thousand\": 2946.482, \"new_tests_smoothed\": 90963215.0, \"new_tests_smoothed_per_thousand\": 5559.793, \"positive_rate\": 1393.3409, \"tests_per_case\": 2064272.6, \"total_vaccinations\": 50385456841.0, \"people_vaccinated\": 29745620510.0, \"people_fully_vaccinated\": 22495256973.0, \"total_boosters\": 2541890034.0, \"new_vaccinations\": 117367074.0, \"new_vaccinations_smoothed\": 851344718.0, \"total_vaccinations_per_hundred\": 189709.64, \"people_vaccinated_per_hundred\": 110561.86, \"people_fully_vaccinated_per_hundred\": 85924.91, \"total_boosters_per_hundred\": 10782.48, \"new_vaccinations_smoothed_per_million\": 37441227.0, \"new_people_vaccinated_smoothed\": 548542745.0, \"new_people_vaccinated_smoothed_per_hundred\": 2243.374, \"stringency_index\": 2131520.7, \"population_density\": 7520072.1, \"median_age\": 1637413.7, \"aged_65_older\": 271651.311, \"aged_70_older\": 174236.286, \"gdp_per_capita\": 395565537.528, \"extreme_poverty\": 1916795.1, \"cardiovasc_death_rate\": 21269777.631, \"diabetes_prevalence\": 416770.29, \"female_smokers\": 127640.1, \"male_smokers\": 1353588.3, \"handwashing_facilities\": 1517466.672, \"hospital_beds_per_thousand\": 82561.62, \"life_expectancy\": 5076403.41, \"human_development_index\": 40744.749, \"population\": 1955266770944.0, \"excess_mortality_cumulative_absolute\": 42119817.38532614, \"excess_mortality_cumulative\": 8492.75, \"excess_mortality\": 9326.78, \"excess_mortality_cumulative_per_million\": 952709.05365136}, {\"continent\": \"Asia\", \"total_cases\": 161191026021.0, \"new_cases\": 300702706.0, \"new_cases_smoothed\": 300699569.992, \"total_deaths\": 1297304259.0, \"new_deaths\": 1633966.0, \"new_deaths_smoothed\": 1633867.311, \"total_cases_per_million\": 4329213588.838, \"new_cases_per_million\": 6730012.651, \"new_cases_smoothed_per_million\": 6729947.691, \"total_deaths_per_million\": 26007607.323, \"new_deaths_per_million\": 31960.339, \"new_deaths_smoothed_per_million\": 31958.772, \"reproduction_rate\": 43268.07, \"icu_patients\": 905649.0, \"icu_patients_per_million\": 29200.581, \"hosp_patients\": 6788690.0, \"hosp_patients_per_million\": 222603.28, \"weekly_icu_admissions\": 76321.0, \"weekly_icu_admissions_per_million\": 5736.733, \"weekly_hosp_admissions\": 6648330.0, \"weekly_hosp_admissions_per_million\": 237846.243, \"total_tests\": 576014519305.0, \"new_tests\": 1798337488.0, \"total_tests_per_thousand\": 16107194.612, \"new_tests_per_thousand\": 60790.714, \"new_tests_smoothed\": 11018265047.0, \"new_tests_smoothed_per_thousand\": 78680.775, \"positive_rate\": 1939.5681, \"tests_per_case\": 220738102.1, \"total_vaccinations\": 4048420787093.0, \"people_vaccinated\": 1206556816603.0, \"people_fully_vaccinated\": 1027342056650.0, \"total_boosters\": 272240860541.0, \"new_vaccinations\": 7550334933.0, \"new_vaccinations_smoothed\": 9068704897.0, \"total_vaccinations_per_hundred\": 2231020.48, \"people_vaccinated_per_hundred\": 929457.84, \"people_fully_vaccinated_per_hundred\": 815249.55, \"total_boosters_per_hundred\": 343119.89, \"new_vaccinations_smoothed_per_million\": 90901157.0, \"new_people_vaccinated_smoothed\": 3062225797.0, \"new_people_vaccinated_smoothed_per_hundred\": 3428.695, \"stringency_index\": 2393659.13, \"population_density\": 52716531.595, \"median_age\": 2076700.3, \"aged_65_older\": 432019.964, \"aged_70_older\": 277696.195, \"gdp_per_capita\": 1517777579.547, \"extreme_poverty\": 221669.2, \"cardiovasc_death_rate\": 19487708.102, \"diabetes_prevalence\": 590523.43, \"female_smokers\": 250371.9, \"male_smokers\": 2068907.4, \"handwashing_facilities\": 2577212.339, \"hospital_beds_per_thousand\": 199544.24, \"life_expectancy\": 5060752.98, \"human_development_index\": 47598.021, \"population\": 6483321682000.0, \"excess_mortality_cumulative_absolute\": 47389753.99388824, \"excess_mortality_cumulative\": 15894.9, \"excess_mortality\": 20408.44, \"excess_mortality_cumulative_per_million\": 1564769.6314708}, {\"continent\": \"Europe\", \"total_cases\": 160293858570.0, \"new_cases\": 249577570.0, \"new_cases_smoothed\": 249559215.631, \"total_deaths\": 1725779110.0, \"new_deaths\": 2078500.0, \"new_deaths_smoothed\": 2078393.468, \"total_cases_per_million\": 13194488924.339, \"new_cases_per_million\": 20301063.925, \"new_cases_smoothed_per_million\": 20300562.109, \"total_deaths_per_million\": 109000068.889, \"new_deaths_per_million\": 133360.773, \"new_deaths_smoothed_per_million\": 133350.624, \"reproduction_rate\": 47085.74, \"icu_patients\": 10081507.0, \"icu_patients_per_million\": 427393.247, \"hosp_patients\": 87481493.0, \"hosp_patients_per_million\": 4401184.375, \"weekly_icu_admissions\": 2986823.0, \"weekly_icu_admissions_per_million\": 78757.378, \"weekly_hosp_admissions\": 45481904.0, \"weekly_hosp_admissions_per_million\": 1526898.669, \"total_tests\": 609317604566.0, \"new_tests\": 1954533982.0, \"total_tests_per_thousand\": 47790939.581, \"new_tests_per_thousand\": 157424.835, \"new_tests_smoothed\": 2344724520.0, \"new_tests_smoothed_per_thousand\": 175581.107, \"positive_rate\": 3191.2314, \"tests_per_case\": 1897861.9, \"total_vaccinations\": 704083883811.0, \"people_vaccinated\": 290621193129.0, \"people_fully_vaccinated\": 259098479826.0, \"total_boosters\": 153728370293.0, \"new_vaccinations\": 1265521527.0, \"new_vaccinations_smoothed\": 1562032543.0, \"total_vaccinations_per_hundred\": 3380533.05, \"people_vaccinated_per_hundred\": 1371220.27, \"people_fully_vaccinated_per_hundred\": 1178571.04, \"total_boosters_per_hundred\": 658128.87, \"new_vaccinations_smoothed_per_million\": 103058993.0, \"new_people_vaccinated_smoothed\": 573689458.0, \"new_people_vaccinated_smoothed_per_hundred\": 3688.436, \"stringency_index\": 1887589.35, \"population_density\": 41249384.171, \"median_age\": 2309616.3, \"aged_65_older\": 972869.259, \"aged_70_older\": 630138.414, \"gdp_per_capita\": 1922765072.5410001, \"extreme_poverty\": 37198.2, \"cardiovasc_death_rate\": 12950561.423, \"diabetes_prevalence\": 395928.52999999997, \"female_smokers\": 1284896.2, \"male_smokers\": 1953923.2, \"handwashing_facilities\": 386432.80199999997, \"hospital_beds_per_thousand\": 304762.886, \"life_expectancy\": 5254648.74, \"human_development_index\": 50715.892, \"population\": 1111974890428.0, \"excess_mortality_cumulative_absolute\": 214077237.0291582, \"excess_mortality_cumulative\": 50403.73, \"excess_mortality\": 59561.07, \"excess_mortality_cumulative_per_million\": 12365801.7759233}, {\"continent\": \"North America\", \"total_cases\": 89450824644.0, \"new_cases\": 124492565.0, \"new_cases_smoothed\": 124492373.385, \"total_deaths\": 1380134157.0, \"new_deaths\": 1606035.0, \"new_deaths_smoothed\": 1605000.225, \"total_cases_per_million\": 6088862291.257, \"new_cases_per_million\": 9492143.896, \"new_cases_smoothed_per_million\": 9491553.976, \"total_deaths_per_million\": 46904317.034, \"new_deaths_per_million\": 62208.122, \"new_deaths_smoothed_per_million\": 62188.452, \"reproduction_rate\": 19165.89, \"icu_patients\": 10713755.0, \"icu_patients_per_million\": 42797.845, \"hosp_patients\": 51547975.0, \"hosp_patients_per_million\": 247232.847, \"weekly_icu_admissions\": 0.0, \"weekly_icu_admissions_per_million\": 0.0, \"weekly_hosp_admissions\": 46244918.0, \"weekly_hosp_admissions_per_million\": 136702.061, \"total_tests\": 381789868848.0, \"new_tests\": 1017159368.0, \"total_tests_per_thousand\": 4101852.242, \"new_tests_per_thousand\": 11816.37, \"new_tests_smoothed\": 1019706497.0, \"new_tests_smoothed_per_thousand\": 17261.03, \"positive_rate\": 1625.1374, \"tests_per_case\": 339573.4, \"total_vaccinations\": 533962933979.0, \"people_vaccinated\": 239084746253.0, \"people_fully_vaccinated\": 202570585655.0, \"total_boosters\": 46634832815.0, \"new_vaccinations\": 998301280.0, \"new_vaccinations_smoothed\": 1148268701.0, \"total_vaccinations_per_hundred\": 985100.68, \"people_vaccinated_per_hundred\": 430093.55, \"people_fully_vaccinated_per_hundred\": 369093.79, \"total_boosters_per_hundred\": 96864.98, \"new_vaccinations_smoothed_per_million\": 49556633.0, \"new_people_vaccinated_smoothed\": 458792704.0, \"new_people_vaccinated_smoothed_per_hundred\": 2061.515, \"stringency_index\": 1035444.26, \"population_density\": 13055079.811999999, \"median_age\": 1258003.6, \"aged_65_older\": 340985.597, \"aged_70_older\": 230730.32, \"gdp_per_capita\": 801952871.031, \"extreme_poverty\": 86242.1, \"cardiovasc_death_rate\": 7025102.824, \"diabetes_prevalence\": 462570.26, \"female_smokers\": 123560.0, \"male_smokers\": 367084.1, \"handwashing_facilities\": 1382194.4209999999, \"hospital_beds_per_thousand\": 73052.41, \"life_expectancy\": 4235000.52, \"human_development_index\": 23840.061, \"population\": 823637777056.0, \"excess_mortality_cumulative_absolute\": 227013826.48386484, \"excess_mortality_cumulative\": 17397.94, \"excess_mortality\": 22196.81, \"excess_mortality_cumulative_per_million\": 2630657.57771303}, {\"continent\": \"Oceania\", \"total_cases\": 7121351790.0, \"new_cases\": 14484161.0, \"new_cases_smoothed\": 14484138.924, \"total_deaths\": 14203672.0, \"new_deaths\": 29831.0, \"new_deaths_smoothed\": 29831.27, \"total_cases_per_million\": 2659446117.805, \"new_cases_per_million\": 5591736.54, \"new_cases_smoothed_per_million\": 5591538.353, \"total_deaths_per_million\": 8295864.849, \"new_deaths_per_million\": 12904.646, \"new_deaths_smoothed_per_million\": 12904.65, \"reproduction_rate\": 4425.14, \"icu_patients\": 94924.0, \"icu_patients_per_million\": 3626.115, \"hosp_patients\": 1761431.0, \"hosp_patients_per_million\": 67288.181, \"weekly_icu_admissions\": 0.0, \"weekly_icu_admissions_per_million\": 0.0, \"weekly_hosp_admissions\": 0.0, \"weekly_hosp_admissions_per_million\": 0.0, \"total_tests\": 24123978485.0, \"new_tests\": 78409471.0, \"total_tests_per_thousand\": 2274064.393, \"new_tests_per_thousand\": 7262.597, \"new_tests_smoothed\": 81371985.0, \"new_tests_smoothed_per_thousand\": 8744.989, \"positive_rate\": 188.2555, \"tests_per_case\": 1606640.1, \"total_vaccinations\": 25266886911.0, \"people_vaccinated\": 7713764498.0, \"people_fully_vaccinated\": 7968658443.0, \"total_boosters\": 4926422891.0, \"new_vaccinations\": 74542164.0, \"new_vaccinations_smoothed\": 82636022.0, \"total_vaccinations_per_hundred\": 252421.03, \"people_vaccinated_per_hundred\": 98100.59, \"people_fully_vaccinated_per_hundred\": 89828.62, \"total_boosters_per_hundred\": 45290.36, \"new_vaccinations_smoothed_per_million\": 32294290.0, \"new_people_vaccinated_smoothed\": 28946969.0, \"new_people_vaccinated_smoothed_per_hundred\": 1226.192, \"stringency_index\": 348205.39, \"population_density\": 3894182.005, \"median_age\": 492089.8, \"aged_65_older\": 131864.574, \"aged_70_older\": 80502.91, \"gdp_per_capita\": 203839238.764, \"extreme_poverty\": 81575.0, \"cardiovasc_death_rate\": 6895527.613, \"diabetes_prevalence\": 412059.12, \"female_smokers\": 245970.4, \"male_smokers\": 483705.3, \"handwashing_facilities\": 196876.971, \"hospital_beds_per_thousand\": 37226.49, \"life_expectancy\": 2322653.41, \"human_development_index\": 11749.043, \"population\": 61774518907.0, \"excess_mortality_cumulative_absolute\": 843837.4346181001, \"excess_mortality_cumulative\": -330.34, \"excess_mortality\": 1603.48, \"excess_mortality_cumulative_per_million\": 8935.89193608}, {\"continent\": \"South America\", \"total_cases\": 52740683415.0, \"new_cases\": 68841865.0, \"new_cases_smoothed\": 68804084.636, \"total_deaths\": 1238360628.0, \"new_deaths\": 1359968.0, \"new_deaths_smoothed\": 1359953.737, \"total_cases_per_million\": 1774511826.207, \"new_cases_per_million\": 2564529.267, \"new_cases_smoothed_per_million\": 2564086.726, \"total_deaths_per_million\": 29256587.96, \"new_deaths_per_million\": 33187.369, \"new_deaths_smoothed_per_million\": 33186.159, \"reproduction_rate\": 12126.19, \"icu_patients\": 2934855.0, \"icu_patients_per_million\": 95905.87, \"hosp_patients\": 368769.0, \"hosp_patients_per_million\": 30167.332, \"weekly_icu_admissions\": 400025.0, \"weekly_icu_admissions_per_million\": 20405.537, \"weekly_hosp_admissions\": 1611040.0, \"weekly_hosp_admissions_per_million\": 82180.246, \"total_tests\": 61969482409.0, \"new_tests\": 163548802.0, \"total_tests_per_thousand\": 2204962.904, \"new_tests_per_thousand\": 6512.74, \"new_tests_smoothed\": 226542318.0, \"new_tests_smoothed_per_thousand\": 8009.504, \"positive_rate\": 1078.9014, \"tests_per_case\": 131498.0, \"total_vaccinations\": 407756354865.0, \"people_vaccinated\": 176727481924.0, \"people_fully_vaccinated\": 146940964624.0, \"total_boosters\": 82619917630.0, \"new_vaccinations\": 845097479.0, \"new_vaccinations_smoothed\": 959034598.0, \"total_vaccinations_per_hundred\": 890833.55, \"people_vaccinated_per_hundred\": 373654.96, \"people_fully_vaccinated_per_hundred\": 318020.14, \"total_boosters_per_hundred\": 199049.5, \"new_vaccinations_smoothed_per_million\": 24503425.0, \"new_people_vaccinated_smoothed\": 375019789.0, \"new_people_vaccinated_smoothed_per_hundred\": 1003.244, \"stringency_index\": 646050.18, \"population_density\": 401564.85699999996, \"median_age\": 532315.3, \"aged_65_older\": 136369.486, \"aged_70_older\": 89423.914, \"gdp_per_capita\": 228003930.052, \"extreme_poverty\": 35377.3, \"cardiovasc_death_rate\": 3084506.289, \"diabetes_prevalence\": 128596.34, \"female_smokers\": 135134.0, \"male_smokers\": 270859.2, \"handwashing_facilities\": 542839.224, \"hospital_beds_per_thousand\": 34087.82, \"life_expectancy\": 1457818.81, \"human_development_index\": 12568.097, \"population\": 599263709073.0, \"excess_mortality_cumulative_absolute\": 89896807.0212067, \"excess_mortality_cumulative\": 26719.43, \"excess_mortality\": 22361.23, \"excess_mortality_cumulative_per_million\": 2525462.76274554}]}}, {\"mode\": \"vega-lite\"});\n",
       "</script>"
      ],
      "text/plain": [
       "alt.Chart(...)"
      ]
     },
     "execution_count": 18,
     "metadata": {},
     "output_type": "execute_result"
    }
   ],
   "source": [
    "alt.Chart(data).mark_bar().encode(\n",
    "    x='continent', \n",
    "    y='new_cases',\n",
    "    tooltip=['new_deaths', 'new_cases_per_million']\n",
    ").properties(\n",
    "    width=200,\n",
    "    height=200\n",
    ")"
   ]
  },
  {
   "cell_type": "markdown",
   "metadata": {
    "colab_type": "text",
    "id": "OQ-vH5EFGZTI"
   },
   "source": [
    "This is admittedly still a very simple chart, but it gets the job done.\n",
    "\n",
    "Altair can be used to create a wide range of static and interactive visualizations—have a look at their [gallery](https://altair-viz.github.io/gallery/index.html) for some inspiration!"
   ]
  },
  {
   "cell_type": "markdown",
   "metadata": {
    "colab_type": "text",
    "id": "PyJgW6U-DtiX"
   },
   "source": [
    "## Sources\n",
    "- [Pandas Tutorial: DataFrames in Python - DataCamp](https://www.datacamp.com/community/tutorials/pandas-tutorial-dataframe-python)\n",
    "- [Examining Data Using Pandas | Linux Journal](https://www.linuxjournal.com/content/examining-data-using-pandas)"
   ]
  }
 ],
 "metadata": {
  "colab": {
   "collapsed_sections": [],
   "name": "infovis1start.ipynb",
   "provenance": [],
   "toc_visible": true
  },
  "kernelspec": {
   "display_name": "Python 3",
   "language": "python",
   "name": "python3"
  },
  "language_info": {
   "codemirror_mode": {
    "name": "ipython",
    "version": 3
   },
   "file_extension": ".py",
   "mimetype": "text/x-python",
   "name": "python",
   "nbconvert_exporter": "python",
   "pygments_lexer": "ipython3",
   "version": "3.9.13"
  },
  "nteract": {
   "version": "0.22.0"
  }
 },
 "nbformat": 4,
 "nbformat_minor": 4
}
