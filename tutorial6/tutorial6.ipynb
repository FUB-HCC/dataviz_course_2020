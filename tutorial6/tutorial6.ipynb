{
 "cells": [
  {
   "cell_type": "markdown",
   "metadata": {
    "button": false,
    "colab_type": "text",
    "id": "gdoSGJp1fRAX",
    "new_sheet": false,
    "run_control": {
     "read_only": false
    }
   },
   "source": [
    "**Data Visualization course - winter semester 20/21 - FU Berlin**\n",
    "\n",
    "*Tutorials adapted from the [Information Visualization](https://infovis.fh-potsdam.de/tutorials/) course at the FH Potsdam*\n",
    "\n",
    "\n",
    "# Tutorial 6: Interaction techniques\n",
    "\n",
    "Interactive capabilities make information visualizations come alive. They let viewers adjust a visualization to change its parameters, focus on an interesting aspect of a dataset, and get more detailed information about specific items. Arguably, the Jupyter environment itself is already an interactive environment. By adding interactive elements to visualizations, you can explore the data more directly and rapidly.\n",
    "\n",
    "In this tutorial, you will get to know several techniques that provide interactivity to your notebooks and visualizations. \n",
    "\n",
    "✏️ *Remember to follow the pencils to get ideas for edits in this tutorial*\n",
    "\n"
   ]
  },
  {
   "cell_type": "code",
   "execution_count": null,
   "metadata": {
    "colab": {},
    "colab_type": "code",
    "id": "PVxz0Ohar7UO"
   },
   "outputs": [],
   "source": [
    "# first we include the two libraries that we will work with\n",
    "import pandas as pd\n",
    "import altair as alt\n",
    "from vega_datasets import data"
   ]
  },
  {
   "cell_type": "markdown",
   "metadata": {
    "colab_type": "text",
    "id": "nBEjsssidVsP"
   },
   "source": [
    "In this tutorial, we are using our usual data."
   ]
  },
  {
   "cell_type": "code",
   "execution_count": null,
   "metadata": {
    "colab": {},
    "colab_type": "code",
    "id": "bPhJhZxUdN_8"
   },
   "outputs": [],
   "source": [
    "covid_data = pd.read_csv(\"https://covid.ourworldindata.org/data/owid-covid-data.csv\", parse_dates=['date'])\n",
    "\n",
    "code_lookup = pd.read_csv('country_lookup.csv')\n",
    "countries = alt.topo_feature(data.world_110m.url, 'countries')\n",
    "\n",
    "covid_data_sa = covid_data[ covid_data.continent == 'South America' ]\n",
    "covid_data_sa = covid_data_sa.merge( code_lookup, left_on='iso_code', right_on='Alpha-3 code' )"
   ]
  },
  {
   "cell_type": "markdown",
   "metadata": {
    "colab_type": "text",
    "id": "aYmIzvBgki8q"
   },
   "source": [
    "## Zoom & pan\n",
    "\n",
    "Visualizations created with Altair can be equipped with a simple zoom function that can be triggered either with the scroll gesture of a trackpad or the scrollwheel of the mouse. Depending on the chart type, this gives the viewer the option to gradually adjust which section of each axis is visible.\n",
    "\n",
    "By adding the `.interactive()` method the axes of the chart become dynamic. Try zooming into the lineplot and notice how the labels on the axes move and adjust. You can also drag the visualization to change the current viewport. Double clicking anywhere resets the axes of the chart."
   ]
  },
  {
   "cell_type": "code",
   "execution_count": null,
   "metadata": {
    "colab": {
     "base_uri": "https://localhost:8080/",
     "height": 368
    },
    "colab_type": "code",
    "executionInfo": {
     "elapsed": 2716,
     "status": "ok",
     "timestamp": 1598364952226,
     "user": {
      "displayName": "Marian Dörk",
      "photoUrl": "https://lh3.googleusercontent.com/a-/AOh14GhqiajTdRS6NXELnqFzS3NNM3uxy6nUDGSMCjvAjw=s64",
      "userId": "05248840544598202773"
     },
     "user_tz": -120
    },
    "id": "245S_fBbLHu-",
    "outputId": "fe6920c9-a5ae-462b-9703-982cfcba6aa5"
   },
   "outputs": [],
   "source": [
    "alt.Chart(covid_data_sa).mark_line().encode(\n",
    "    x='date:T',\n",
    "    y='new_cases_smoothed',\n",
    "    color='location'\n",
    ").properties(\n",
    "    width=800,\n",
    "    height=400\n",
    ").interactive()"
   ]
  },
  {
   "cell_type": "markdown",
   "metadata": {
    "colab_type": "text",
    "id": "gH9zneFAt7K5"
   },
   "source": [
    "\n",
    "✏️ *Now many lines overlap each other. Would it help to adjust their appearance, e.g., their size or opacity? You can set these default parameters as arguments to the `mark_line()` call. Have a look at the [mark property channels](https://altair-viz.github.io/user_guide/encoding.html#encoding-channels) provided by Altair*\n"
   ]
  },
  {
   "cell_type": "markdown",
   "metadata": {
    "colab_type": "text",
    "id": "0diOjYJzbgCu"
   },
   "source": [
    "## Details-on-demand\n",
    "\n",
    "Because our ability to discern multiple channels in a visualization is limited, the visual variables that can be utilized to represent data dimensions are finite. We need to decide which information is encoded visually and which information can be made available interactively on demand. \n",
    "\n",
    "Tooltips constitute a classic technique to provide such additional, more detailed information on data elements. Your viewers will be able to reveal the details by hovering the mouse pointer over the respective visual elements.\n",
    "\n",
    "To include a tooltip feature in above visualization, you need to tell Altair, which attributes should be included. You do this by adding a `tooltip` to the `encode()` method call:"
   ]
  },
  {
   "cell_type": "code",
   "execution_count": null,
   "metadata": {
    "colab": {
     "base_uri": "https://localhost:8080/",
     "height": 368
    },
    "colab_type": "code",
    "executionInfo": {
     "elapsed": 2711,
     "status": "ok",
     "timestamp": 1598364952229,
     "user": {
      "displayName": "Marian Dörk",
      "photoUrl": "https://lh3.googleusercontent.com/a-/AOh14GhqiajTdRS6NXELnqFzS3NNM3uxy6nUDGSMCjvAjw=s64",
      "userId": "05248840544598202773"
     },
     "user_tz": -120
    },
    "id": "eNneDPzLekQH",
    "outputId": "a1186121-9f0c-45f3-9332-467fefe52f87"
   },
   "outputs": [],
   "source": [
    "alt.Chart(covid_data_sa).mark_line().encode(\n",
    "    x='date:T',\n",
    "    y='new_cases_smoothed',\n",
    "    color='location',\n",
    "    tooltip=['location', 'new_cases_smoothed']\n",
    ").properties(\n",
    "    width=800,\n",
    "    height=400\n",
    ").interactive()"
   ]
  },
  {
   "cell_type": "markdown",
   "metadata": {
    "colab_type": "text",
    "id": "DmUN6e1dc51d"
   },
   "source": [
    "\n",
    "✏️ *Add other attributes to the tooltip that might be of interest for a reader*"
   ]
  },
  {
   "cell_type": "markdown",
   "metadata": {
    "colab_type": "text",
    "id": "KIKbo_04eLsX"
   },
   "source": [
    "## Interactive legend\n",
    "\n",
    "At this point the scatterplot is not entirely instructive if we cannot distinguish between countries at the bottom of the chart. Maybe it would help to focus on a subset of data elements. Let's turn the legend into an interactive filter.\n",
    "\n",
    "For this to work we need to create a selection element first, which we then add to the chart declaration as above, with the addition of changing the opacity:"
   ]
  },
  {
   "cell_type": "code",
   "execution_count": null,
   "metadata": {
    "colab": {
     "base_uri": "https://localhost:8080/",
     "height": 368
    },
    "colab_type": "code",
    "executionInfo": {
     "elapsed": 2703,
     "status": "ok",
     "timestamp": 1598364952229,
     "user": {
      "displayName": "Marian Dörk",
      "photoUrl": "https://lh3.googleusercontent.com/a-/AOh14GhqiajTdRS6NXELnqFzS3NNM3uxy6nUDGSMCjvAjw=s64",
      "userId": "05248840544598202773"
     },
     "user_tz": -120
    },
    "id": "SkbwwoRhe2wd",
    "outputId": "b26a4458-cc39-4c2d-bb3a-27120cd9cf17"
   },
   "outputs": [],
   "source": [
    "selection = alt.selection(type='multi', fields=['location'], bind='legend')\n",
    "\n",
    "alt.Chart(covid_data_sa).mark_line().encode(\n",
    "    x='date:T',\n",
    "    y='new_cases_smoothed',\n",
    "    color='location',\n",
    "    tooltip=['location', 'new_cases_smoothed'],\n",
    "    opacity=alt.condition(selection, alt.value(1), alt.value(0.1))\n",
    ").properties(\n",
    "    width=800,\n",
    "    height=400\n",
    ").add_selection(\n",
    "    selection\n",
    ")"
   ]
  },
  {
   "cell_type": "markdown",
   "metadata": {
    "colab_type": "text",
    "id": "mBsX8ZvIYiLQ"
   },
   "source": [
    "## Input elements\n",
    "\n",
    "If we would present a bigger range of countries, we would see that the legend would not scale well. The interactive legend only works well when you have a manageable number of entries, which is also true for using color for more than a handful of categories. There are just too many countries in the dataset to be handled via an interactive legend, if we would choose to visualize all of them. Therefore we could add an element which allows an easier selection of countries from our dataset:"
   ]
  },
  {
   "cell_type": "code",
   "execution_count": null,
   "metadata": {
    "colab": {},
    "colab_type": "code",
    "id": "U4XKCccuYquF"
   },
   "outputs": [],
   "source": [
    "dropdown = alt.binding_select(options=covid_data_sa.location.unique(), name='Select a country: ')\n",
    "\n",
    "selection = alt.selection(type='single', fields=['location'], bind=dropdown)"
   ]
  },
  {
   "cell_type": "markdown",
   "metadata": {
    "colab_type": "text",
    "id": "Oo8S1ENne-by"
   },
   "source": [
    "The following block is identical to the one above. Except now the chart will be accompanied by a country selector, and not an interactive legend."
   ]
  },
  {
   "cell_type": "code",
   "execution_count": null,
   "metadata": {
    "colab": {
     "base_uri": "https://localhost:8080/",
     "height": 390
    },
    "colab_type": "code",
    "executionInfo": {
     "elapsed": 3531,
     "status": "ok",
     "timestamp": 1598364953084,
     "user": {
      "displayName": "Marian Dörk",
      "photoUrl": "https://lh3.googleusercontent.com/a-/AOh14GhqiajTdRS6NXELnqFzS3NNM3uxy6nUDGSMCjvAjw=s64",
      "userId": "05248840544598202773"
     },
     "user_tz": -120
    },
    "id": "iGsPL_U-eqGR",
    "outputId": "8e4eac03-d067-4732-bfdd-0fde387349ec"
   },
   "outputs": [],
   "source": [
    "alt.Chart(covid_data_sa).mark_line().encode(\n",
    "    x='date:T',\n",
    "    y='new_cases_smoothed',\n",
    "    color='location',\n",
    "    tooltip=['location', 'new_cases_smoothed'],\n",
    "    opacity=alt.condition(selection, alt.value(1), alt.value(0.1))\n",
    ").properties(\n",
    "    width=800,\n",
    "    height=400\n",
    ").add_selection(\n",
    "    selection\n",
    ")"
   ]
  },
  {
   "cell_type": "markdown",
   "metadata": {
    "colab_type": "text",
    "id": "ch7hqZRcb2k4"
   },
   "source": [
    "## Linked views\n",
    "\n",
    "Oftentimes we are working with complex datasets, which require selections to be made in the visualizations themselves. This allows us to specify data ranges according to particular interests as they emerge in the interaction with the visualizations.\n",
    "\n",
    "The following example places two charts next to each other. Selecting a time range in the lineplot of new cases in the whole of South America on the left, will trigger the graduated symbols plot for the geographic distribution on the right.\n"
   ]
  },
  {
   "cell_type": "code",
   "execution_count": null,
   "metadata": {},
   "outputs": [],
   "source": [
    "selection = alt.selection(type='interval', encodings=['x'])\n",
    "\n",
    "line = alt.Chart(covid_data_sa).mark_line().encode(\n",
    "    x='date',\n",
    "    y='sum(new_cases_smoothed)',\n",
    ").add_selection(\n",
    "    selection\n",
    ")\n",
    "\n",
    "map = alt.Chart(countries).mark_geoshape(\n",
    "    stroke='white',\n",
    "    fill='#A9A9A9'\n",
    ").project(\n",
    "    type='mercator',\n",
    "    scale=200,\n",
    "    center=[-110, 15]\n",
    ")\n",
    "\n",
    "symbols = alt.Chart(covid_data_sa).mark_circle().encode(\n",
    "    longitude='Longitude (average)',\n",
    "    latitude='Latitude (average)',\n",
    "    size=alt.Size('sum(new_cases_smoothed)', scale=alt.Scale(domain=[0, 0.05*covid_data_sa.new_cases_smoothed.sum()]))\n",
    ").project(\n",
    "    type='mercator',\n",
    "    scale=200,\n",
    "    center=[-110, 15]\n",
    ").transform_filter(\n",
    "    selection\n",
    ")\n",
    "\n",
    "line | (map + symbols)"
   ]
  },
  {
   "cell_type": "markdown",
   "metadata": {
    "colab_type": "text",
    "id": "5F-AySkyX8pR"
   },
   "source": [
    "## Sources\n",
    "\n",
    "From the Altair documentation:\n",
    "- [Encodings](https://altair-viz.github.io/user_guide/encoding.html)\n",
    "- [Interactive Legend](https://altair-viz.github.io/gallery/interactive_legend.html)\n",
    "- [Bindings, Selections, Conditions: Making Charts Interactive](https://altair-viz.github.io/user_guide/interactions.html)\n",
    "- [Interactive Scatter Plot and Linked Layered Histogram](https://altair-viz.github.io/gallery/scatter_with_layered_histogram.html)\n",
    "- [Interactive Crossfilter](https://altair-viz.github.io/gallery/interactive_layered_crossfilter.html)\n",
    "\n"
   ]
  },
  {
   "cell_type": "code",
   "execution_count": null,
   "metadata": {},
   "outputs": [],
   "source": []
  }
 ],
 "metadata": {
  "colab": {
   "collapsed_sections": [],
   "name": "infovis3interaction.ipynb",
   "provenance": [],
   "toc_visible": true
  },
  "kernelspec": {
   "display_name": "Python 3",
   "language": "python",
   "name": "python3"
  },
  "language_info": {
   "codemirror_mode": {
    "name": "ipython",
    "version": 3
   },
   "file_extension": ".py",
   "mimetype": "text/x-python",
   "name": "python",
   "nbconvert_exporter": "python",
   "pygments_lexer": "ipython3",
   "version": "3.8.5"
  },
  "nteract": {
   "version": "0.22.0"
  }
 },
 "nbformat": 4,
 "nbformat_minor": 4
}
