{
 "cells": [
  {
   "cell_type": "markdown",
   "metadata": {
    "colab_type": "text",
    "id": "gdoSGJp1fRAX"
   },
   "source": [
    "**Data Visualization course - winter semester 23/24 - FU Berlin**\n",
    "\n",
    "*Tutorials adapted from the [Information Visualization](https://infovis.fh-potsdam.de/tutorials/) course at the FH Potsdam*\n",
    "\n",
    "\n",
    "# Tutorial 3: Network analysis\n",
    "\n",
    "When we are interested in the interactions among entities of interest and the structures that emerge from their relations, we can model the entities and their relations as a graph, which is sufficiently defined by its nodes and edges. Considering a network as a graph allows us to study the overall connectivity of the contained nodes, identify formation of clusters, or position particular nodes in their neighborhood. In this tutorial, we will get started with network analysis, covering some key concepts and techniques. But please note: this is just an introduction. Network analysis is becoming its own extensive field known as network science."
   ]
  },
  {
   "cell_type": "markdown",
   "metadata": {
    "colab_type": "text",
    "id": "0le5yBVtat8S"
   },
   "source": [
    "## 🛒 1. Prepare "
   ]
  },
  {
   "cell_type": "markdown",
   "metadata": {
    "colab_type": "text",
    "id": "M7NVw7lbjW5u"
   },
   "source": [
    "First, we will need to assemble our tools: Apart from Altair, we will use [NetworkX](https://networkx.github.io), a powerful network-analysis library. As a bridge between Altair and NetworkX, we are using [nx_altair](https://github.com/Zsailer/nx_altair). \n",
    "\n",
    "You will have to install `nx_altair` and maybe also `networkx` via `poetry install`. So let's get this out of the way first, after which we import all the libraries we will be using in this notebook:"
   ]
  },
  {
   "cell_type": "code",
   "execution_count": null,
   "metadata": {
    "colab": {
     "base_uri": "https://localhost:8080/",
     "height": 275
    },
    "colab_type": "code",
    "executionInfo": {
     "elapsed": 3295,
     "status": "ok",
     "timestamp": 1598369486494,
     "user": {
      "displayName": "Marian Dörk",
      "photoUrl": "https://lh3.googleusercontent.com/a-/AOh14GhqiajTdRS6NXELnqFzS3NNM3uxy6nUDGSMCjvAjw=s64",
      "userId": "05248840544598202773"
     },
     "user_tz": -120
    },
    "id": "ecfS11vZjWnu",
    "outputId": "00989bfc-ce2f-4db5-8fbf-19711b933697"
   },
   "outputs": [],
   "source": [
    "import altair as alt\n",
    "import networkx as nx\n",
    "import nx_altair as nxa"
   ]
  },
  {
   "cell_type": "markdown",
   "metadata": {
    "colab_type": "text",
    "id": "2fULGpUFxea3"
   },
   "source": [
    "### Generate a random graph\n",
    "\n",
    "To get started quickly, we can create a random graph. The `fast_gnp_random_graph` method uses the Erdős-Rényi model to generate a graph according to two main parameters: the number of nodes **`n`** and the probability that a given pair of nodes is connected **`p`**:"
   ]
  },
  {
   "cell_type": "code",
   "execution_count": null,
   "metadata": {
    "colab": {
     "base_uri": "https://localhost:8080/",
     "height": 336
    },
    "colab_type": "code",
    "executionInfo": {
     "elapsed": 3776,
     "status": "ok",
     "timestamp": 1598369486994,
     "user": {
      "displayName": "Marian Dörk",
      "photoUrl": "https://lh3.googleusercontent.com/a-/AOh14GhqiajTdRS6NXELnqFzS3NNM3uxy6nUDGSMCjvAjw=s64",
      "userId": "05248840544598202773"
     },
     "user_tz": -120
    },
    "id": "AAYxic7m0mx-",
    "outputId": "ec32cf78-f01c-4087-c6bf-ca21e5768b79"
   },
   "outputs": [],
   "source": [
    "G = nx.fast_gnp_random_graph(n=100, p=.1)\n",
    "\n",
    "nxa.draw_networkx(G)"
   ]
  },
  {
   "cell_type": "markdown",
   "metadata": {
    "colab_type": "text",
    "id": "mBVYMPlp53ZZ"
   },
   "source": [
    "✏️ *Play with the parameters of `fast_gnp_random_graph`, but go easy on the `n` …*"
   ]
  },
  {
   "cell_type": "markdown",
   "metadata": {
    "colab_type": "text",
    "id": "GRu6uA963Ia-"
   },
   "source": [
    "### Create a network from scratch\n",
    "\n",
    "You can also create a graph by manually adding nodes and edges with the respective methods `add_edge` and `add_node`:"
   ]
  },
  {
   "cell_type": "code",
   "execution_count": null,
   "metadata": {
    "colab": {
     "base_uri": "https://localhost:8080/",
     "height": 350
    },
    "colab_type": "code",
    "executionInfo": {
     "elapsed": 4126,
     "status": "ok",
     "timestamp": 1598369487361,
     "user": {
      "displayName": "Marian Dörk",
      "photoUrl": "https://lh3.googleusercontent.com/a-/AOh14GhqiajTdRS6NXELnqFzS3NNM3uxy6nUDGSMCjvAjw=s64",
      "userId": "05248840544598202773"
     },
     "user_tz": -120
    },
    "id": "K7Fiw91LkM7B",
    "outputId": "acc86aba-736f-4289-993a-69a2f6e154d0"
   },
   "outputs": [],
   "source": [
    "G = nx.Graph()\n",
    "\n",
    "G.add_node(\"Ada\")\n",
    "G.add_node(\"Bob\")\n",
    "G.add_node(\"Cai\")\n",
    "G.add_node(\"Don\")\n",
    "G.add_node(\"Eva\")\n",
    "\n",
    "G.add_edge(\"Ada\", \"Bob\")\n",
    "G.add_edge(\"Ada\", \"Cai\")\n",
    "G.add_edge(\"Ada\", \"Eva\")\n",
    "G.add_edge(\"Bob\", \"Cai\")\n",
    "G.add_edge(\"Bob\", \"Don\")\n",
    "G.add_edge(\"Cai\", \"Don\")\n",
    "\n",
    "nxa.draw_networkx(G)\n"
   ]
  },
  {
   "cell_type": "markdown",
   "metadata": {
    "colab_type": "text",
    "id": "OJs-4tWekuCA"
   },
   "source": [
    "Note that you actually do not need to add a node, if it is part of an edge. \n",
    "\n",
    "✏️ *Comment out or remove the `add_node()` statements above (lines 3-7) and check the result!*\n",
    "\n",
    "An even more compact way of creating a graph, adding nodes, and edges is by simply passing a list of edge tuples when creating the graph:"
   ]
  },
  {
   "cell_type": "code",
   "execution_count": null,
   "metadata": {
    "colab": {},
    "colab_type": "code",
    "id": "blWlQhhDlvvQ"
   },
   "outputs": [],
   "source": [
    "G = nx.Graph([(\"Ada\", \"Bob\"),\n",
    "              (\"Ada\", \"Cai\"),\n",
    "              (\"Ada\", \"Eva\"),\n",
    "              (\"Bob\", \"Cai\"),\n",
    "              (\"Bob\", \"Don\"),\n",
    "              (\"Cai\", \"Don\")])"
   ]
  },
  {
   "cell_type": "markdown",
   "metadata": {
    "colab_type": "text",
    "id": "i_QtYZFZmNKl"
   },
   "source": [
    "### Add attributes to nodes and edges\n",
    "\n",
    "You can attach attributes to nodes and edges, either when adding them to the graph or later:\n"
   ]
  },
  {
   "cell_type": "code",
   "execution_count": null,
   "metadata": {
    "colab": {
     "base_uri": "https://localhost:8080/",
     "height": 34
    },
    "colab_type": "code",
    "executionInfo": {
     "elapsed": 4106,
     "status": "ok",
     "timestamp": 1598369487362,
     "user": {
      "displayName": "Marian Dörk",
      "photoUrl": "https://lh3.googleusercontent.com/a-/AOh14GhqiajTdRS6NXELnqFzS3NNM3uxy6nUDGSMCjvAjw=s64",
      "userId": "05248840544598202773"
     },
     "user_tz": -120
    },
    "id": "chEoBwg0m8g_",
    "outputId": "85c49748-7319-4825-b8cd-a622a0c09d7a"
   },
   "outputs": [],
   "source": [
    "G = nx.Graph()\n",
    "\n",
    "G.add_node(1, time='3pm')\n",
    "G.nodes[1]['time']"
   ]
  },
  {
   "cell_type": "code",
   "execution_count": null,
   "metadata": {
    "colab": {
     "base_uri": "https://localhost:8080/",
     "height": 34
    },
    "colab_type": "code",
    "executionInfo": {
     "elapsed": 4090,
     "status": "ok",
     "timestamp": 1598369487362,
     "user": {
      "displayName": "Marian Dörk",
      "photoUrl": "https://lh3.googleusercontent.com/a-/AOh14GhqiajTdRS6NXELnqFzS3NNM3uxy6nUDGSMCjvAjw=s64",
      "userId": "05248840544598202773"
     },
     "user_tz": -120
    },
    "id": "6njql4CVnnDO",
    "outputId": "74710573-d828-4f1c-9fbd-4d6d1377ee81"
   },
   "outputs": [],
   "source": [
    "G.nodes[1]['room'] = 5842\n",
    "G.nodes.data()"
   ]
  },
  {
   "cell_type": "markdown",
   "metadata": {
    "colab_type": "text",
    "id": "wBm7qNbGpF-w"
   },
   "source": [
    "Here the nodes are defined as numbers, but as we have seen above NetworkX can also take strings as ids\n",
    "\n",
    "In addition, you can add attributes to edges. A common way to distinguish between different strengths of connections is to assign weights to edges:"
   ]
  },
  {
   "cell_type": "code",
   "execution_count": null,
   "metadata": {
    "colab": {},
    "colab_type": "code",
    "id": "D5e3U2WKpRR_"
   },
   "outputs": [],
   "source": [
    "G.add_edge(1,2, weight=4.7)"
   ]
  },
  {
   "cell_type": "markdown",
   "metadata": {
    "colab_type": "text",
    "id": "Uisrv7U6pu7-"
   },
   "source": [
    "You can also add or edit edge attributes later:"
   ]
  },
  {
   "cell_type": "code",
   "execution_count": null,
   "metadata": {
    "colab": {
     "base_uri": "https://localhost:8080/",
     "height": 34
    },
    "colab_type": "code",
    "executionInfo": {
     "elapsed": 4072,
     "status": "ok",
     "timestamp": 1598369487365,
     "user": {
      "displayName": "Marian Dörk",
      "photoUrl": "https://lh3.googleusercontent.com/a-/AOh14GhqiajTdRS6NXELnqFzS3NNM3uxy6nUDGSMCjvAjw=s64",
      "userId": "05248840544598202773"
     },
     "user_tz": -120
    },
    "id": "LSdmFyU6pri6",
    "outputId": "efeb2775-31ef-490f-b110-4f45373631b2"
   },
   "outputs": [],
   "source": [
    "G.edges[1,2]['weight'] = 3.2\n",
    "G.edges.data()"
   ]
  },
  {
   "cell_type": "markdown",
   "metadata": {
    "colab_type": "text",
    "id": "WGIaNr8n-WUA"
   },
   "source": [
    "### Load a network dataset \n",
    "\n",
    "Network data can come in many formats, and thankfully NetworkX can read and write many of them, including [GEXF](https://networkx.github.io/documentation/stable/reference/readwrite/gexf.html), [GML](https://networkx.github.io/documentation/stable/reference/readwrite/gml.html), [GraphML](https://networkx.github.io/documentation/stable/reference/readwrite/graphml.html) and [JSON](https://networkx.github.io/documentation/stable/reference/readwrite/json_graph.html) (as used by D3.js). \n",
    "\n",
    "The co-occurrence network of characters in the novel *Les Misérables* (1862) by Victor Hugo serves as a common example dataset for network visualization. Let's load and import it. NetworkX does not (yet) load and parse JSON transparently (as Pandas does so elegantly). Therefore, we need to include the packages `requests` and `json` to get this done:\n",
    "\n",
    "\n"
   ]
  },
  {
   "cell_type": "code",
   "execution_count": null,
   "metadata": {
    "colab": {
     "base_uri": "https://localhost:8080/",
     "height": 347
    },
    "colab_type": "code",
    "executionInfo": {
     "elapsed": 5041,
     "status": "ok",
     "timestamp": 1598369488353,
     "user": {
      "displayName": "Marian Dörk",
      "photoUrl": "https://lh3.googleusercontent.com/a-/AOh14GhqiajTdRS6NXELnqFzS3NNM3uxy6nUDGSMCjvAjw=s64",
      "userId": "05248840544598202773"
     },
     "user_tz": -120
    },
    "id": "i2oLe5TttL3f",
    "outputId": "00fced78-de5d-492b-b956-e26e23492de8"
   },
   "outputs": [],
   "source": [
    "import requests\n",
    "import json\n",
    "\n",
    "url = \"http://bost.ocks.org/mike/miserables/miserables.json\"\n",
    "\n",
    "lesmis = requests.get(url).json()\n",
    "\n",
    "G = nx.readwrite.json_graph.node_link_graph(lesmis, multigraph=False)\n",
    "\n",
    "nxa.draw_networkx(G, node_tooltip='name')\n",
    "\n"
   ]
  },
  {
   "cell_type": "markdown",
   "metadata": {
    "colab_type": "text",
    "id": "amwKGm5ha1R5"
   },
   "source": [
    "## 🕸 2. Process\n",
    "\n",
    "Once we have a graph representation of a network, we can carry out a range of processing steps, for example, to count its elements and generate some graph-theoretical metrics.\n"
   ]
  },
  {
   "cell_type": "markdown",
   "metadata": {
    "colab_type": "text",
    "id": "f4TuOF44sbZj"
   },
   "source": [
    "### Counting nodes and edges\n",
    "\n",
    "For a start, we can get the number of nodes and edges:"
   ]
  },
  {
   "cell_type": "code",
   "execution_count": null,
   "metadata": {
    "colab": {
     "base_uri": "https://localhost:8080/",
     "height": 34
    },
    "colab_type": "code",
    "executionInfo": {
     "elapsed": 5020,
     "status": "ok",
     "timestamp": 1598369488355,
     "user": {
      "displayName": "Marian Dörk",
      "photoUrl": "https://lh3.googleusercontent.com/a-/AOh14GhqiajTdRS6NXELnqFzS3NNM3uxy6nUDGSMCjvAjw=s64",
      "userId": "05248840544598202773"
     },
     "user_tz": -120
    },
    "id": "MgBVOZ7ZlEjD",
    "outputId": "7ce0c493-6684-4f5a-a4c3-5fd5f628c31c"
   },
   "outputs": [],
   "source": [
    "G.number_of_nodes()"
   ]
  },
  {
   "cell_type": "code",
   "execution_count": null,
   "metadata": {
    "colab": {
     "base_uri": "https://localhost:8080/",
     "height": 34
    },
    "colab_type": "code",
    "executionInfo": {
     "elapsed": 5005,
     "status": "ok",
     "timestamp": 1598369488356,
     "user": {
      "displayName": "Marian Dörk",
      "photoUrl": "https://lh3.googleusercontent.com/a-/AOh14GhqiajTdRS6NXELnqFzS3NNM3uxy6nUDGSMCjvAjw=s64",
      "userId": "05248840544598202773"
     },
     "user_tz": -120
    },
    "id": "B-mhqZQUorCx",
    "outputId": "3c94b747-9c47-4e38-fa97-fa5adb7c83d0"
   },
   "outputs": [],
   "source": [
    "G.number_of_edges()"
   ]
  },
  {
   "cell_type": "markdown",
   "metadata": {
    "colab_type": "text",
    "id": "64yyTCVc3TRg"
   },
   "source": [
    "There is a convenient **`info()`** function (akin to the Pandas function of the same name) it gives us some basic stats, including the average degree, i.e., the number of connections an average node in this graph has:"
   ]
  },
  {
   "cell_type": "code",
   "execution_count": null,
   "metadata": {
    "colab": {
     "base_uri": "https://localhost:8080/",
     "height": 102
    },
    "colab_type": "code",
    "executionInfo": {
     "elapsed": 4983,
     "status": "ok",
     "timestamp": 1598369488357,
     "user": {
      "displayName": "Marian Dörk",
      "photoUrl": "https://lh3.googleusercontent.com/a-/AOh14GhqiajTdRS6NXELnqFzS3NNM3uxy6nUDGSMCjvAjw=s64",
      "userId": "05248840544598202773"
     },
     "user_tz": -120
    },
    "id": "KzYumnNu3UL5",
    "outputId": "1b77bf9d-062d-4bee-8976-194157360b22"
   },
   "outputs": [],
   "source": [
    "print(nx.info(G))"
   ]
  },
  {
   "cell_type": "markdown",
   "metadata": {
    "colab_type": "text",
    "id": "dWvYO4t5781a"
   },
   "source": [
    "### Graph metrics\n",
    "\n",
    "Networks may vary a lot by their number of edges in relationship to the number of nodes, which is considered the **`density()`** of a network. The density of a network ranges between 0 and 1: from no connections whatsover to all every node is connected to every other node. It thus also relates to the probability of two random nodes being connected, which we have used further above!"
   ]
  },
  {
   "cell_type": "code",
   "execution_count": null,
   "metadata": {
    "colab": {
     "base_uri": "https://localhost:8080/",
     "height": 34
    },
    "colab_type": "code",
    "executionInfo": {
     "elapsed": 4958,
     "status": "ok",
     "timestamp": 1598369488358,
     "user": {
      "displayName": "Marian Dörk",
      "photoUrl": "https://lh3.googleusercontent.com/a-/AOh14GhqiajTdRS6NXELnqFzS3NNM3uxy6nUDGSMCjvAjw=s64",
      "userId": "05248840544598202773"
     },
     "user_tz": -120
    },
    "id": "1JfIanWf8s68",
    "outputId": "0baf1616-38b8-4658-b476-405ac3b7d7e8"
   },
   "outputs": [],
   "source": [
    "density = nx.density(G)\n",
    "density"
   ]
  },
  {
   "cell_type": "markdown",
   "metadata": {
    "colab_type": "text",
    "id": "mMEh76Z29xp_"
   },
   "source": [
    "Another metric that interests network scientists is the shortest path between a given pair of nodes, i.e., we might want to know the shortest connection between two characters in the les mis network:"
   ]
  },
  {
   "cell_type": "code",
   "execution_count": null,
   "metadata": {
    "colab": {
     "base_uri": "https://localhost:8080/",
     "height": 34
    },
    "colab_type": "code",
    "executionInfo": {
     "elapsed": 4938,
     "status": "ok",
     "timestamp": 1598369488358,
     "user": {
      "displayName": "Marian Dörk",
      "photoUrl": "https://lh3.googleusercontent.com/a-/AOh14GhqiajTdRS6NXELnqFzS3NNM3uxy6nUDGSMCjvAjw=s64",
      "userId": "05248840544598202773"
     },
     "user_tz": -120
    },
    "id": "e-ALYnym-iib",
    "outputId": "938765be-93e3-4c36-c197-8cc7e614a1e7"
   },
   "outputs": [],
   "source": [
    "names = (\"Napoleon\", \"Jondrette\")\n",
    "\n",
    "ids = [x for x,y in G.nodes(data=True) if y['name'] in names]\n",
    "ids"
   ]
  },
  {
   "cell_type": "code",
   "execution_count": null,
   "metadata": {
    "colab": {
     "base_uri": "https://localhost:8080/",
     "height": 34
    },
    "colab_type": "code",
    "executionInfo": {
     "elapsed": 4918,
     "status": "ok",
     "timestamp": 1598369488359,
     "user": {
      "displayName": "Marian Dörk",
      "photoUrl": "https://lh3.googleusercontent.com/a-/AOh14GhqiajTdRS6NXELnqFzS3NNM3uxy6nUDGSMCjvAjw=s64",
      "userId": "05248840544598202773"
     },
     "user_tz": -120
    },
    "id": "GsL0J_V0-DaN",
    "outputId": "20042a57-b952-4fa0-de38-ec8ca2e73f6a"
   },
   "outputs": [],
   "source": [
    "path = nx.shortest_path(G, source=ids[0], target=ids[1])\n",
    "path"
   ]
  },
  {
   "cell_type": "markdown",
   "metadata": {
    "colab_type": "text",
    "id": "z5hxsxNFBWVw"
   },
   "source": [
    "✏️ *Of course, these are just their nondescript ids. What would it take to know their names?*"
   ]
  },
  {
   "cell_type": "code",
   "execution_count": null,
   "metadata": {
    "colab": {
     "base_uri": "https://localhost:8080/",
     "height": 34
    },
    "colab_type": "code",
    "executionInfo": {
     "elapsed": 4819,
     "status": "ok",
     "timestamp": 1598369488359,
     "user": {
      "displayName": "Marian Dörk",
      "photoUrl": "https://lh3.googleusercontent.com/a-/AOh14GhqiajTdRS6NXELnqFzS3NNM3uxy6nUDGSMCjvAjw=s64",
      "userId": "05248840544598202773"
     },
     "user_tz": -120
    },
    "id": "XP1dNm2IBc64",
    "outputId": "bbadd608-91cd-4fd0-ebaa-1b1d44eb238c"
   },
   "outputs": [],
   "source": [
    "[G.nodes[id][\"name\"] for id in path]"
   ]
  },
  {
   "cell_type": "markdown",
   "metadata": {
    "colab_type": "text",
    "id": "LvjyaU6IA6Dr"
   },
   "source": [
    "The length of above path equals the edges between these nodes, which equals the number of elements in the list minus 1:"
   ]
  },
  {
   "cell_type": "code",
   "execution_count": null,
   "metadata": {
    "colab": {
     "base_uri": "https://localhost:8080/",
     "height": 34
    },
    "colab_type": "code",
    "executionInfo": {
     "elapsed": 4790,
     "status": "ok",
     "timestamp": 1598369488359,
     "user": {
      "displayName": "Marian Dörk",
      "photoUrl": "https://lh3.googleusercontent.com/a-/AOh14GhqiajTdRS6NXELnqFzS3NNM3uxy6nUDGSMCjvAjw=s64",
      "userId": "05248840544598202773"
     },
     "user_tz": -120
    },
    "id": "VTina7r2BOLs",
    "outputId": "2b14e0d8-1a60-4863-9dc8-2d5033a925c5"
   },
   "outputs": [],
   "source": [
    "len(path)-1"
   ]
  },
  {
   "cell_type": "markdown",
   "metadata": {
    "colab_type": "text",
    "id": "OhQc1zcvbA2L"
   },
   "source": [
    "## 🥗 3. Present\n",
    "\n",
    "After adding several centrality measures, we now have a fertile ground to generate insightful network visualizations that go beyond the default encoding you have already seen above. For the following steps we will continue with the Les Misérables network. "
   ]
  },
  {
   "cell_type": "markdown",
   "metadata": {
    "colab_type": "text",
    "id": "Gk8Ghyqm_bsk"
   },
   "source": [
    "### Force-directed layouts\n",
    "\n",
    "Let's generate a network visualization and add a few quick customizations that might help to make sense of the network. First let's give the chart a bit more breathing room via the `properties()` call and add `tooltips` to the nodes:"
   ]
  },
  {
   "cell_type": "code",
   "execution_count": null,
   "metadata": {
    "colab": {
     "base_uri": "https://localhost:8080/",
     "height": 531
    },
    "colab_type": "code",
    "executionInfo": {
     "elapsed": 5347,
     "status": "ok",
     "timestamp": 1598369489029,
     "user": {
      "displayName": "Marian Dörk",
      "photoUrl": "https://lh3.googleusercontent.com/a-/AOh14GhqiajTdRS6NXELnqFzS3NNM3uxy6nUDGSMCjvAjw=s64",
      "userId": "05248840544598202773"
     },
     "user_tz": -120
    },
    "id": "TNaIagcnMxt-",
    "outputId": "9deb8f56-5778-4b05-8294-686815e61706"
   },
   "outputs": [],
   "source": [
    "nxa.draw_networkx(G, node_tooltip=\"name\").properties(width=500, height=500)"
   ]
  },
  {
   "cell_type": "markdown",
   "metadata": {
    "colab_type": "text",
    "id": "X5s69UEUxgEB"
   },
   "source": [
    "The `spring_layout` is the default layout; it is an implementation of the Fruchterman-Reingold algorithm and takes several parameters. You can adjust it by generating the `pos` by hand.\n",
    "\n",
    "✏️ *Have a look into the [documentation](https://networkx.github.io/documentation/stable/reference/generated/networkx.drawing.layout.spring_layout.html?highlight=spring_layout#networkx.drawing.layout.spring_layout) and try out other parameters, e.g. number of iterations:*"
   ]
  },
  {
   "cell_type": "code",
   "execution_count": null,
   "metadata": {
    "colab": {
     "base_uri": "https://localhost:8080/",
     "height": 541
    },
    "colab_type": "code",
    "executionInfo": {
     "elapsed": 5763,
     "status": "ok",
     "timestamp": 1598369489461,
     "user": {
      "displayName": "Marian Dörk",
      "photoUrl": "https://lh3.googleusercontent.com/a-/AOh14GhqiajTdRS6NXELnqFzS3NNM3uxy6nUDGSMCjvAjw=s64",
      "userId": "05248840544598202773"
     },
     "user_tz": -120
    },
    "id": "bKldNg67yJVB",
    "outputId": "e51fa59b-9d5e-447f-9c72-5e2b312bd36f"
   },
   "outputs": [],
   "source": [
    "pos = nx.spring_layout(G, iterations=100)\n",
    "\n",
    "nxa.draw_networkx(G, pos, node_tooltip=\"name\").properties(width=500, height=500)"
   ]
  },
  {
   "cell_type": "markdown",
   "metadata": {
    "colab_type": "text",
    "id": "JR5DfPKnQuGi"
   },
   "source": [
    "### Custom graph layouts\n",
    "\n",
    "Since nx_altair generates the network visualization as Altair charts, we can actually decide much more about the visual encoding. The first choice is how the visual variable x/y-position is used. In other words, how should the layout of the network be generated. The `spring_layout` is the default graph layout that nx_altair uses, but NetworkX provides several other [graph layouts](https://networkx.github.io/documentation/stable/reference/drawing.html#module-networkx.drawing.layout).\n",
    "\n",
    "✏️ *Replace `spring_layout` with another layout that you deem more useful:*\n"
   ]
  },
  {
   "cell_type": "code",
   "execution_count": null,
   "metadata": {
    "colab": {
     "base_uri": "https://localhost:8080/",
     "height": 535
    },
    "colab_type": "code",
    "executionInfo": {
     "elapsed": 6357,
     "status": "ok",
     "timestamp": 1598369490072,
     "user": {
      "displayName": "Marian Dörk",
      "photoUrl": "https://lh3.googleusercontent.com/a-/AOh14GhqiajTdRS6NXELnqFzS3NNM3uxy6nUDGSMCjvAjw=s64",
      "userId": "05248840544598202773"
     },
     "user_tz": -120
    },
    "id": "QSY4LobKMf8-",
    "outputId": "f4661935-529e-4357-ca54-1accdd598f48"
   },
   "outputs": [],
   "source": []
  },
  {
   "cell_type": "markdown",
   "metadata": {
    "colab_type": "text",
    "id": "DgDkkFPSSEKo"
   },
   "source": [
    "### Challenge visualization\n",
    "\n",
    "So it is time for another challenge! This time try to visualize a graph where each node is a country and there exists an edge between two countries if they share a common border. Visualize the graph using a spring layout and colour the nodes according to the total cases of the corresponding country. (A quick tip: the range of total cases is pretty wide, so I recommend applying a log-transform on it first.) Beneath this cell I already started the task for you by importing everything you need and the necessary data: ```covid_data``` is our usual dataframe from World In Data and ```adjacency_list``` contains a dictionary of nodes->[neighbours] ."
   ]
  },
  {
   "cell_type": "code",
   "execution_count": null,
   "metadata": {
    "colab": {
     "base_uri": "https://localhost:8080/",
     "height": 569
    },
    "colab_type": "code",
    "executionInfo": {
     "elapsed": 7818,
     "status": "ok",
     "timestamp": 1598369491562,
     "user": {
      "displayName": "Marian Dörk",
      "photoUrl": "https://lh3.googleusercontent.com/a-/AOh14GhqiajTdRS6NXELnqFzS3NNM3uxy6nUDGSMCjvAjw=s64",
      "userId": "05248840544598202773"
     },
     "user_tz": -120
    },
    "id": "ILA7S7xwd65e",
    "outputId": "d773c383-3a0b-4684-fdeb-788157fdc498"
   },
   "outputs": [],
   "source": [
    "# load covid data\n",
    "import pandas as pd\n",
    "import json\n",
    "import numpy as np\n",
    "import requests as r\n",
    "\n",
    "covid_data = pd.read_csv(\"https://covid.ourworldindata.org/data/owid-covid-data.csv\")\n",
    "adjacency_list = r.get('https://raw.githubusercontent.com/P1sec/country_adjacency/master/country_adj.json').json()"
   ]
  },
  {
   "cell_type": "code",
   "execution_count": null,
   "metadata": {},
   "outputs": [],
   "source": [
    "case_data = covid_data[['iso_code', 'total_cases', 'continent', 'location']].groupby('iso_code').max()\n",
    "case_data['total_cases (log scale)'] = np.log(1+ case_data['total_cases'])\n",
    "case_data = case_data.dropna().to_dict(orient='index')"
   ]
  },
  {
   "cell_type": "code",
   "execution_count": null,
   "metadata": {},
   "outputs": [],
   "source": [
    "G = nx.Graph(adjacency_list)\n",
    "pos = nx.spring_layout(G, iterations=30)\n",
    "\n",
    "nx.set_node_attributes(G, case_data)\n",
    "\n",
    "nxa.draw_networkx(G, pos,\n",
    "                 linewidths=0,\n",
    "                 node_color='total_cases (log scale)',\n",
    "                 node_size=100,\n",
    "                 node_tooltip=['location', 'total_cases'])"
   ]
  },
  {
   "cell_type": "markdown",
   "metadata": {
    "colab_type": "text",
    "id": "wAGrzMRbhNWL"
   },
   "source": [
    "## Sources\n",
    "\n",
    "\n",
    "Tutorials & Documentation\n",
    "- [Tutorial — NetworkX 2.4 documentation](https://networkx.github.io/documentation/stable/tutorial.html)\n",
    "- [Exploring and Analyzing Network Data with Python](https://programminghistorian.org/en/lessons/exploring-and-analyzing-network-data-with-python)\n",
    "- https://github.com/Zsailer/nx_altair\n"
   ]
  }
 ],
 "metadata": {
  "colab": {
   "authorship_tag": "ABX9TyNIu52nSwgJ4i7TDVQ/n9C0",
   "collapsed_sections": [],
   "name": "infovis7networks.ipynb",
   "provenance": [],
   "toc_visible": true
  },
  "kernelspec": {
   "display_name": "Python 3",
   "language": "python",
   "name": "python3"
  },
  "language_info": {
   "codemirror_mode": {
    "name": "ipython",
    "version": 3
   },
   "file_extension": ".py",
   "mimetype": "text/x-python",
   "name": "python",
   "nbconvert_exporter": "python",
   "pygments_lexer": "ipython3",
   "version": "3.11.4"
  }
 },
 "nbformat": 4,
 "nbformat_minor": 4
}
