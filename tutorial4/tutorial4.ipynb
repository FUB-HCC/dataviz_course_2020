{
 "cells": [
  {
   "cell_type": "markdown",
   "metadata": {
    "colab_type": "text",
    "id": "gdoSGJp1fRAX"
   },
   "source": [
    "**Data Visualization course - winter semester 20/21 - FU Berlin**\n",
    "\n",
    "*Tutorials adapted from the [Information Visualization](https://infovis.fh-potsdam.de/tutorials/) course at the FH Potsdam*\n",
    "\n",
    "# Tutorial 4: Geovisualization\n",
    "\n",
    "In this installment of the information visualization tutorials we will be analyzing and visualizing geographic data; i.e., data that refers to geospatial entities. Geospatial entities can, for example, be particular places such as schools and libraries or political boundaries of cities or countries. Of course, this tutorial only scratches the surface. Consider this as a teaser into geovisualization, which in itself has become a branch of research and practice at the intersection of geography and visualization. We will only touch on a few basic steps to get your feet wet and hands dirty.\n"
   ]
  },
  {
   "cell_type": "markdown",
   "metadata": {
    "colab_type": "text",
    "id": "LqDie8pqawdf"
   },
   "source": [
    "## 🛒 1. Prepare \n",
    "\n",
    "As you come to expect by now we first assemble our tools and then prepare the data. "
   ]
  },
  {
   "cell_type": "code",
   "execution_count": null,
   "metadata": {
    "colab": {},
    "colab_type": "code",
    "id": "HAdaamMcGEwV"
   },
   "outputs": [],
   "source": [
    "import altair as alt\n",
    "import pandas as pd\n",
    "from vega_datasets import data"
   ]
  },
  {
   "cell_type": "markdown",
   "metadata": {
    "colab_type": "text",
    "id": "LarBaT3QUDbg"
   },
   "source": [
    "### Load Data\n",
    "\n",
    "As usual, we need to get ou data into our notebook first:"
   ]
  },
  {
   "cell_type": "code",
   "execution_count": null,
   "metadata": {
    "colab": {},
    "colab_type": "code",
    "id": "eT05GlA_hVLf"
   },
   "outputs": [],
   "source": [
    "covid_data = pd.read_csv(\"https://covid.ourworldindata.org/data/owid-covid-data.csv\")"
   ]
  },
  {
   "cell_type": "markdown",
   "metadata": {},
   "source": [
    "Additionally to our usual dataset we are going to use another dataset which contains a mapping of different country ISO codes and the avergae coordinates of each country."
   ]
  },
  {
   "cell_type": "code",
   "execution_count": null,
   "metadata": {},
   "outputs": [],
   "source": [
    "code_lookup = pd.read_csv(\"country_lookup.csv\")"
   ]
  },
  {
   "cell_type": "code",
   "execution_count": null,
   "metadata": {},
   "outputs": [],
   "source": [
    "code_lookup.info()"
   ]
  },
  {
   "cell_type": "markdown",
   "metadata": {},
   "source": [
    "Finally we also need data which tells us how countries actually look like in order to visualize them properly. This information is encoded in TopoJSON, an extension of GEOJSON, which is able to encode topology in the often used JSON serialization format."
   ]
  },
  {
   "cell_type": "code",
   "execution_count": null,
   "metadata": {},
   "outputs": [],
   "source": [
    "countries = alt.topo_feature(data.world_110m.url, 'countries')"
   ]
  },
  {
   "cell_type": "code",
   "execution_count": null,
   "metadata": {},
   "outputs": [],
   "source": [
    "countries"
   ]
  },
  {
   "cell_type": "markdown",
   "metadata": {},
   "source": [
    "## 2. Present"
   ]
  },
  {
   "cell_type": "markdown",
   "metadata": {},
   "source": [
    "### Simple map projection"
   ]
  },
  {
   "cell_type": "code",
   "execution_count": null,
   "metadata": {},
   "outputs": [],
   "source": [
    "alt.Chart(countries).mark_geoshape(\n",
    "    stroke='white',\n",
    "    fill='#A9A9A9'\n",
    ").project(\n",
    "    type='mercator'\n",
    ")"
   ]
  },
  {
   "cell_type": "code",
   "execution_count": null,
   "metadata": {},
   "outputs": [],
   "source": [
    "map = alt.Chart(countries).mark_geoshape(\n",
    "    stroke='white',\n",
    "    fill='#A9A9A9'\n",
    ").project(\n",
    "    type='mercator',\n",
    "    scale=250,\n",
    "    center=[20,55],\n",
    "    clipExtent= [[0,0], [400, 300]]\n",
    ")\n",
    "map"
   ]
  },
  {
   "cell_type": "markdown",
   "metadata": {},
   "source": [
    "### Graduated Symbols"
   ]
  },
  {
   "cell_type": "code",
   "execution_count": null,
   "metadata": {},
   "outputs": [],
   "source": [
    "country_infections = covid_data[['iso_code', 'total_cases_per_million']].groupby('iso_code').max().reset_index()"
   ]
  },
  {
   "cell_type": "code",
   "execution_count": null,
   "metadata": {},
   "outputs": [],
   "source": [
    "country_infections.info()"
   ]
  },
  {
   "cell_type": "code",
   "execution_count": null,
   "metadata": {},
   "outputs": [],
   "source": [
    "merged_lookup_data = country_infections.merge(code_lookup, left_on='iso_code', right_on='Alpha-3 code').rename(columns={'Numeric code': 'id'})\n",
    "merged_lookup_data"
   ]
  },
  {
   "cell_type": "code",
   "execution_count": null,
   "metadata": {},
   "outputs": [],
   "source": [
    "symbols = alt.Chart(merged_lookup_data).mark_circle().encode(\n",
    "    longitude='Longitude (average)',\n",
    "    latitude='Latitude (average)',\n",
    "    size=alt.Size('total_cases_per_million', legend=None),\n",
    "    tooltip=['Country', 'total_cases_per_million'],\n",
    ").project(\n",
    "    type='mercator',\n",
    "    scale=250,\n",
    "    center=[20,55],\n",
    "    clipExtent= [[0,0], [400, 300]]\n",
    ")\n",
    "\n",
    "map + symbols"
   ]
  },
  {
   "cell_type": "markdown",
   "metadata": {},
   "source": [
    "### Choropleth Map"
   ]
  },
  {
   "cell_type": "markdown",
   "metadata": {},
   "source": [
    "For the first time we need to encode our data manually since we use the ```transform_lookup``` function and Altair cannot infer the types of the variable therefore.\n",
    "The following encodings are possible:\n",
    "\n",
    "|   Data Type  | Shorthand Code |            Description            |\n",
    "|:------------:|:--------------:|:---------------------------------:|\n",
    "| quantitative |        Q       | a continuous real-valued quantity |\n",
    "| ordinal      |        O       | a discrete ordered quantity       |\n",
    "| nominal      |        N       | a discrete unordered category     |\n",
    "| temporal     |        T       | a time or date value              |\n",
    "| geojson      |        G       | a geographic shape                |"
   ]
  },
  {
   "cell_type": "code",
   "execution_count": null,
   "metadata": {},
   "outputs": [],
   "source": [
    "alt.Chart(countries).mark_geoshape(\n",
    "    stroke='white'\n",
    ").encode(\n",
    "    color='total_cases_per_million:Q',\n",
    "    tooltip=['Country:N','total_cases_per_million:Q']\n",
    ").transform_lookup(\n",
    "    lookup='id',\n",
    "    from_=alt.LookupData(data=merged_lookup_data, key='id', fields=['total_cases_per_million', 'Country'])\n",
    ").project(\n",
    "    type='mercator',\n",
    "    scale=250,\n",
    "    center=[20,55],\n",
    "    clipExtent= [[0,0], [400, 300]]\n",
    ")"
   ]
  },
  {
   "cell_type": "markdown",
   "metadata": {},
   "source": [
    "Challenge visualization!\n",
    "\n",
    "✏️ *Try to visualize a region of your choice with one of the above shown methods! Tip: Change up the projections as well!*"
   ]
  },
  {
   "cell_type": "markdown",
   "metadata": {
    "colab_type": "text",
    "id": "IELEzpLaViOM"
   },
   "source": [
    "## Sources\n",
    "\n",
    "Tutorials & Documentation\n",
    "- [Specifying Geospatial Data in Altair — Altair 4.1.0 documentation](https://altair-viz.github.io/user_guide/data.html#geospatial-data)\n",
    "- [GeoPandas](https://geopandas.org)\n",
    "- [OSMPythonTools](https://github.com/mocnik-science/osm-python-tools)\n",
    "- [GeoPy](https://geopy.readthedocs.io/)\n",
    "\n",
    "Additionally I recommend looking at the procedure described in the [original tutorial](https://infovis.fh-potsdam.de/tutorials/infovis8geovis.html) by the FH Potsdam, which uses a rather custom approach to visualizing geospatial data in Altair."
   ]
  }
 ],
 "metadata": {
  "colab": {
   "authorship_tag": "ABX9TyMkJ/tzxU1CwkA0+U2mdoy5",
   "collapsed_sections": [],
   "name": "infovis8geovis.ipynb",
   "provenance": [],
   "toc_visible": true
  },
  "kernelspec": {
   "display_name": "Python 3",
   "language": "python",
   "name": "python3"
  },
  "language_info": {
   "codemirror_mode": {
    "name": "ipython",
    "version": 3
   },
   "file_extension": ".py",
   "mimetype": "text/x-python",
   "name": "python",
   "nbconvert_exporter": "python",
   "pygments_lexer": "ipython3",
   "version": "3.11.4"
  }
 },
 "nbformat": 4,
 "nbformat_minor": 4
}
