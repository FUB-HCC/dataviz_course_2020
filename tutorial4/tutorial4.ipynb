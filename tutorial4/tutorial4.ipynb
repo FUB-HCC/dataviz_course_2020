{
 "cells": [
  {
   "cell_type": "markdown",
   "metadata": {
    "colab_type": "text",
    "id": "gdoSGJp1fRAX"
   },
   "source": [
    "**Data Visualization course - winter semester 20/21 - FU Berlin**\n",
    "\n",
    "*Tutorials adapted from the [Information Visualization](https://infovis.fh-potsdam.de/tutorials/) course at the FH Potsdam*\n",
    "\n",
    "# Tutorial 4: Geovisualization\n",
    "\n",
    "In this installment of the information visualization tutorials we will be analyzing and visualizing geographic data; i.e., data that refers to geospatial entities. Geospatial entities can, for example, be particular places such as schools and libraries or political boundaries of cities or countries. Of course, this tutorial only scratches the surface. Consider this as a teaser into geovisualization, which in itself has become a branch of research and practice at the intersection of geography and visualization. We will only touch on a few basic steps to get your feet wet and hands dirty.\n"
   ]
  },
  {
   "cell_type": "markdown",
   "metadata": {
    "colab_type": "text",
    "id": "LqDie8pqawdf"
   },
   "source": [
    "## 🛒 1. Prepare \n",
    "\n",
    "As you come to expect by now we first assemble our tools and then prepare the data. "
   ]
  },
  {
   "cell_type": "code",
   "execution_count": 1,
   "metadata": {
    "colab": {},
    "colab_type": "code",
    "id": "HAdaamMcGEwV"
   },
   "outputs": [],
   "source": [
    "import altair as alt\n",
    "import pandas as pd\n",
    "from vega_datasets import data"
   ]
  },
  {
   "cell_type": "markdown",
   "metadata": {
    "colab_type": "text",
    "id": "LarBaT3QUDbg"
   },
   "source": [
    "### Load Data\n",
    "\n",
    "As usual, we need to get ou data into our notebook first:"
   ]
  },
  {
   "cell_type": "code",
   "execution_count": 2,
   "metadata": {
    "colab": {},
    "colab_type": "code",
    "id": "eT05GlA_hVLf"
   },
   "outputs": [
    {
     "name": "stderr",
     "output_type": "stream",
     "text": [
      "/home/tim/.cache/pypoetry/virtualenvs/dataviz-course-2020-JFruKxhl-py3.8/lib/python3.8/site-packages/IPython/core/interactiveshell.py:3071: DtypeWarning: Columns (1,24) have mixed types.Specify dtype option on import or set low_memory=False.\n",
      "  has_raised = await self.run_ast_nodes(code_ast.body, cell_name,\n"
     ]
    }
   ],
   "source": [
    "covid_data = pd.read_csv(\"https://covid.ourworldindata.org/data/owid-covid-data.csv\")"
   ]
  },
  {
   "cell_type": "markdown",
   "metadata": {},
   "source": [
    "Additionally to our usual dataset we are going to use another dataset which contains a mapping of different country ISO codes and the avergae coordinates of each country."
   ]
  },
  {
   "cell_type": "code",
   "execution_count": 3,
   "metadata": {},
   "outputs": [],
   "source": [
    "code_lookup = pd.read_csv(\"country_lookup.csv\")"
   ]
  },
  {
   "cell_type": "code",
   "execution_count": 4,
   "metadata": {},
   "outputs": [
    {
     "name": "stdout",
     "output_type": "stream",
     "text": [
      "<class 'pandas.core.frame.DataFrame'>\n",
      "RangeIndex: 256 entries, 0 to 255\n",
      "Data columns (total 6 columns):\n",
      " #   Column               Non-Null Count  Dtype  \n",
      "---  ------               --------------  -----  \n",
      " 0   Country              256 non-null    object \n",
      " 1   Alpha-2 code         255 non-null    object \n",
      " 2   Alpha-3 code         256 non-null    object \n",
      " 3   Numeric code         256 non-null    int64  \n",
      " 4   Latitude (average)   256 non-null    float64\n",
      " 5   Longitude (average)  256 non-null    float64\n",
      "dtypes: float64(2), int64(1), object(3)\n",
      "memory usage: 12.1+ KB\n"
     ]
    }
   ],
   "source": [
    "code_lookup.info()"
   ]
  },
  {
   "cell_type": "markdown",
   "metadata": {},
   "source": [
    "Finally we also need data which tells us how countries actually look like in order to visualize them properly. This information is encoded in TopoJSON, an extension of GEOJSON, which is able to encode topology in the often used JSON serialization format."
   ]
  },
  {
   "cell_type": "code",
   "execution_count": 5,
   "metadata": {},
   "outputs": [],
   "source": [
    "countries = alt.topo_feature(data.world_110m.url, 'countries')"
   ]
  },
  {
   "cell_type": "code",
   "execution_count": 6,
   "metadata": {},
   "outputs": [
    {
     "data": {
      "text/plain": [
       "UrlData({\n",
       "  format: TopoDataFormat({\n",
       "    feature: 'countries',\n",
       "    type: 'topojson'\n",
       "  }),\n",
       "  url: 'https://vega.github.io/vega-datasets/data/world-110m.json'\n",
       "})"
      ]
     },
     "execution_count": 6,
     "metadata": {},
     "output_type": "execute_result"
    }
   ],
   "source": [
    "countries"
   ]
  },
  {
   "cell_type": "markdown",
   "metadata": {},
   "source": [
    "## 2. Present"
   ]
  },
  {
   "cell_type": "markdown",
   "metadata": {},
   "source": [
    "### Simple map projection"
   ]
  },
  {
   "cell_type": "code",
   "execution_count": 7,
   "metadata": {},
   "outputs": [
    {
     "data": {
      "text/html": [
       "\n",
       "<div id=\"altair-viz-f073eb0f11214a39a5b78dae8d70a5f0\"></div>\n",
       "<script type=\"text/javascript\">\n",
       "  (function(spec, embedOpt){\n",
       "    let outputDiv = document.currentScript.previousElementSibling;\n",
       "    if (outputDiv.id !== \"altair-viz-f073eb0f11214a39a5b78dae8d70a5f0\") {\n",
       "      outputDiv = document.getElementById(\"altair-viz-f073eb0f11214a39a5b78dae8d70a5f0\");\n",
       "    }\n",
       "    const paths = {\n",
       "      \"vega\": \"https://cdn.jsdelivr.net/npm//vega@5?noext\",\n",
       "      \"vega-lib\": \"https://cdn.jsdelivr.net/npm//vega-lib?noext\",\n",
       "      \"vega-lite\": \"https://cdn.jsdelivr.net/npm//vega-lite@4.8.1?noext\",\n",
       "      \"vega-embed\": \"https://cdn.jsdelivr.net/npm//vega-embed@6?noext\",\n",
       "    };\n",
       "\n",
       "    function loadScript(lib) {\n",
       "      return new Promise(function(resolve, reject) {\n",
       "        var s = document.createElement('script');\n",
       "        s.src = paths[lib];\n",
       "        s.async = true;\n",
       "        s.onload = () => resolve(paths[lib]);\n",
       "        s.onerror = () => reject(`Error loading script: ${paths[lib]}`);\n",
       "        document.getElementsByTagName(\"head\")[0].appendChild(s);\n",
       "      });\n",
       "    }\n",
       "\n",
       "    function showError(err) {\n",
       "      outputDiv.innerHTML = `<div class=\"error\" style=\"color:red;\">${err}</div>`;\n",
       "      throw err;\n",
       "    }\n",
       "\n",
       "    function displayChart(vegaEmbed) {\n",
       "      vegaEmbed(outputDiv, spec, embedOpt)\n",
       "        .catch(err => showError(`Javascript Error: ${err.message}<br>This usually means there's a typo in your chart specification. See the javascript console for the full traceback.`));\n",
       "    }\n",
       "\n",
       "    if(typeof define === \"function\" && define.amd) {\n",
       "      requirejs.config({paths});\n",
       "      require([\"vega-embed\"], displayChart, err => showError(`Error loading script: ${err.message}`));\n",
       "    } else if (typeof vegaEmbed === \"function\") {\n",
       "      displayChart(vegaEmbed);\n",
       "    } else {\n",
       "      loadScript(\"vega\")\n",
       "        .then(() => loadScript(\"vega-lite\"))\n",
       "        .then(() => loadScript(\"vega-embed\"))\n",
       "        .catch(showError)\n",
       "        .then(() => displayChart(vegaEmbed));\n",
       "    }\n",
       "  })({\"config\": {\"view\": {\"continuousWidth\": 400, \"continuousHeight\": 300}}, \"data\": {\"url\": \"https://vega.github.io/vega-datasets/data/world-110m.json\", \"format\": {\"feature\": \"countries\", \"type\": \"topojson\"}}, \"mark\": {\"type\": \"geoshape\", \"fill\": \"#A9A9A9\", \"stroke\": \"white\"}, \"projection\": {\"type\": \"mercator\"}, \"$schema\": \"https://vega.github.io/schema/vega-lite/v4.8.1.json\"}, {\"mode\": \"vega-lite\"});\n",
       "</script>"
      ],
      "text/plain": [
       "alt.Chart(...)"
      ]
     },
     "execution_count": 7,
     "metadata": {},
     "output_type": "execute_result"
    }
   ],
   "source": [
    "alt.Chart(countries).mark_geoshape(\n",
    "    stroke='white',\n",
    "    fill='#A9A9A9'\n",
    ").project(\n",
    "    type='mercator'\n",
    ")"
   ]
  },
  {
   "cell_type": "code",
   "execution_count": 8,
   "metadata": {},
   "outputs": [
    {
     "data": {
      "text/html": [
       "\n",
       "<div id=\"altair-viz-fad28095f1da4e1498ab94c375aed547\"></div>\n",
       "<script type=\"text/javascript\">\n",
       "  (function(spec, embedOpt){\n",
       "    let outputDiv = document.currentScript.previousElementSibling;\n",
       "    if (outputDiv.id !== \"altair-viz-fad28095f1da4e1498ab94c375aed547\") {\n",
       "      outputDiv = document.getElementById(\"altair-viz-fad28095f1da4e1498ab94c375aed547\");\n",
       "    }\n",
       "    const paths = {\n",
       "      \"vega\": \"https://cdn.jsdelivr.net/npm//vega@5?noext\",\n",
       "      \"vega-lib\": \"https://cdn.jsdelivr.net/npm//vega-lib?noext\",\n",
       "      \"vega-lite\": \"https://cdn.jsdelivr.net/npm//vega-lite@4.8.1?noext\",\n",
       "      \"vega-embed\": \"https://cdn.jsdelivr.net/npm//vega-embed@6?noext\",\n",
       "    };\n",
       "\n",
       "    function loadScript(lib) {\n",
       "      return new Promise(function(resolve, reject) {\n",
       "        var s = document.createElement('script');\n",
       "        s.src = paths[lib];\n",
       "        s.async = true;\n",
       "        s.onload = () => resolve(paths[lib]);\n",
       "        s.onerror = () => reject(`Error loading script: ${paths[lib]}`);\n",
       "        document.getElementsByTagName(\"head\")[0].appendChild(s);\n",
       "      });\n",
       "    }\n",
       "\n",
       "    function showError(err) {\n",
       "      outputDiv.innerHTML = `<div class=\"error\" style=\"color:red;\">${err}</div>`;\n",
       "      throw err;\n",
       "    }\n",
       "\n",
       "    function displayChart(vegaEmbed) {\n",
       "      vegaEmbed(outputDiv, spec, embedOpt)\n",
       "        .catch(err => showError(`Javascript Error: ${err.message}<br>This usually means there's a typo in your chart specification. See the javascript console for the full traceback.`));\n",
       "    }\n",
       "\n",
       "    if(typeof define === \"function\" && define.amd) {\n",
       "      requirejs.config({paths});\n",
       "      require([\"vega-embed\"], displayChart, err => showError(`Error loading script: ${err.message}`));\n",
       "    } else if (typeof vegaEmbed === \"function\") {\n",
       "      displayChart(vegaEmbed);\n",
       "    } else {\n",
       "      loadScript(\"vega\")\n",
       "        .then(() => loadScript(\"vega-lite\"))\n",
       "        .then(() => loadScript(\"vega-embed\"))\n",
       "        .catch(showError)\n",
       "        .then(() => displayChart(vegaEmbed));\n",
       "    }\n",
       "  })({\"config\": {\"view\": {\"continuousWidth\": 400, \"continuousHeight\": 300}}, \"data\": {\"url\": \"https://vega.github.io/vega-datasets/data/world-110m.json\", \"format\": {\"feature\": \"countries\", \"type\": \"topojson\"}}, \"mark\": {\"type\": \"geoshape\", \"fill\": \"#A9A9A9\", \"stroke\": \"white\"}, \"projection\": {\"center\": [20, 55], \"clipExtent\": [[0, 0], [400, 300]], \"scale\": 250, \"type\": \"mercator\"}, \"$schema\": \"https://vega.github.io/schema/vega-lite/v4.8.1.json\"}, {\"mode\": \"vega-lite\"});\n",
       "</script>"
      ],
      "text/plain": [
       "alt.Chart(...)"
      ]
     },
     "execution_count": 8,
     "metadata": {},
     "output_type": "execute_result"
    }
   ],
   "source": [
    "map = alt.Chart(countries).mark_geoshape(\n",
    "    stroke='white',\n",
    "    fill='#A9A9A9'\n",
    ").project(\n",
    "    type='mercator',\n",
    "    scale=250,\n",
    "    center=[20,55],\n",
    "    clipExtent= [[0,0], [400, 300]]\n",
    ")\n",
    "map"
   ]
  },
  {
   "cell_type": "markdown",
   "metadata": {},
   "source": [
    "### Graduated Symbols"
   ]
  },
  {
   "cell_type": "code",
   "execution_count": 19,
   "metadata": {},
   "outputs": [],
   "source": [
    "country_infections = covid_data[['iso_code', 'total_cases_per_million']].groupby('iso_code').max().reset_index()"
   ]
  },
  {
   "cell_type": "code",
   "execution_count": 20,
   "metadata": {},
   "outputs": [
    {
     "name": "stdout",
     "output_type": "stream",
     "text": [
      "<class 'pandas.core.frame.DataFrame'>\n",
      "RangeIndex: 211 entries, 0 to 210\n",
      "Data columns (total 2 columns):\n",
      " #   Column                   Non-Null Count  Dtype  \n",
      "---  ------                   --------------  -----  \n",
      " 0   iso_code                 211 non-null    object \n",
      " 1   total_cases_per_million  210 non-null    float64\n",
      "dtypes: float64(1), object(1)\n",
      "memory usage: 3.4+ KB\n"
     ]
    }
   ],
   "source": [
    "country_infections.info()"
   ]
  },
  {
   "cell_type": "code",
   "execution_count": 21,
   "metadata": {},
   "outputs": [
    {
     "data": {
      "text/html": [
       "<div>\n",
       "<style scoped>\n",
       "    .dataframe tbody tr th:only-of-type {\n",
       "        vertical-align: middle;\n",
       "    }\n",
       "\n",
       "    .dataframe tbody tr th {\n",
       "        vertical-align: top;\n",
       "    }\n",
       "\n",
       "    .dataframe thead th {\n",
       "        text-align: right;\n",
       "    }\n",
       "</style>\n",
       "<table border=\"1\" class=\"dataframe\">\n",
       "  <thead>\n",
       "    <tr style=\"text-align: right;\">\n",
       "      <th></th>\n",
       "      <th>iso_code</th>\n",
       "      <th>total_cases_per_million</th>\n",
       "      <th>Country</th>\n",
       "      <th>Alpha-2 code</th>\n",
       "      <th>Alpha-3 code</th>\n",
       "      <th>id</th>\n",
       "      <th>Latitude (average)</th>\n",
       "      <th>Longitude (average)</th>\n",
       "    </tr>\n",
       "  </thead>\n",
       "  <tbody>\n",
       "    <tr>\n",
       "      <th>0</th>\n",
       "      <td>ABW</td>\n",
       "      <td>39282.168</td>\n",
       "      <td>Aruba</td>\n",
       "      <td>AW</td>\n",
       "      <td>ABW</td>\n",
       "      <td>533</td>\n",
       "      <td>12.50</td>\n",
       "      <td>-69.9667</td>\n",
       "    </tr>\n",
       "    <tr>\n",
       "      <th>1</th>\n",
       "      <td>AFG</td>\n",
       "      <td>1022.366</td>\n",
       "      <td>Afghanistan</td>\n",
       "      <td>AF</td>\n",
       "      <td>AFG</td>\n",
       "      <td>4</td>\n",
       "      <td>33.00</td>\n",
       "      <td>65.0000</td>\n",
       "    </tr>\n",
       "    <tr>\n",
       "      <th>2</th>\n",
       "      <td>AGO</td>\n",
       "      <td>190.043</td>\n",
       "      <td>Angola</td>\n",
       "      <td>AO</td>\n",
       "      <td>AGO</td>\n",
       "      <td>24</td>\n",
       "      <td>-12.50</td>\n",
       "      <td>18.5000</td>\n",
       "    </tr>\n",
       "    <tr>\n",
       "      <th>3</th>\n",
       "      <td>AIA</td>\n",
       "      <td>199.973</td>\n",
       "      <td>Anguilla</td>\n",
       "      <td>AI</td>\n",
       "      <td>AIA</td>\n",
       "      <td>660</td>\n",
       "      <td>18.25</td>\n",
       "      <td>-63.1667</td>\n",
       "    </tr>\n",
       "    <tr>\n",
       "      <th>4</th>\n",
       "      <td>ALB</td>\n",
       "      <td>5350.963</td>\n",
       "      <td>Albania</td>\n",
       "      <td>AL</td>\n",
       "      <td>ALB</td>\n",
       "      <td>8</td>\n",
       "      <td>41.00</td>\n",
       "      <td>20.0000</td>\n",
       "    </tr>\n",
       "    <tr>\n",
       "      <th>...</th>\n",
       "      <td>...</td>\n",
       "      <td>...</td>\n",
       "      <td>...</td>\n",
       "      <td>...</td>\n",
       "      <td>...</td>\n",
       "      <td>...</td>\n",
       "      <td>...</td>\n",
       "      <td>...</td>\n",
       "    </tr>\n",
       "    <tr>\n",
       "      <th>213</th>\n",
       "      <td>VNM</td>\n",
       "      <td>11.393</td>\n",
       "      <td>Vietnam</td>\n",
       "      <td>VN</td>\n",
       "      <td>VNM</td>\n",
       "      <td>704</td>\n",
       "      <td>16.00</td>\n",
       "      <td>106.0000</td>\n",
       "    </tr>\n",
       "    <tr>\n",
       "      <th>214</th>\n",
       "      <td>YEM</td>\n",
       "      <td>68.900</td>\n",
       "      <td>Yemen</td>\n",
       "      <td>YE</td>\n",
       "      <td>YEM</td>\n",
       "      <td>887</td>\n",
       "      <td>15.00</td>\n",
       "      <td>48.0000</td>\n",
       "    </tr>\n",
       "    <tr>\n",
       "      <th>215</th>\n",
       "      <td>ZAF</td>\n",
       "      <td>11675.709</td>\n",
       "      <td>South Africa</td>\n",
       "      <td>ZA</td>\n",
       "      <td>ZAF</td>\n",
       "      <td>710</td>\n",
       "      <td>-29.00</td>\n",
       "      <td>24.0000</td>\n",
       "    </tr>\n",
       "    <tr>\n",
       "      <th>216</th>\n",
       "      <td>ZMB</td>\n",
       "      <td>840.842</td>\n",
       "      <td>Zambia</td>\n",
       "      <td>ZM</td>\n",
       "      <td>ZMB</td>\n",
       "      <td>894</td>\n",
       "      <td>-15.00</td>\n",
       "      <td>30.0000</td>\n",
       "    </tr>\n",
       "    <tr>\n",
       "      <th>217</th>\n",
       "      <td>ZWE</td>\n",
       "      <td>538.992</td>\n",
       "      <td>Zimbabwe</td>\n",
       "      <td>ZW</td>\n",
       "      <td>ZWE</td>\n",
       "      <td>716</td>\n",
       "      <td>-20.00</td>\n",
       "      <td>30.0000</td>\n",
       "    </tr>\n",
       "  </tbody>\n",
       "</table>\n",
       "<p>218 rows × 8 columns</p>\n",
       "</div>"
      ],
      "text/plain": [
       "    iso_code  total_cases_per_million       Country Alpha-2 code Alpha-3 code  \\\n",
       "0        ABW                39282.168         Aruba           AW          ABW   \n",
       "1        AFG                 1022.366   Afghanistan           AF          AFG   \n",
       "2        AGO                  190.043        Angola           AO          AGO   \n",
       "3        AIA                  199.973      Anguilla           AI          AIA   \n",
       "4        ALB                 5350.963       Albania           AL          ALB   \n",
       "..       ...                      ...           ...          ...          ...   \n",
       "213      VNM                   11.393       Vietnam           VN          VNM   \n",
       "214      YEM                   68.900         Yemen           YE          YEM   \n",
       "215      ZAF                11675.709  South Africa           ZA          ZAF   \n",
       "216      ZMB                  840.842        Zambia           ZM          ZMB   \n",
       "217      ZWE                  538.992      Zimbabwe           ZW          ZWE   \n",
       "\n",
       "      id  Latitude (average)  Longitude (average)  \n",
       "0    533               12.50             -69.9667  \n",
       "1      4               33.00              65.0000  \n",
       "2     24              -12.50              18.5000  \n",
       "3    660               18.25             -63.1667  \n",
       "4      8               41.00              20.0000  \n",
       "..   ...                 ...                  ...  \n",
       "213  704               16.00             106.0000  \n",
       "214  887               15.00              48.0000  \n",
       "215  710              -29.00              24.0000  \n",
       "216  894              -15.00              30.0000  \n",
       "217  716              -20.00              30.0000  \n",
       "\n",
       "[218 rows x 8 columns]"
      ]
     },
     "execution_count": 21,
     "metadata": {},
     "output_type": "execute_result"
    }
   ],
   "source": [
    "merged_lookup_data = country_infections.merge(code_lookup, left_on='iso_code', right_on='Alpha-3 code').rename(columns={'Numeric code': 'id'})\n",
    "merged_lookup_data"
   ]
  },
  {
   "cell_type": "code",
   "execution_count": 22,
   "metadata": {},
   "outputs": [
    {
     "data": {
      "text/html": [
       "\n",
       "<div id=\"altair-viz-c8b0f322706c4c1c8081894866143c36\"></div>\n",
       "<script type=\"text/javascript\">\n",
       "  (function(spec, embedOpt){\n",
       "    let outputDiv = document.currentScript.previousElementSibling;\n",
       "    if (outputDiv.id !== \"altair-viz-c8b0f322706c4c1c8081894866143c36\") {\n",
       "      outputDiv = document.getElementById(\"altair-viz-c8b0f322706c4c1c8081894866143c36\");\n",
       "    }\n",
       "    const paths = {\n",
       "      \"vega\": \"https://cdn.jsdelivr.net/npm//vega@5?noext\",\n",
       "      \"vega-lib\": \"https://cdn.jsdelivr.net/npm//vega-lib?noext\",\n",
       "      \"vega-lite\": \"https://cdn.jsdelivr.net/npm//vega-lite@4.8.1?noext\",\n",
       "      \"vega-embed\": \"https://cdn.jsdelivr.net/npm//vega-embed@6?noext\",\n",
       "    };\n",
       "\n",
       "    function loadScript(lib) {\n",
       "      return new Promise(function(resolve, reject) {\n",
       "        var s = document.createElement('script');\n",
       "        s.src = paths[lib];\n",
       "        s.async = true;\n",
       "        s.onload = () => resolve(paths[lib]);\n",
       "        s.onerror = () => reject(`Error loading script: ${paths[lib]}`);\n",
       "        document.getElementsByTagName(\"head\")[0].appendChild(s);\n",
       "      });\n",
       "    }\n",
       "\n",
       "    function showError(err) {\n",
       "      outputDiv.innerHTML = `<div class=\"error\" style=\"color:red;\">${err}</div>`;\n",
       "      throw err;\n",
       "    }\n",
       "\n",
       "    function displayChart(vegaEmbed) {\n",
       "      vegaEmbed(outputDiv, spec, embedOpt)\n",
       "        .catch(err => showError(`Javascript Error: ${err.message}<br>This usually means there's a typo in your chart specification. See the javascript console for the full traceback.`));\n",
       "    }\n",
       "\n",
       "    if(typeof define === \"function\" && define.amd) {\n",
       "      requirejs.config({paths});\n",
       "      require([\"vega-embed\"], displayChart, err => showError(`Error loading script: ${err.message}`));\n",
       "    } else if (typeof vegaEmbed === \"function\") {\n",
       "      displayChart(vegaEmbed);\n",
       "    } else {\n",
       "      loadScript(\"vega\")\n",
       "        .then(() => loadScript(\"vega-lite\"))\n",
       "        .then(() => loadScript(\"vega-embed\"))\n",
       "        .catch(showError)\n",
       "        .then(() => displayChart(vegaEmbed));\n",
       "    }\n",
       "  })({\"config\": {\"view\": {\"continuousWidth\": 400, \"continuousHeight\": 300}}, \"layer\": [{\"data\": {\"url\": \"https://vega.github.io/vega-datasets/data/world-110m.json\", \"format\": {\"feature\": \"countries\", \"type\": \"topojson\"}}, \"mark\": {\"type\": \"geoshape\", \"fill\": \"#A9A9A9\", \"stroke\": \"white\"}, \"projection\": {\"center\": [20, 55], \"clipExtent\": [[0, 0], [400, 300]], \"scale\": 250, \"type\": \"mercator\"}}, {\"data\": {\"name\": \"data-d41a7dd5da5f21da657ccf880058d498\"}, \"mark\": \"circle\", \"encoding\": {\"latitude\": {\"field\": \"Latitude (average)\", \"type\": \"quantitative\"}, \"longitude\": {\"field\": \"Longitude (average)\", \"type\": \"quantitative\"}, \"size\": {\"type\": \"quantitative\", \"field\": \"total_cases_per_million\", \"legend\": null}, \"tooltip\": [{\"type\": \"nominal\", \"field\": \"Country\"}, {\"type\": \"quantitative\", \"field\": \"total_cases_per_million\"}]}, \"projection\": {\"center\": [20, 55], \"clipExtent\": [[0, 0], [400, 300]], \"scale\": 250, \"type\": \"mercator\"}}], \"$schema\": \"https://vega.github.io/schema/vega-lite/v4.8.1.json\", \"datasets\": {\"data-d41a7dd5da5f21da657ccf880058d498\": [{\"iso_code\": \"ABW\", \"total_cases_per_million\": 39282.168, \"Country\": \"Aruba\", \"Alpha-2 code\": \"AW\", \"Alpha-3 code\": \"ABW\", \"id\": 533, \"Latitude (average)\": 12.5, \"Longitude (average)\": -69.9667}, {\"iso_code\": \"AFG\", \"total_cases_per_million\": 1022.3660000000001, \"Country\": \"Afghanistan\", \"Alpha-2 code\": \"AF\", \"Alpha-3 code\": \"AFG\", \"id\": 4, \"Latitude (average)\": 33.0, \"Longitude (average)\": 65.0}, {\"iso_code\": \"AGO\", \"total_cases_per_million\": 190.043, \"Country\": \"Angola\", \"Alpha-2 code\": \"AO\", \"Alpha-3 code\": \"AGO\", \"id\": 24, \"Latitude (average)\": -12.5, \"Longitude (average)\": 18.5}, {\"iso_code\": \"AIA\", \"total_cases_per_million\": 199.97299999999998, \"Country\": \"Anguilla\", \"Alpha-2 code\": \"AI\", \"Alpha-3 code\": \"AIA\", \"id\": 660, \"Latitude (average)\": 18.25, \"Longitude (average)\": -63.1667}, {\"iso_code\": \"ALB\", \"total_cases_per_million\": 5350.963000000001, \"Country\": \"Albania\", \"Alpha-2 code\": \"AL\", \"Alpha-3 code\": \"ALB\", \"id\": 8, \"Latitude (average)\": 41.0, \"Longitude (average)\": 20.0}, {\"iso_code\": \"AND\", \"total_cases_per_million\": 34892.901, \"Country\": \"Andorra\", \"Alpha-2 code\": \"AD\", \"Alpha-3 code\": \"AND\", \"id\": 20, \"Latitude (average)\": 42.5, \"Longitude (average)\": 1.6}, {\"iso_code\": \"ARE\", \"total_cases_per_million\": 10740.617, \"Country\": \"United Arab Emirates\", \"Alpha-2 code\": \"AE\", \"Alpha-3 code\": \"ARE\", \"id\": 784, \"Latitude (average)\": 24.0, \"Longitude (average)\": 54.0}, {\"iso_code\": \"ARG\", \"total_cases_per_million\": 19784.879, \"Country\": \"Argentina\", \"Alpha-2 code\": \"AR\", \"Alpha-3 code\": \"ARG\", \"id\": 32, \"Latitude (average)\": -34.0, \"Longitude (average)\": -64.0}, {\"iso_code\": \"ARM\", \"total_cases_per_million\": 19050.47, \"Country\": \"Armenia\", \"Alpha-2 code\": \"AM\", \"Alpha-3 code\": \"ARM\", \"id\": 51, \"Latitude (average)\": 40.0, \"Longitude (average)\": 45.0}, {\"iso_code\": \"ATG\", \"total_cases_per_million\": 1133.486, \"Country\": \"Antigua and Barbuda\", \"Alpha-2 code\": \"AG\", \"Alpha-3 code\": \"ATG\", \"id\": 28, \"Latitude (average)\": 17.05, \"Longitude (average)\": -61.8}, {\"iso_code\": \"AUS\", \"total_cases_per_million\": 1069.181, \"Country\": \"Australia\", \"Alpha-2 code\": \"AU\", \"Alpha-3 code\": \"AUS\", \"id\": 36, \"Latitude (average)\": -27.0, \"Longitude (average)\": 133.0}, {\"iso_code\": \"AUT\", \"total_cases_per_million\": 6215.9130000000005, \"Country\": \"Austria\", \"Alpha-2 code\": \"AT\", \"Alpha-3 code\": \"AUT\", \"id\": 40, \"Latitude (average)\": 47.3333, \"Longitude (average)\": 13.3333}, {\"iso_code\": \"AZE\", \"total_cases_per_million\": 4140.5740000000005, \"Country\": \"Azerbaijan\", \"Alpha-2 code\": \"AZ\", \"Alpha-3 code\": \"AZE\", \"id\": 31, \"Latitude (average)\": 40.5, \"Longitude (average)\": 47.5}, {\"iso_code\": \"BDI\", \"total_cases_per_million\": 44.068000000000005, \"Country\": \"Burundi\", \"Alpha-2 code\": \"BI\", \"Alpha-3 code\": \"BDI\", \"id\": 108, \"Latitude (average)\": -3.5, \"Longitude (average)\": 30.0}, {\"iso_code\": \"BEL\", \"total_cases_per_million\": 13992.267, \"Country\": \"Belgium\", \"Alpha-2 code\": \"BE\", \"Alpha-3 code\": \"BEL\", \"id\": 56, \"Latitude (average)\": 50.8333, \"Longitude (average)\": 4.0}, {\"iso_code\": \"BEN\", \"total_cases_per_million\": 198.875, \"Country\": \"Benin\", \"Alpha-2 code\": \"BJ\", \"Alpha-3 code\": \"BEN\", \"id\": 204, \"Latitude (average)\": 9.5, \"Longitude (average)\": 2.25}, {\"iso_code\": \"BFA\", \"total_cases_per_million\": 109.074, \"Country\": \"Burkina Faso\", \"Alpha-2 code\": \"BF\", \"Alpha-3 code\": \"BFA\", \"id\": 854, \"Latitude (average)\": 13.0, \"Longitude (average)\": -2.0}, {\"iso_code\": \"BGD\", \"total_cases_per_million\": 2296.845, \"Country\": \"Bangladesh\", \"Alpha-2 code\": \"BD\", \"Alpha-3 code\": \"BGD\", \"id\": 50, \"Latitude (average)\": 24.0, \"Longitude (average)\": 90.0}, {\"iso_code\": \"BGR\", \"total_cases_per_million\": 3511.865, \"Country\": \"Bulgaria\", \"Alpha-2 code\": \"BG\", \"Alpha-3 code\": \"BGR\", \"id\": 100, \"Latitude (average)\": 43.0, \"Longitude (average)\": 25.0}, {\"iso_code\": \"BHR\", \"total_cases_per_million\": 44245.27, \"Country\": \"Bahrain\", \"Alpha-2 code\": \"BH\", \"Alpha-3 code\": \"BHR\", \"id\": 48, \"Latitude (average)\": 26.0, \"Longitude (average)\": 50.55}, {\"iso_code\": \"BHS\", \"total_cases_per_million\": 12912.971000000001, \"Country\": \"Bahamas\", \"Alpha-2 code\": \"BS\", \"Alpha-3 code\": \"BHS\", \"id\": 44, \"Latitude (average)\": 24.25, \"Longitude (average)\": -76.0}, {\"iso_code\": \"BIH\", \"total_cases_per_million\": 9118.771, \"Country\": \"Bosnia and Herzegovina\", \"Alpha-2 code\": \"BA\", \"Alpha-3 code\": \"BIH\", \"id\": 70, \"Latitude (average)\": 44.0, \"Longitude (average)\": 18.0}, {\"iso_code\": \"BLR\", \"total_cases_per_million\": 8840.212, \"Country\": \"Belarus\", \"Alpha-2 code\": \"BY\", \"Alpha-3 code\": \"BLR\", \"id\": 112, \"Latitude (average)\": 53.0, \"Longitude (average)\": 28.0}, {\"iso_code\": \"BLZ\", \"total_cases_per_million\": 6103.802, \"Country\": \"Belize\", \"Alpha-2 code\": \"BZ\", \"Alpha-3 code\": \"BLZ\", \"id\": 84, \"Latitude (average)\": 17.25, \"Longitude (average)\": -88.75}, {\"iso_code\": \"BMU\", \"total_cases_per_million\": 2954.732, \"Country\": \"Bermuda\", \"Alpha-2 code\": \"BM\", \"Alpha-3 code\": \"BMU\", \"id\": 60, \"Latitude (average)\": 32.3333, \"Longitude (average)\": -64.75}, {\"iso_code\": \"BOL\", \"total_cases_per_million\": 11871.298, \"Country\": \"Bolivia,Plurinational State of\", \"Alpha-2 code\": \"BO\", \"Alpha-3 code\": \"BOL\", \"id\": 68, \"Latitude (average)\": -17.0, \"Longitude (average)\": -65.0}, {\"iso_code\": \"BOL\", \"total_cases_per_million\": 11871.298, \"Country\": \"Bolivia\", \"Alpha-2 code\": \"BO\", \"Alpha-3 code\": \"BOL\", \"id\": 68, \"Latitude (average)\": -17.0, \"Longitude (average)\": -65.0}, {\"iso_code\": \"BRA\", \"total_cases_per_million\": 23969.685, \"Country\": \"Brazil\", \"Alpha-2 code\": \"BR\", \"Alpha-3 code\": \"BRA\", \"id\": 76, \"Latitude (average)\": -10.0, \"Longitude (average)\": -55.0}, {\"iso_code\": \"BRB\", \"total_cases_per_million\": 723.803, \"Country\": \"Barbados\", \"Alpha-2 code\": \"BB\", \"Alpha-3 code\": \"BRB\", \"id\": 52, \"Latitude (average)\": 13.1667, \"Longitude (average)\": -59.5333}, {\"iso_code\": \"BRN\", \"total_cases_per_million\": 333.727, \"Country\": \"Brunei Darussalam\", \"Alpha-2 code\": \"BN\", \"Alpha-3 code\": \"BRN\", \"id\": 96, \"Latitude (average)\": 4.5, \"Longitude (average)\": 114.6667}, {\"iso_code\": \"BRN\", \"total_cases_per_million\": 333.727, \"Country\": \"Brunei\", \"Alpha-2 code\": \"BN\", \"Alpha-3 code\": \"BRN\", \"id\": 96, \"Latitude (average)\": 4.5, \"Longitude (average)\": 114.6667}, {\"iso_code\": \"BTN\", \"total_cases_per_million\": 400.46, \"Country\": \"Bhutan\", \"Alpha-2 code\": \"BT\", \"Alpha-3 code\": \"BTN\", \"id\": 64, \"Latitude (average)\": 27.5, \"Longitude (average)\": 90.5}, {\"iso_code\": \"BWA\", \"total_cases_per_million\": 1922.075, \"Country\": \"Botswana\", \"Alpha-2 code\": \"BW\", \"Alpha-3 code\": \"BWA\", \"id\": 72, \"Latitude (average)\": -22.0, \"Longitude (average)\": 24.0}, {\"iso_code\": \"CAF\", \"total_cases_per_million\": 1005.018, \"Country\": \"Central African Republic\", \"Alpha-2 code\": \"CF\", \"Alpha-3 code\": \"CAF\", \"id\": 140, \"Latitude (average)\": 7.0, \"Longitude (average)\": 21.0}, {\"iso_code\": \"CAN\", \"total_cases_per_million\": 4719.312, \"Country\": \"Canada\", \"Alpha-2 code\": \"CA\", \"Alpha-3 code\": \"CAN\", \"id\": 124, \"Latitude (average)\": 60.0, \"Longitude (average)\": -95.0}, {\"iso_code\": \"CHE\", \"total_cases_per_million\": 6959.29, \"Country\": \"Switzerland\", \"Alpha-2 code\": \"CH\", \"Alpha-3 code\": \"CHE\", \"id\": 756, \"Latitude (average)\": 47.0, \"Longitude (average)\": 8.0}, {\"iso_code\": \"CHL\", \"total_cases_per_million\": 25181.3, \"Country\": \"Chile\", \"Alpha-2 code\": \"CL\", \"Alpha-3 code\": \"CHL\", \"id\": 152, \"Latitude (average)\": -30.0, \"Longitude (average)\": -71.0}, {\"iso_code\": \"CHN\", \"total_cases_per_million\": 63.093999999999994, \"Country\": \"China\", \"Alpha-2 code\": \"CN\", \"Alpha-3 code\": \"CHN\", \"id\": 156, \"Latitude (average)\": 35.0, \"Longitude (average)\": 105.0}, {\"iso_code\": \"CIV\", \"total_cases_per_million\": 764.038, \"Country\": \"C\\u00f4te d'Ivoire\", \"Alpha-2 code\": \"CI\", \"Alpha-3 code\": \"CIV\", \"id\": 384, \"Latitude (average)\": 8.0, \"Longitude (average)\": -5.0}, {\"iso_code\": \"CIV\", \"total_cases_per_million\": 764.038, \"Country\": \"Ivory Coast\", \"Alpha-2 code\": \"CI\", \"Alpha-3 code\": \"CIV\", \"id\": 384, \"Latitude (average)\": 8.0, \"Longitude (average)\": -5.0}, {\"iso_code\": \"CMR\", \"total_cases_per_million\": 798.7310000000001, \"Country\": \"Cameroon\", \"Alpha-2 code\": \"CM\", \"Alpha-3 code\": \"CMR\", \"id\": 120, \"Latitude (average)\": 6.0, \"Longitude (average)\": 12.0}, {\"iso_code\": \"COD\", \"total_cases_per_million\": 121.146, \"Country\": \"Congo,the Democratic Republic of the\", \"Alpha-2 code\": \"CD\", \"Alpha-3 code\": \"COD\", \"id\": 180, \"Latitude (average)\": 0.0, \"Longitude (average)\": 25.0}, {\"iso_code\": \"COG\", \"total_cases_per_million\": 927.495, \"Country\": \"Congo\", \"Alpha-2 code\": \"CG\", \"Alpha-3 code\": \"COG\", \"id\": 178, \"Latitude (average)\": -1.0, \"Longitude (average)\": 15.0}, {\"iso_code\": \"COL\", \"total_cases_per_million\": 17910.07, \"Country\": \"Colombia\", \"Alpha-2 code\": \"CO\", \"Alpha-3 code\": \"COL\", \"id\": 170, \"Latitude (average)\": 4.0, \"Longitude (average)\": -72.0}, {\"iso_code\": \"COM\", \"total_cases_per_million\": 569.231, \"Country\": \"Comoros\", \"Alpha-2 code\": \"KM\", \"Alpha-3 code\": \"COM\", \"id\": 174, \"Latitude (average)\": -12.1667, \"Longitude (average)\": 44.25}, {\"iso_code\": \"CPV\", \"total_cases_per_million\": 12719.698999999999, \"Country\": \"Cape Verde\", \"Alpha-2 code\": \"CV\", \"Alpha-3 code\": \"CPV\", \"id\": 132, \"Latitude (average)\": 16.0, \"Longitude (average)\": -24.0}, {\"iso_code\": \"CRI\", \"total_cases_per_million\": 17164.712, \"Country\": \"Costa Rica\", \"Alpha-2 code\": \"CR\", \"Alpha-3 code\": \"CRI\", \"id\": 188, \"Latitude (average)\": 10.0, \"Longitude (average)\": -84.0}, {\"iso_code\": \"CUB\", \"total_cases_per_million\": 527.783, \"Country\": \"Cuba\", \"Alpha-2 code\": \"CU\", \"Alpha-3 code\": \"CUB\", \"id\": 192, \"Latitude (average)\": 21.5, \"Longitude (average)\": -80.0}, {\"iso_code\": \"CYM\", \"total_cases_per_million\": 3362.7509999999997, \"Country\": \"Cayman Islands\", \"Alpha-2 code\": \"KY\", \"Alpha-3 code\": \"CYM\", \"id\": 136, \"Latitude (average)\": 19.5, \"Longitude (average)\": -80.5}, {\"iso_code\": \"CYP\", \"total_cases_per_million\": 2267.385, \"Country\": \"Cyprus\", \"Alpha-2 code\": \"CY\", \"Alpha-3 code\": \"CYP\", \"id\": 196, \"Latitude (average)\": 35.0, \"Longitude (average)\": 33.0}, {\"iso_code\": \"CZE\", \"total_cases_per_million\": 10935.68, \"Country\": \"Czech Republic\", \"Alpha-2 code\": \"CZ\", \"Alpha-3 code\": \"CZE\", \"id\": 203, \"Latitude (average)\": 49.75, \"Longitude (average)\": 15.5}, {\"iso_code\": \"DEU\", \"total_cases_per_million\": 3853.531, \"Country\": \"Germany\", \"Alpha-2 code\": \"DE\", \"Alpha-3 code\": \"DEU\", \"id\": 276, \"Latitude (average)\": 51.0, \"Longitude (average)\": 9.0}, {\"iso_code\": \"DJI\", \"total_cases_per_million\": 5488.855, \"Country\": \"Djibouti\", \"Alpha-2 code\": \"DJ\", \"Alpha-3 code\": \"DJI\", \"id\": 262, \"Latitude (average)\": 11.5, \"Longitude (average)\": 43.0}, {\"iso_code\": \"DMA\", \"total_cases_per_million\": 444.5, \"Country\": \"Dominica\", \"Alpha-2 code\": \"DM\", \"Alpha-3 code\": \"DMA\", \"id\": 212, \"Latitude (average)\": 15.4167, \"Longitude (average)\": -61.3333}, {\"iso_code\": \"DNK\", \"total_cases_per_million\": 5597.525, \"Country\": \"Denmark\", \"Alpha-2 code\": \"DK\", \"Alpha-3 code\": \"DNK\", \"id\": 208, \"Latitude (average)\": 56.0, \"Longitude (average)\": 10.0}, {\"iso_code\": \"DOM\", \"total_cases_per_million\": 10921.649, \"Country\": \"Dominican Republic\", \"Alpha-2 code\": \"DO\", \"Alpha-3 code\": \"DOM\", \"id\": 214, \"Latitude (average)\": 19.0, \"Longitude (average)\": -70.6667}, {\"iso_code\": \"DZA\", \"total_cases_per_million\": 1210.279, \"Country\": \"Algeria\", \"Alpha-2 code\": \"DZ\", \"Alpha-3 code\": \"DZA\", \"id\": 12, \"Latitude (average)\": 28.0, \"Longitude (average)\": 3.0}, {\"iso_code\": \"ECU\", \"total_cases_per_million\": 8333.758, \"Country\": \"Ecuador\", \"Alpha-2 code\": \"EC\", \"Alpha-3 code\": \"ECU\", \"id\": 218, \"Latitude (average)\": -2.0, \"Longitude (average)\": -77.5}, {\"iso_code\": \"EGY\", \"total_cases_per_million\": 1020.058, \"Country\": \"Egypt\", \"Alpha-2 code\": \"EG\", \"Alpha-3 code\": \"EGY\", \"id\": 818, \"Latitude (average)\": 27.0, \"Longitude (average)\": 30.0}, {\"iso_code\": \"ERI\", \"total_cases_per_million\": 116.73700000000001, \"Country\": \"Eritrea\", \"Alpha-2 code\": \"ER\", \"Alpha-3 code\": \"ERI\", \"id\": 232, \"Latitude (average)\": 15.0, \"Longitude (average)\": 39.0}, {\"iso_code\": \"ESH\", \"total_cases_per_million\": 1282.373, \"Country\": \"Western Sahara\", \"Alpha-2 code\": \"EH\", \"Alpha-3 code\": \"ESH\", \"id\": 732, \"Latitude (average)\": 24.5, \"Longitude (average)\": -13.0}, {\"iso_code\": \"ESP\", \"total_cases_per_million\": 18417.624, \"Country\": \"Spain\", \"Alpha-2 code\": \"ES\", \"Alpha-3 code\": \"ESP\", \"id\": 724, \"Latitude (average)\": 40.0, \"Longitude (average)\": -4.0}, {\"iso_code\": \"EST\", \"total_cases_per_million\": 2913.597, \"Country\": \"Estonia\", \"Alpha-2 code\": \"EE\", \"Alpha-3 code\": \"EST\", \"id\": 233, \"Latitude (average)\": 59.0, \"Longitude (average)\": 26.0}, {\"iso_code\": \"ETH\", \"total_cases_per_million\": 733.232, \"Country\": \"Ethiopia\", \"Alpha-2 code\": \"ET\", \"Alpha-3 code\": \"ETH\", \"id\": 231, \"Latitude (average)\": 8.0, \"Longitude (average)\": 38.0}, {\"iso_code\": \"FIN\", \"total_cases_per_million\": 2089.982, \"Country\": \"Finland\", \"Alpha-2 code\": \"FI\", \"Alpha-3 code\": \"FIN\", \"id\": 246, \"Latitude (average)\": 64.0, \"Longitude (average)\": 26.0}, {\"iso_code\": \"FJI\", \"total_cases_per_million\": 35.696999999999996, \"Country\": \"Fiji\", \"Alpha-2 code\": \"FJ\", \"Alpha-3 code\": \"FJI\", \"id\": 242, \"Latitude (average)\": -18.0, \"Longitude (average)\": 175.0}, {\"iso_code\": \"FLK\", \"total_cases_per_million\": 3732.415, \"Country\": \"Falkland Islands (Malvinas)\", \"Alpha-2 code\": \"FK\", \"Alpha-3 code\": \"FLK\", \"id\": 238, \"Latitude (average)\": -51.75, \"Longitude (average)\": -59.0}, {\"iso_code\": \"FRA\", \"total_cases_per_million\": 11259.912, \"Country\": \"France\", \"Alpha-2 code\": \"FR\", \"Alpha-3 code\": \"FRA\", \"id\": 250, \"Latitude (average)\": 46.0, \"Longitude (average)\": 2.0}, {\"iso_code\": \"FRO\", \"total_cases_per_million\": 9761.588, \"Country\": \"Faroe Islands\", \"Alpha-2 code\": \"FO\", \"Alpha-3 code\": \"FRO\", \"id\": 234, \"Latitude (average)\": 62.0, \"Longitude (average)\": -7.0}, {\"iso_code\": \"GAB\", \"total_cases_per_million\": 3969.488, \"Country\": \"Gabon\", \"Alpha-2 code\": \"GA\", \"Alpha-3 code\": \"GAB\", \"id\": 266, \"Latitude (average)\": -1.0, \"Longitude (average)\": 11.75}, {\"iso_code\": \"GBR\", \"total_cases_per_million\": 8893.085, \"Country\": \"United Kingdom\", \"Alpha-2 code\": \"GB\", \"Alpha-3 code\": \"GBR\", \"id\": 826, \"Latitude (average)\": 54.0, \"Longitude (average)\": -2.0}, {\"iso_code\": \"GEO\", \"total_cases_per_million\": 2956.5009999999997, \"Country\": \"Georgia\", \"Alpha-2 code\": \"GE\", \"Alpha-3 code\": \"GEO\", \"id\": 268, \"Latitude (average)\": 42.0, \"Longitude (average)\": 43.5}, {\"iso_code\": \"GGY\", \"total_cases_per_million\": 3847.76, \"Country\": \"Guernsey\", \"Alpha-2 code\": \"GG\", \"Alpha-3 code\": \"GGY\", \"id\": 831, \"Latitude (average)\": 49.5, \"Longitude (average)\": -2.56}, {\"iso_code\": \"GHA\", \"total_cases_per_million\": 1512.731, \"Country\": \"Ghana\", \"Alpha-2 code\": \"GH\", \"Alpha-3 code\": \"GHA\", \"id\": 288, \"Latitude (average)\": 8.0, \"Longitude (average)\": -2.0}, {\"iso_code\": \"GIB\", \"total_cases_per_million\": 14395.536, \"Country\": \"Gibraltar\", \"Alpha-2 code\": \"GI\", \"Alpha-3 code\": \"GIB\", \"id\": 292, \"Latitude (average)\": 36.1833, \"Longitude (average)\": -5.3667}, {\"iso_code\": \"GIN\", \"total_cases_per_million\": 839.273, \"Country\": \"Guinea\", \"Alpha-2 code\": \"GN\", \"Alpha-3 code\": \"GIN\", \"id\": 324, \"Latitude (average)\": 11.0, \"Longitude (average)\": -10.0}, {\"iso_code\": \"GMB\", \"total_cases_per_million\": 1502.898, \"Country\": \"Gambia\", \"Alpha-2 code\": \"GM\", \"Alpha-3 code\": \"GMB\", \"id\": 270, \"Latitude (average)\": 13.4667, \"Longitude (average)\": -16.5667}, {\"iso_code\": \"GNB\", \"total_cases_per_million\": 1211.891, \"Country\": \"Guinea-Bissau\", \"Alpha-2 code\": \"GW\", \"Alpha-3 code\": \"GNB\", \"id\": 624, \"Latitude (average)\": 12.0, \"Longitude (average)\": -15.0}, {\"iso_code\": \"GNQ\", \"total_cases_per_million\": 3608.7340000000004, \"Country\": \"Equatorial Guinea\", \"Alpha-2 code\": \"GQ\", \"Alpha-3 code\": \"GNQ\", \"id\": 226, \"Latitude (average)\": 2.0, \"Longitude (average)\": 10.0}, {\"iso_code\": \"GRC\", \"total_cases_per_million\": 2145.052, \"Country\": \"Greece\", \"Alpha-2 code\": \"GR\", \"Alpha-3 code\": \"GRC\", \"id\": 300, \"Latitude (average)\": 39.0, \"Longitude (average)\": 22.0}, {\"iso_code\": \"GRD\", \"total_cases_per_million\": 213.297, \"Country\": \"Grenada\", \"Alpha-2 code\": \"GD\", \"Alpha-3 code\": \"GRD\", \"id\": 308, \"Latitude (average)\": 12.1167, \"Longitude (average)\": -61.6667}, {\"iso_code\": \"GRL\", \"total_cases_per_million\": 281.829, \"Country\": \"Greenland\", \"Alpha-2 code\": \"GL\", \"Alpha-3 code\": \"GRL\", \"id\": 304, \"Latitude (average)\": 72.0, \"Longitude (average)\": -40.0}, {\"iso_code\": \"GTM\", \"total_cases_per_million\": 5454.195, \"Country\": \"Guatemala\", \"Alpha-2 code\": \"GT\", \"Alpha-3 code\": \"GTM\", \"id\": 320, \"Latitude (average)\": 15.5, \"Longitude (average)\": -90.25}, {\"iso_code\": \"GUM\", \"total_cases_per_million\": 18236.433999999997, \"Country\": \"Guam\", \"Alpha-2 code\": \"GU\", \"Alpha-3 code\": \"GUM\", \"id\": 316, \"Latitude (average)\": 13.4667, \"Longitude (average)\": 144.7833}, {\"iso_code\": \"GUY\", \"total_cases_per_million\": 4410.349, \"Country\": \"Guyana\", \"Alpha-2 code\": \"GY\", \"Alpha-3 code\": \"GUY\", \"id\": 328, \"Latitude (average)\": 5.0, \"Longitude (average)\": -59.0}, {\"iso_code\": \"HKG\", \"total_cases_per_million\": null, \"Country\": \"Hong Kong\", \"Alpha-2 code\": \"HK\", \"Alpha-3 code\": \"HKG\", \"id\": 344, \"Latitude (average)\": 22.25, \"Longitude (average)\": 114.1667}, {\"iso_code\": \"HND\", \"total_cases_per_million\": 8489.079, \"Country\": \"Honduras\", \"Alpha-2 code\": \"HN\", \"Alpha-3 code\": \"HND\", \"id\": 340, \"Latitude (average)\": 15.0, \"Longitude (average)\": -86.5}, {\"iso_code\": \"HRV\", \"total_cases_per_million\": 4978.968, \"Country\": \"Croatia\", \"Alpha-2 code\": \"HR\", \"Alpha-3 code\": \"HRV\", \"id\": 191, \"Latitude (average)\": 45.1667, \"Longitude (average)\": 15.5}, {\"iso_code\": \"HTI\", \"total_cases_per_million\": 778.95, \"Country\": \"Haiti\", \"Alpha-2 code\": \"HT\", \"Alpha-3 code\": \"HTI\", \"id\": 332, \"Latitude (average)\": 19.0, \"Longitude (average)\": -72.4167}, {\"iso_code\": \"HUN\", \"total_cases_per_million\": 3993.3340000000003, \"Country\": \"Hungary\", \"Alpha-2 code\": \"HU\", \"Alpha-3 code\": \"HUN\", \"id\": 348, \"Latitude (average)\": 47.0, \"Longitude (average)\": 20.0}, {\"iso_code\": \"IDN\", \"total_cases_per_million\": 1219.087, \"Country\": \"Indonesia\", \"Alpha-2 code\": \"ID\", \"Alpha-3 code\": \"IDN\", \"id\": 360, \"Latitude (average)\": -5.0, \"Longitude (average)\": 120.0}, {\"iso_code\": \"IMN\", \"total_cases_per_million\": 4069.0559999999996, \"Country\": \"Isle of Man\", \"Alpha-2 code\": \"IM\", \"Alpha-3 code\": \"IMN\", \"id\": 833, \"Latitude (average)\": 54.23, \"Longitude (average)\": -4.55}, {\"iso_code\": \"IND\", \"total_cases_per_million\": 5159.794, \"Country\": \"India\", \"Alpha-2 code\": \"IN\", \"Alpha-3 code\": \"IND\", \"id\": 356, \"Latitude (average)\": 20.0, \"Longitude (average)\": 77.0}, {\"iso_code\": \"IRL\", \"total_cases_per_million\": 8612.749, \"Country\": \"Ireland\", \"Alpha-2 code\": \"IE\", \"Alpha-3 code\": \"IRL\", \"id\": 372, \"Latitude (average)\": 53.0, \"Longitude (average)\": -8.0}, {\"iso_code\": \"IRN\", \"total_cases_per_million\": 5953.773, \"Country\": \"Iran,Islamic Republic of\", \"Alpha-2 code\": \"IR\", \"Alpha-3 code\": \"IRN\", \"id\": 364, \"Latitude (average)\": 32.0, \"Longitude (average)\": 53.0}, {\"iso_code\": \"IRQ\", \"total_cases_per_million\": 10002.61, \"Country\": \"Iraq\", \"Alpha-2 code\": \"IQ\", \"Alpha-3 code\": \"IRQ\", \"id\": 368, \"Latitude (average)\": 33.0, \"Longitude (average)\": 44.0}, {\"iso_code\": \"ISL\", \"total_cases_per_million\": 10332.601, \"Country\": \"Iceland\", \"Alpha-2 code\": \"IS\", \"Alpha-3 code\": \"ISL\", \"id\": 352, \"Latitude (average)\": 65.0, \"Longitude (average)\": -18.0}, {\"iso_code\": \"ISR\", \"total_cases_per_million\": 33715.742999999995, \"Country\": \"Israel\", \"Alpha-2 code\": \"IL\", \"Alpha-3 code\": \"ISR\", \"id\": 376, \"Latitude (average)\": 31.5, \"Longitude (average)\": 34.75}, {\"iso_code\": \"ITA\", \"total_cases_per_million\": 5870.646, \"Country\": \"Italy\", \"Alpha-2 code\": \"IT\", \"Alpha-3 code\": \"ITA\", \"id\": 380, \"Latitude (average)\": 42.8333, \"Longitude (average)\": 12.8333}, {\"iso_code\": \"JAM\", \"total_cases_per_million\": 2606.41, \"Country\": \"Jamaica\", \"Alpha-2 code\": \"JM\", \"Alpha-3 code\": \"JAM\", \"id\": 388, \"Latitude (average)\": 18.25, \"Longitude (average)\": -77.5}, {\"iso_code\": \"JEY\", \"total_cases_per_million\": 4442.334, \"Country\": \"Jersey\", \"Alpha-2 code\": \"JE\", \"Alpha-3 code\": \"JEY\", \"id\": 832, \"Latitude (average)\": 49.21, \"Longitude (average)\": -2.13}, {\"iso_code\": \"JOR\", \"total_cases_per_million\": 2442.973, \"Country\": \"Jordan\", \"Alpha-2 code\": \"JO\", \"Alpha-3 code\": \"JOR\", \"id\": 400, \"Latitude (average)\": 31.0, \"Longitude (average)\": 36.0}, {\"iso_code\": \"JPN\", \"total_cases_per_million\": 706.432, \"Country\": \"Japan\", \"Alpha-2 code\": \"JP\", \"Alpha-3 code\": \"JPN\", \"id\": 392, \"Latitude (average)\": 36.0, \"Longitude (average)\": 138.0}, {\"iso_code\": \"KAZ\", \"total_cases_per_million\": 7655.229, \"Country\": \"Kazakhstan\", \"Alpha-2 code\": \"KZ\", \"Alpha-3 code\": \"KAZ\", \"id\": 398, \"Latitude (average)\": 48.0, \"Longitude (average)\": 68.0}, {\"iso_code\": \"KEN\", \"total_cases_per_million\": 772.643, \"Country\": \"Kenya\", \"Alpha-2 code\": \"KE\", \"Alpha-3 code\": \"KEN\", \"id\": 404, \"Latitude (average)\": 1.0, \"Longitude (average)\": 38.0}, {\"iso_code\": \"KGZ\", \"total_cases_per_million\": 7545.763000000001, \"Country\": \"Kyrgyzstan\", \"Alpha-2 code\": \"KG\", \"Alpha-3 code\": \"KGZ\", \"id\": 417, \"Latitude (average)\": 41.0, \"Longitude (average)\": 75.0}, {\"iso_code\": \"KHM\", \"total_cases_per_million\": 16.927, \"Country\": \"Cambodia\", \"Alpha-2 code\": \"KH\", \"Alpha-3 code\": \"KHM\", \"id\": 116, \"Latitude (average)\": 13.0, \"Longitude (average)\": 105.0}, {\"iso_code\": \"KNA\", \"total_cases_per_million\": 357.19699999999995, \"Country\": \"Saint Kitts and Nevis\", \"Alpha-2 code\": \"KN\", \"Alpha-3 code\": \"KNA\", \"id\": 659, \"Latitude (average)\": 17.3333, \"Longitude (average)\": -62.75}, {\"iso_code\": \"KOR\", \"total_cases_per_million\": 481.829, \"Country\": \"Korea,Republic of\", \"Alpha-2 code\": \"KR\", \"Alpha-3 code\": \"KOR\", \"id\": 410, \"Latitude (average)\": 37.0, \"Longitude (average)\": 127.5}, {\"iso_code\": \"KOR\", \"total_cases_per_million\": 481.829, \"Country\": \"South Korea\", \"Alpha-2 code\": \"KR\", \"Alpha-3 code\": \"KOR\", \"id\": 410, \"Latitude (average)\": 37.0, \"Longitude (average)\": 127.5}, {\"iso_code\": \"KWT\", \"total_cases_per_million\": 26019.052000000003, \"Country\": \"Kuwait\", \"Alpha-2 code\": \"KW\", \"Alpha-3 code\": \"KWT\", \"id\": 414, \"Latitude (average)\": 29.3375, \"Longitude (average)\": 47.6581}, {\"iso_code\": \"LAO\", \"total_cases_per_million\": 3.161, \"Country\": \"Lao People's Democratic Republic\", \"Alpha-2 code\": \"LA\", \"Alpha-3 code\": \"LAO\", \"id\": 418, \"Latitude (average)\": 18.0, \"Longitude (average)\": 105.0}, {\"iso_code\": \"LBN\", \"total_cases_per_million\": 7700.307, \"Country\": \"Lebanon\", \"Alpha-2 code\": \"LB\", \"Alpha-3 code\": \"LBN\", \"id\": 422, \"Latitude (average)\": 33.8333, \"Longitude (average)\": 35.8333}, {\"iso_code\": \"LBR\", \"total_cases_per_million\": 269.491, \"Country\": \"Liberia\", \"Alpha-2 code\": \"LR\", \"Alpha-3 code\": \"LBR\", \"id\": 430, \"Latitude (average)\": 6.5, \"Longitude (average)\": -9.5}, {\"iso_code\": \"LBY\", \"total_cases_per_million\": 6216.012, \"Country\": \"Libyan Arab Jamahiriya\", \"Alpha-2 code\": \"LY\", \"Alpha-3 code\": \"LBY\", \"id\": 434, \"Latitude (average)\": 25.0, \"Longitude (average)\": 17.0}, {\"iso_code\": \"LBY\", \"total_cases_per_million\": 6216.012, \"Country\": \"Libya\", \"Alpha-2 code\": \"LY\", \"Alpha-3 code\": \"LBY\", \"id\": 434, \"Latitude (average)\": 25.0, \"Longitude (average)\": 17.0}, {\"iso_code\": \"LCA\", \"total_cases_per_million\": 157.92700000000002, \"Country\": \"Saint Lucia\", \"Alpha-2 code\": \"LC\", \"Alpha-3 code\": \"LCA\", \"id\": 662, \"Latitude (average)\": 13.8833, \"Longitude (average)\": -61.1333}, {\"iso_code\": \"LIE\", \"total_cases_per_million\": 3618.533, \"Country\": \"Liechtenstein\", \"Alpha-2 code\": \"LI\", \"Alpha-3 code\": \"LIE\", \"id\": 438, \"Latitude (average)\": 47.1667, \"Longitude (average)\": 9.5333}, {\"iso_code\": \"LKA\", \"total_cases_per_million\": 221.919, \"Country\": \"Sri Lanka\", \"Alpha-2 code\": \"LK\", \"Alpha-3 code\": \"LKA\", \"id\": 144, \"Latitude (average)\": 7.0, \"Longitude (average)\": 81.0}, {\"iso_code\": \"LSO\", \"total_cases_per_million\": 842.571, \"Country\": \"Lesotho\", \"Alpha-2 code\": \"LS\", \"Alpha-3 code\": \"LSO\", \"id\": 426, \"Latitude (average)\": -29.5, \"Longitude (average)\": 28.5}, {\"iso_code\": \"LTU\", \"total_cases_per_million\": 2248.841, \"Country\": \"Lithuania\", \"Alpha-2 code\": \"LT\", \"Alpha-3 code\": \"LTU\", \"id\": 440, \"Latitude (average)\": 56.0, \"Longitude (average)\": 24.0}, {\"iso_code\": \"LUX\", \"total_cases_per_million\": 14952.65, \"Country\": \"Luxembourg\", \"Alpha-2 code\": \"LU\", \"Alpha-3 code\": \"LUX\", \"id\": 442, \"Latitude (average)\": 49.75, \"Longitude (average)\": 6.1667}, {\"iso_code\": \"LVA\", \"total_cases_per_million\": 1415.543, \"Country\": \"Latvia\", \"Alpha-2 code\": \"LV\", \"Alpha-3 code\": \"LVA\", \"id\": 428, \"Latitude (average)\": 57.0, \"Longitude (average)\": 25.0}, {\"iso_code\": \"MAR\", \"total_cases_per_million\": 4059.57, \"Country\": \"Morocco\", \"Alpha-2 code\": \"MA\", \"Alpha-3 code\": \"MAR\", \"id\": 504, \"Latitude (average)\": 32.0, \"Longitude (average)\": -5.0}, {\"iso_code\": \"MCO\", \"total_cases_per_million\": 5962.695, \"Country\": \"Monaco\", \"Alpha-2 code\": \"MC\", \"Alpha-3 code\": \"MCO\", \"id\": 492, \"Latitude (average)\": 43.7333, \"Longitude (average)\": 7.4}, {\"iso_code\": \"MDA\", \"total_cases_per_million\": 15406.934, \"Country\": \"Moldova,Republic of\", \"Alpha-2 code\": \"MD\", \"Alpha-3 code\": \"MDA\", \"id\": 498, \"Latitude (average)\": 47.0, \"Longitude (average)\": 29.0}, {\"iso_code\": \"MDG\", \"total_cases_per_million\": 603.734, \"Country\": \"Madagascar\", \"Alpha-2 code\": \"MG\", \"Alpha-3 code\": \"MDG\", \"id\": 450, \"Latitude (average)\": -20.0, \"Longitude (average)\": 47.0}, {\"iso_code\": \"MDV\", \"total_cases_per_million\": 20153.846, \"Country\": \"Maldives\", \"Alpha-2 code\": \"MV\", \"Alpha-3 code\": \"MDV\", \"id\": 462, \"Latitude (average)\": 3.25, \"Longitude (average)\": 73.0}, {\"iso_code\": \"MEX\", \"total_cases_per_million\": 6315.9130000000005, \"Country\": \"Mexico\", \"Alpha-2 code\": \"MX\", \"Alpha-3 code\": \"MEX\", \"id\": 484, \"Latitude (average)\": 23.0, \"Longitude (average)\": -102.0}, {\"iso_code\": \"MKD\", \"total_cases_per_million\": 10049.535, \"Country\": \"Macedonia,the former Yugoslav Republic of\", \"Alpha-2 code\": \"MK\", \"Alpha-3 code\": \"MKD\", \"id\": 807, \"Latitude (average)\": 41.8333, \"Longitude (average)\": 22.0}, {\"iso_code\": \"MLI\", \"total_cases_per_million\": 162.265, \"Country\": \"Mali\", \"Alpha-2 code\": \"ML\", \"Alpha-3 code\": \"MLI\", \"id\": 466, \"Latitude (average)\": 17.0, \"Longitude (average)\": -4.0}, {\"iso_code\": \"MLT\", \"total_cases_per_million\": 8551.905999999999, \"Country\": \"Malta\", \"Alpha-2 code\": \"MT\", \"Alpha-3 code\": \"MLT\", \"id\": 470, \"Latitude (average)\": 35.8333, \"Longitude (average)\": 14.5833}, {\"iso_code\": \"MMR\", \"total_cases_per_million\": 514.135, \"Country\": \"Myanmar\", \"Alpha-2 code\": \"MM\", \"Alpha-3 code\": \"MMR\", \"id\": 104, \"Latitude (average)\": 22.0, \"Longitude (average)\": 98.0}, {\"iso_code\": \"MMR\", \"total_cases_per_million\": 514.135, \"Country\": \"Burma\", \"Alpha-2 code\": \"MM\", \"Alpha-3 code\": \"MMR\", \"id\": 104, \"Latitude (average)\": 22.0, \"Longitude (average)\": 98.0}, {\"iso_code\": \"MNE\", \"total_cases_per_million\": 22082.215, \"Country\": \"Montenegro\", \"Alpha-2 code\": \"ME\", \"Alpha-3 code\": \"MNE\", \"id\": 499, \"Latitude (average)\": 42.0, \"Longitude (average)\": 19.0}, {\"iso_code\": \"MNG\", \"total_cases_per_million\": 97.00200000000001, \"Country\": \"Mongolia\", \"Alpha-2 code\": \"MN\", \"Alpha-3 code\": \"MNG\", \"id\": 496, \"Latitude (average)\": 46.0, \"Longitude (average)\": 105.0}, {\"iso_code\": \"MNP\", \"total_cases_per_million\": 1337.8039999999999, \"Country\": \"Northern Mariana Islands\", \"Alpha-2 code\": \"MP\", \"Alpha-3 code\": \"MNP\", \"id\": 580, \"Latitude (average)\": 15.2, \"Longitude (average)\": 145.75}, {\"iso_code\": \"MOZ\", \"total_cases_per_million\": 319.976, \"Country\": \"Mozambique\", \"Alpha-2 code\": \"MZ\", \"Alpha-3 code\": \"MOZ\", \"id\": 508, \"Latitude (average)\": -18.25, \"Longitude (average)\": 35.0}, {\"iso_code\": \"MRT\", \"total_cases_per_million\": 1623.775, \"Country\": \"Mauritania\", \"Alpha-2 code\": \"MR\", \"Alpha-3 code\": \"MRT\", \"id\": 478, \"Latitude (average)\": 20.0, \"Longitude (average)\": -12.0}, {\"iso_code\": \"MSR\", \"total_cases_per_million\": 2600.52, \"Country\": \"Montserrat\", \"Alpha-2 code\": \"MS\", \"Alpha-3 code\": \"MSR\", \"id\": 500, \"Latitude (average)\": 16.75, \"Longitude (average)\": -62.2}, {\"iso_code\": \"MUS\", \"total_cases_per_million\": 310.591, \"Country\": \"Mauritius\", \"Alpha-2 code\": \"MU\", \"Alpha-3 code\": \"MUS\", \"id\": 480, \"Latitude (average)\": -20.2833, \"Longitude (average)\": 57.55}, {\"iso_code\": \"MWI\", \"total_cases_per_million\": 304.28700000000003, \"Country\": \"Malawi\", \"Alpha-2 code\": \"MW\", \"Alpha-3 code\": \"MWI\", \"id\": 454, \"Latitude (average)\": -13.5, \"Longitude (average)\": 34.0}, {\"iso_code\": \"MYS\", \"total_cases_per_million\": 483.74800000000005, \"Country\": \"Malaysia\", \"Alpha-2 code\": \"MY\", \"Alpha-3 code\": \"MYS\", \"id\": 458, \"Latitude (average)\": 2.5, \"Longitude (average)\": 112.5}, {\"iso_code\": \"NAM\", \"total_cases_per_million\": 4697.519, \"Country\": \"Namibia\", \"Alpha-2 code\": null, \"Alpha-3 code\": \"NAM\", \"id\": 516, \"Latitude (average)\": -22.0, \"Longitude (average)\": 17.0}, {\"iso_code\": \"NCL\", \"total_cases_per_million\": 94.574, \"Country\": \"New Caledonia\", \"Alpha-2 code\": \"NC\", \"Alpha-3 code\": \"NCL\", \"id\": 540, \"Latitude (average)\": -21.5, \"Longitude (average)\": 165.5}, {\"iso_code\": \"NER\", \"total_cases_per_million\": 49.614, \"Country\": \"Niger\", \"Alpha-2 code\": \"NE\", \"Alpha-3 code\": \"NER\", \"id\": 562, \"Latitude (average)\": 16.0, \"Longitude (average)\": 8.0}, {\"iso_code\": \"NGA\", \"total_cases_per_million\": 292.355, \"Country\": \"Nigeria\", \"Alpha-2 code\": \"NG\", \"Alpha-3 code\": \"NGA\", \"id\": 566, \"Latitude (average)\": 10.0, \"Longitude (average)\": 8.0}, {\"iso_code\": \"NIC\", \"total_cases_per_million\": 794.62, \"Country\": \"Nicaragua\", \"Alpha-2 code\": \"NI\", \"Alpha-3 code\": \"NIC\", \"id\": 558, \"Latitude (average)\": 13.0, \"Longitude (average)\": -85.0}, {\"iso_code\": \"NLD\", \"total_cases_per_million\": 10180.992, \"Country\": \"Netherlands\", \"Alpha-2 code\": \"NL\", \"Alpha-3 code\": \"NLD\", \"id\": 528, \"Latitude (average)\": 52.5, \"Longitude (average)\": 5.75}, {\"iso_code\": \"NOR\", \"total_cases_per_million\": 2807.659, \"Country\": \"Norway\", \"Alpha-2 code\": \"NO\", \"Alpha-3 code\": \"NOR\", \"id\": 578, \"Latitude (average)\": 62.0, \"Longitude (average)\": 10.0}, {\"iso_code\": \"NPL\", \"total_cases_per_million\": 3698.243, \"Country\": \"Nepal\", \"Alpha-2 code\": \"NP\", \"Alpha-3 code\": \"NPL\", \"id\": 524, \"Latitude (average)\": 28.0, \"Longitude (average)\": 84.0}, {\"iso_code\": \"NZL\", \"total_cases_per_million\": 314.17, \"Country\": \"New Zealand\", \"Alpha-2 code\": \"NZ\", \"Alpha-3 code\": \"NZL\", \"id\": 554, \"Latitude (average)\": -41.0, \"Longitude (average)\": 174.0}, {\"iso_code\": \"OMN\", \"total_cases_per_million\": 20735.821, \"Country\": \"Oman\", \"Alpha-2 code\": \"OM\", \"Alpha-3 code\": \"OMN\", \"id\": 512, \"Latitude (average)\": 21.0, \"Longitude (average)\": 57.0}, {\"iso_code\": \"PAK\", \"total_cases_per_million\": 1443.835, \"Country\": \"Pakistan\", \"Alpha-2 code\": \"PK\", \"Alpha-3 code\": \"PAK\", \"id\": 586, \"Latitude (average)\": 30.0, \"Longitude (average)\": 70.0}, {\"iso_code\": \"PAN\", \"total_cases_per_million\": 27884.002, \"Country\": \"Panama\", \"Alpha-2 code\": \"PA\", \"Alpha-3 code\": \"PAN\", \"id\": 591, \"Latitude (average)\": 9.0, \"Longitude (average)\": -80.0}, {\"iso_code\": \"PER\", \"total_cases_per_million\": 25760.493, \"Country\": \"Peru\", \"Alpha-2 code\": \"PE\", \"Alpha-3 code\": \"PER\", \"id\": 604, \"Latitude (average)\": -10.0, \"Longitude (average)\": -76.0}, {\"iso_code\": \"PHL\", \"total_cases_per_million\": 3096.711, \"Country\": \"Philippines\", \"Alpha-2 code\": \"PH\", \"Alpha-3 code\": \"PHL\", \"id\": 608, \"Latitude (average)\": 13.0, \"Longitude (average)\": 122.0}, {\"iso_code\": \"PNG\", \"total_cases_per_million\": 61.92, \"Country\": \"Papua New Guinea\", \"Alpha-2 code\": \"PG\", \"Alpha-3 code\": \"PNG\", \"id\": 598, \"Latitude (average)\": -6.0, \"Longitude (average)\": 147.0}, {\"iso_code\": \"POL\", \"total_cases_per_million\": 3324.367, \"Country\": \"Poland\", \"Alpha-2 code\": \"PL\", \"Alpha-3 code\": \"POL\", \"id\": 616, \"Latitude (average)\": 52.0, \"Longitude (average)\": 20.0}, {\"iso_code\": \"PRI\", \"total_cases_per_million\": 18760.574, \"Country\": \"Puerto Rico\", \"Alpha-2 code\": \"PR\", \"Alpha-3 code\": \"PRI\", \"id\": 630, \"Latitude (average)\": 18.25, \"Longitude (average)\": -66.5}, {\"iso_code\": \"PRT\", \"total_cases_per_million\": 8499.215, \"Country\": \"Portugal\", \"Alpha-2 code\": \"PT\", \"Alpha-3 code\": \"PRT\", \"id\": 620, \"Latitude (average)\": 39.5, \"Longitude (average)\": -8.0}, {\"iso_code\": \"PRY\", \"total_cases_per_million\": 6964.569, \"Country\": \"Paraguay\", \"Alpha-2 code\": \"PY\", \"Alpha-3 code\": \"PRY\", \"id\": 600, \"Latitude (average)\": -23.0, \"Longitude (average)\": -58.0}, {\"iso_code\": \"PSE\", \"total_cases_per_million\": 10890.31, \"Country\": \"Palestinian Territory,Occupied\", \"Alpha-2 code\": \"PS\", \"Alpha-3 code\": \"PSE\", \"id\": 275, \"Latitude (average)\": 32.0, \"Longitude (average)\": 35.25}, {\"iso_code\": \"PYF\", \"total_cases_per_million\": 9583.345, \"Country\": \"French Polynesia\", \"Alpha-2 code\": \"PF\", \"Alpha-3 code\": \"PYF\", \"id\": 258, \"Latitude (average)\": -15.0, \"Longitude (average)\": -140.0}, {\"iso_code\": \"QAT\", \"total_cases_per_million\": 44422.886, \"Country\": \"Qatar\", \"Alpha-2 code\": \"QA\", \"Alpha-3 code\": \"QAT\", \"id\": 634, \"Latitude (average)\": 25.5, \"Longitude (average)\": 51.25}, {\"iso_code\": \"ROU\", \"total_cases_per_million\": 8071.814, \"Country\": \"Romania\", \"Alpha-2 code\": \"RO\", \"Alpha-3 code\": \"ROU\", \"id\": 642, \"Latitude (average)\": 46.0, \"Longitude (average)\": 25.0}, {\"iso_code\": \"RUS\", \"total_cases_per_million\": 8899.324, \"Country\": \"Russian Federation\", \"Alpha-2 code\": \"RU\", \"Alpha-3 code\": \"RUS\", \"id\": 643, \"Latitude (average)\": 60.0, \"Longitude (average)\": 100.0}, {\"iso_code\": \"RUS\", \"total_cases_per_million\": 8899.324, \"Country\": \"Russia\", \"Alpha-2 code\": \"RU\", \"Alpha-3 code\": \"RUS\", \"id\": 643, \"Latitude (average)\": 60.0, \"Longitude (average)\": 100.0}, {\"iso_code\": \"RWA\", \"total_cases_per_million\": 378.005, \"Country\": \"Rwanda\", \"Alpha-2 code\": \"RW\", \"Alpha-3 code\": \"RWA\", \"id\": 646, \"Latitude (average)\": -2.0, \"Longitude (average)\": 30.0}, {\"iso_code\": \"SAU\", \"total_cases_per_million\": 9745.168, \"Country\": \"Saudi Arabia\", \"Alpha-2 code\": \"SA\", \"Alpha-3 code\": \"SAU\", \"id\": 682, \"Latitude (average)\": 25.0, \"Longitude (average)\": 45.0}, {\"iso_code\": \"SDN\", \"total_cases_per_million\": 311.75, \"Country\": \"Sudan\", \"Alpha-2 code\": \"SD\", \"Alpha-3 code\": \"SDN\", \"id\": 736, \"Latitude (average)\": 15.0, \"Longitude (average)\": 30.0}, {\"iso_code\": \"SEN\", \"total_cases_per_million\": 911.8530000000001, \"Country\": \"Senegal\", \"Alpha-2 code\": \"SN\", \"Alpha-3 code\": \"SEN\", \"id\": 686, \"Latitude (average)\": 14.0, \"Longitude (average)\": -14.0}, {\"iso_code\": \"SGP\", \"total_cases_per_million\": 9892.753, \"Country\": \"Singapore\", \"Alpha-2 code\": \"SG\", \"Alpha-3 code\": \"SGP\", \"id\": 702, \"Latitude (average)\": 1.3667, \"Longitude (average)\": 103.8}, {\"iso_code\": \"SLE\", \"total_cases_per_million\": 289.082, \"Country\": \"Sierra Leone\", \"Alpha-2 code\": \"SL\", \"Alpha-3 code\": \"SLE\", \"id\": 694, \"Latitude (average)\": 8.5, \"Longitude (average)\": -11.5}, {\"iso_code\": \"SLV\", \"total_cases_per_million\": 4655.4220000000005, \"Country\": \"El Salvador\", \"Alpha-2 code\": \"SV\", \"Alpha-3 code\": \"SLV\", \"id\": 222, \"Latitude (average)\": 13.8333, \"Longitude (average)\": -88.9167}, {\"iso_code\": \"SMR\", \"total_cases_per_million\": 22158.053, \"Country\": \"San Marino\", \"Alpha-2 code\": \"SM\", \"Alpha-3 code\": \"SMR\", \"id\": 674, \"Latitude (average)\": 43.7667, \"Longitude (average)\": 12.4167}, {\"iso_code\": \"SOM\", \"total_cases_per_million\": 243.123, \"Country\": \"Somalia\", \"Alpha-2 code\": \"SO\", \"Alpha-3 code\": \"SOM\", \"id\": 706, \"Latitude (average)\": 10.0, \"Longitude (average)\": 49.0}, {\"iso_code\": \"SRB\", \"total_cases_per_million\": 5112.28, \"Country\": \"Serbia\", \"Alpha-2 code\": \"RS\", \"Alpha-3 code\": \"SRB\", \"id\": 688, \"Latitude (average)\": 44.0, \"Longitude (average)\": 21.0}, {\"iso_code\": \"SSD\", \"total_cases_per_million\": 248.085, \"Country\": \"South Sudan\", \"Alpha-2 code\": \"SS\", \"Alpha-3 code\": \"SSD\", \"id\": 728, \"Latitude (average)\": 8.0, \"Longitude (average)\": 30.0}, {\"iso_code\": \"STP\", \"total_cases_per_million\": 4238.893, \"Country\": \"Sao Tome and Principe\", \"Alpha-2 code\": \"ST\", \"Alpha-3 code\": \"STP\", \"id\": 678, \"Latitude (average)\": 1.0, \"Longitude (average)\": 7.0}, {\"iso_code\": \"SUR\", \"total_cases_per_million\": 8610.139000000001, \"Country\": \"Suriname\", \"Alpha-2 code\": \"SR\", \"Alpha-3 code\": \"SUR\", \"id\": 740, \"Latitude (average)\": 4.0, \"Longitude (average)\": -56.0}, {\"iso_code\": \"SVK\", \"total_cases_per_million\": 3635.952, \"Country\": \"Slovakia\", \"Alpha-2 code\": \"SK\", \"Alpha-3 code\": \"SVK\", \"id\": 703, \"Latitude (average)\": 48.6667, \"Longitude (average)\": 19.5}, {\"iso_code\": \"SVN\", \"total_cases_per_million\": 4168.005, \"Country\": \"Slovenia\", \"Alpha-2 code\": \"SI\", \"Alpha-3 code\": \"SVN\", \"id\": 705, \"Latitude (average)\": 46.0, \"Longitude (average)\": 15.0}, {\"iso_code\": \"SWE\", \"total_cases_per_million\": 9748.328000000001, \"Country\": \"Sweden\", \"Alpha-2 code\": \"SE\", \"Alpha-3 code\": \"SWE\", \"id\": 752, \"Latitude (average)\": 62.0, \"Longitude (average)\": 15.0}, {\"iso_code\": \"SWZ\", \"total_cases_per_million\": 4886.378, \"Country\": \"Swaziland\", \"Alpha-2 code\": \"SZ\", \"Alpha-3 code\": \"SWZ\", \"id\": 748, \"Latitude (average)\": -26.5, \"Longitude (average)\": 31.5}, {\"iso_code\": \"SYC\", \"total_cases_per_million\": 1504.983, \"Country\": \"Seychelles\", \"Alpha-2 code\": \"SC\", \"Alpha-3 code\": \"SYC\", \"id\": 690, \"Latitude (average)\": -4.5833, \"Longitude (average)\": 55.6667}, {\"iso_code\": \"SYR\", \"total_cases_per_million\": 267.019, \"Country\": \"Syrian Arab Republic\", \"Alpha-2 code\": \"SY\", \"Alpha-3 code\": \"SYR\", \"id\": 760, \"Latitude (average)\": 35.0, \"Longitude (average)\": 38.0}, {\"iso_code\": \"TCA\", \"total_cases_per_million\": 17950.307, \"Country\": \"Turks and Caicos Islands\", \"Alpha-2 code\": \"TC\", \"Alpha-3 code\": \"TCA\", \"id\": 796, \"Latitude (average)\": 21.75, \"Longitude (average)\": -71.5833}, {\"iso_code\": \"TCD\", \"total_cases_per_million\": 79.387, \"Country\": \"Chad\", \"Alpha-2 code\": \"TD\", \"Alpha-3 code\": \"TCD\", \"id\": 148, \"Latitude (average)\": 15.0, \"Longitude (average)\": 19.0}, {\"iso_code\": \"TGO\", \"total_cases_per_million\": 234.335, \"Country\": \"Togo\", \"Alpha-2 code\": \"TG\", \"Alpha-3 code\": \"TGO\", \"id\": 768, \"Latitude (average)\": 8.0, \"Longitude (average)\": 1.1667}, {\"iso_code\": \"THA\", \"total_cases_per_million\": 52.163000000000004, \"Country\": \"Thailand\", \"Alpha-2 code\": \"TH\", \"Alpha-3 code\": \"THA\", \"id\": 764, \"Latitude (average)\": 15.0, \"Longitude (average)\": 100.0}, {\"iso_code\": \"TJK\", \"total_cases_per_million\": 1071.753, \"Country\": \"Tajikistan\", \"Alpha-2 code\": \"TJ\", \"Alpha-3 code\": \"TJK\", \"id\": 762, \"Latitude (average)\": 39.0, \"Longitude (average)\": 71.0}, {\"iso_code\": \"TLS\", \"total_cases_per_million\": 21.237, \"Country\": \"Timor-Leste\", \"Alpha-2 code\": \"TL\", \"Alpha-3 code\": \"TLS\", \"id\": 626, \"Latitude (average)\": -8.55, \"Longitude (average)\": 125.5167}, {\"iso_code\": \"TTO\", \"total_cases_per_million\": 3644.897, \"Country\": \"Trinidad and Tobago\", \"Alpha-2 code\": \"TT\", \"Alpha-3 code\": \"TTO\", \"id\": 780, \"Latitude (average)\": 11.0, \"Longitude (average)\": -61.0}, {\"iso_code\": \"TUN\", \"total_cases_per_million\": 2644.895, \"Country\": \"Tunisia\", \"Alpha-2 code\": \"TN\", \"Alpha-3 code\": \"TUN\", \"id\": 788, \"Latitude (average)\": 34.0, \"Longitude (average)\": 9.0}, {\"iso_code\": \"TUR\", \"total_cases_per_million\": 3978.382, \"Country\": \"Turkey\", \"Alpha-2 code\": \"TR\", \"Alpha-3 code\": \"TUR\", \"id\": 792, \"Latitude (average)\": 39.0, \"Longitude (average)\": 35.0}, {\"iso_code\": \"TWN\", \"total_cases_per_million\": 22.127, \"Country\": \"Taiwan,Province of China\", \"Alpha-2 code\": \"TW\", \"Alpha-3 code\": \"TWN\", \"id\": 158, \"Latitude (average)\": 23.5, \"Longitude (average)\": 121.0}, {\"iso_code\": \"TWN\", \"total_cases_per_million\": 22.127, \"Country\": \"Taiwan\", \"Alpha-2 code\": \"TW\", \"Alpha-3 code\": \"TWN\", \"id\": 158, \"Latitude (average)\": 23.5, \"Longitude (average)\": 121.0}, {\"iso_code\": \"TZA\", \"total_cases_per_million\": 8.521, \"Country\": \"Tanzania,United Republic of\", \"Alpha-2 code\": \"TZ\", \"Alpha-3 code\": \"TZA\", \"id\": 834, \"Latitude (average)\": -6.0, \"Longitude (average)\": 35.0}, {\"iso_code\": \"UGA\", \"total_cases_per_million\": 214.27200000000002, \"Country\": \"Uganda\", \"Alpha-2 code\": \"UG\", \"Alpha-3 code\": \"UGA\", \"id\": 800, \"Latitude (average)\": 1.0, \"Longitude (average)\": 32.0}, {\"iso_code\": \"UKR\", \"total_cases_per_million\": 5968.706999999999, \"Country\": \"Ukraine\", \"Alpha-2 code\": \"UA\", \"Alpha-3 code\": \"UKR\", \"id\": 804, \"Latitude (average)\": 49.0, \"Longitude (average)\": 32.0}, {\"iso_code\": \"URY\", \"total_cases_per_million\": 660.3860000000001, \"Country\": \"Uruguay\", \"Alpha-2 code\": \"UY\", \"Alpha-3 code\": \"URY\", \"id\": 858, \"Latitude (average)\": -33.0, \"Longitude (average)\": -56.0}, {\"iso_code\": \"USA\", \"total_cases_per_million\": 23451.607000000004, \"Country\": \"United States\", \"Alpha-2 code\": \"US\", \"Alpha-3 code\": \"USA\", \"id\": 840, \"Latitude (average)\": 38.0, \"Longitude (average)\": -97.0}, {\"iso_code\": \"UZB\", \"total_cases_per_million\": 1825.499, \"Country\": \"Uzbekistan\", \"Alpha-2 code\": \"UZ\", \"Alpha-3 code\": \"UZB\", \"id\": 860, \"Latitude (average)\": 41.0, \"Longitude (average)\": 64.0}, {\"iso_code\": \"VAT\", \"total_cases_per_million\": 14833.127, \"Country\": \"Holy See (Vatican City State)\", \"Alpha-2 code\": \"VA\", \"Alpha-3 code\": \"VAT\", \"id\": 336, \"Latitude (average)\": 41.9, \"Longitude (average)\": 12.45}, {\"iso_code\": \"VCT\", \"total_cases_per_million\": 576.852, \"Country\": \"Saint Vincent and the Grenadines\", \"Alpha-2 code\": \"VC\", \"Alpha-3 code\": \"VCT\", \"id\": 670, \"Latitude (average)\": 13.25, \"Longitude (average)\": -61.2}, {\"iso_code\": \"VCT\", \"total_cases_per_million\": 576.852, \"Country\": \"Saint Vincent & the Grenadines\", \"Alpha-2 code\": \"VC\", \"Alpha-3 code\": \"VCT\", \"id\": 670, \"Latitude (average)\": 13.25, \"Longitude (average)\": -61.2}, {\"iso_code\": \"VCT\", \"total_cases_per_million\": 576.852, \"Country\": \"St. Vincent and the Grenadines\", \"Alpha-2 code\": \"VC\", \"Alpha-3 code\": \"VCT\", \"id\": 670, \"Latitude (average)\": 13.25, \"Longitude (average)\": -61.2}, {\"iso_code\": \"VEN\", \"total_cases_per_million\": 2923.659, \"Country\": \"Venezuela,Bolivarian Republic of\", \"Alpha-2 code\": \"VE\", \"Alpha-3 code\": \"VEN\", \"id\": 862, \"Latitude (average)\": 8.0, \"Longitude (average)\": -66.0}, {\"iso_code\": \"VEN\", \"total_cases_per_million\": 2923.659, \"Country\": \"Venezuela\", \"Alpha-2 code\": \"VE\", \"Alpha-3 code\": \"VEN\", \"id\": 862, \"Latitude (average)\": 8.0, \"Longitude (average)\": -66.0}, {\"iso_code\": \"VGB\", \"total_cases_per_million\": 2348.117, \"Country\": \"Virgin Islands,British\", \"Alpha-2 code\": \"VG\", \"Alpha-3 code\": \"VGB\", \"id\": 92, \"Latitude (average)\": 18.5, \"Longitude (average)\": -64.5}, {\"iso_code\": \"VIR\", \"total_cases_per_million\": 12707.928, \"Country\": \"Virgin Islands,U.S.\", \"Alpha-2 code\": \"VI\", \"Alpha-3 code\": \"VIR\", \"id\": 850, \"Latitude (average)\": 18.3333, \"Longitude (average)\": -64.8333}, {\"iso_code\": \"VNM\", \"total_cases_per_million\": 11.392999999999999, \"Country\": \"Viet Nam\", \"Alpha-2 code\": \"VN\", \"Alpha-3 code\": \"VNM\", \"id\": 704, \"Latitude (average)\": 16.0, \"Longitude (average)\": 106.0}, {\"iso_code\": \"VNM\", \"total_cases_per_million\": 11.392999999999999, \"Country\": \"Vietnam\", \"Alpha-2 code\": \"VN\", \"Alpha-3 code\": \"VNM\", \"id\": 704, \"Latitude (average)\": 16.0, \"Longitude (average)\": 106.0}, {\"iso_code\": \"YEM\", \"total_cases_per_million\": 68.9, \"Country\": \"Yemen\", \"Alpha-2 code\": \"YE\", \"Alpha-3 code\": \"YEM\", \"id\": 887, \"Latitude (average)\": 15.0, \"Longitude (average)\": 48.0}, {\"iso_code\": \"ZAF\", \"total_cases_per_million\": 11675.708999999999, \"Country\": \"South Africa\", \"Alpha-2 code\": \"ZA\", \"Alpha-3 code\": \"ZAF\", \"id\": 710, \"Latitude (average)\": -29.0, \"Longitude (average)\": 24.0}, {\"iso_code\": \"ZMB\", \"total_cases_per_million\": 840.842, \"Country\": \"Zambia\", \"Alpha-2 code\": \"ZM\", \"Alpha-3 code\": \"ZMB\", \"id\": 894, \"Latitude (average)\": -15.0, \"Longitude (average)\": 30.0}, {\"iso_code\": \"ZWE\", \"total_cases_per_million\": 538.992, \"Country\": \"Zimbabwe\", \"Alpha-2 code\": \"ZW\", \"Alpha-3 code\": \"ZWE\", \"id\": 716, \"Latitude (average)\": -20.0, \"Longitude (average)\": 30.0}]}}, {\"mode\": \"vega-lite\"});\n",
       "</script>"
      ],
      "text/plain": [
       "alt.LayerChart(...)"
      ]
     },
     "execution_count": 22,
     "metadata": {},
     "output_type": "execute_result"
    }
   ],
   "source": [
    "symbols = alt.Chart(merged_lookup_data).mark_circle().encode(\n",
    "    longitude='Longitude (average):Q',\n",
    "    latitude='Latitude (average):Q',\n",
    "    size=alt.Size('total_cases_per_million:Q', legend=None),\n",
    "    tooltip=['Country', 'total_cases_per_million'],\n",
    ").project(\n",
    "    type='mercator',\n",
    "    scale=250,\n",
    "    center=[20,55],\n",
    "    clipExtent= [[0,0], [400, 300]]\n",
    ")\n",
    "\n",
    "map + symbols"
   ]
  },
  {
   "cell_type": "markdown",
   "metadata": {},
   "source": [
    "### Chloropleth Map"
   ]
  },
  {
   "cell_type": "code",
   "execution_count": 23,
   "metadata": {},
   "outputs": [],
   "source": [
    "test_data = {c:1 for c in merged_lookup_data.id}"
   ]
  },
  {
   "cell_type": "code",
   "execution_count": 24,
   "metadata": {},
   "outputs": [
    {
     "data": {
      "text/html": [
       "\n",
       "<div id=\"altair-viz-7f9feb05182246638b40392dd083d055\"></div>\n",
       "<script type=\"text/javascript\">\n",
       "  (function(spec, embedOpt){\n",
       "    let outputDiv = document.currentScript.previousElementSibling;\n",
       "    if (outputDiv.id !== \"altair-viz-7f9feb05182246638b40392dd083d055\") {\n",
       "      outputDiv = document.getElementById(\"altair-viz-7f9feb05182246638b40392dd083d055\");\n",
       "    }\n",
       "    const paths = {\n",
       "      \"vega\": \"https://cdn.jsdelivr.net/npm//vega@5?noext\",\n",
       "      \"vega-lib\": \"https://cdn.jsdelivr.net/npm//vega-lib?noext\",\n",
       "      \"vega-lite\": \"https://cdn.jsdelivr.net/npm//vega-lite@4.8.1?noext\",\n",
       "      \"vega-embed\": \"https://cdn.jsdelivr.net/npm//vega-embed@6?noext\",\n",
       "    };\n",
       "\n",
       "    function loadScript(lib) {\n",
       "      return new Promise(function(resolve, reject) {\n",
       "        var s = document.createElement('script');\n",
       "        s.src = paths[lib];\n",
       "        s.async = true;\n",
       "        s.onload = () => resolve(paths[lib]);\n",
       "        s.onerror = () => reject(`Error loading script: ${paths[lib]}`);\n",
       "        document.getElementsByTagName(\"head\")[0].appendChild(s);\n",
       "      });\n",
       "    }\n",
       "\n",
       "    function showError(err) {\n",
       "      outputDiv.innerHTML = `<div class=\"error\" style=\"color:red;\">${err}</div>`;\n",
       "      throw err;\n",
       "    }\n",
       "\n",
       "    function displayChart(vegaEmbed) {\n",
       "      vegaEmbed(outputDiv, spec, embedOpt)\n",
       "        .catch(err => showError(`Javascript Error: ${err.message}<br>This usually means there's a typo in your chart specification. See the javascript console for the full traceback.`));\n",
       "    }\n",
       "\n",
       "    if(typeof define === \"function\" && define.amd) {\n",
       "      requirejs.config({paths});\n",
       "      require([\"vega-embed\"], displayChart, err => showError(`Error loading script: ${err.message}`));\n",
       "    } else if (typeof vegaEmbed === \"function\") {\n",
       "      displayChart(vegaEmbed);\n",
       "    } else {\n",
       "      loadScript(\"vega\")\n",
       "        .then(() => loadScript(\"vega-lite\"))\n",
       "        .then(() => loadScript(\"vega-embed\"))\n",
       "        .catch(showError)\n",
       "        .then(() => displayChart(vegaEmbed));\n",
       "    }\n",
       "  })({\"config\": {\"view\": {\"continuousWidth\": 400, \"continuousHeight\": 300}}, \"data\": {\"url\": \"https://vega.github.io/vega-datasets/data/world-110m.json\", \"format\": {\"feature\": \"countries\", \"type\": \"topojson\"}}, \"mark\": {\"type\": \"geoshape\", \"stroke\": \"white\"}, \"encoding\": {\"color\": {\"type\": \"quantitative\", \"field\": \"total_cases_per_million\"}, \"tooltip\": [{\"type\": \"ordinal\", \"field\": \"Country\"}, {\"type\": \"quantitative\", \"field\": \"total_cases_per_million\"}]}, \"projection\": {\"center\": [20, 55], \"clipExtent\": [[0, 0], [400, 300]], \"scale\": 250, \"type\": \"mercator\"}, \"transform\": [{\"lookup\": \"id\", \"from\": {\"data\": {\"name\": \"data-d41a7dd5da5f21da657ccf880058d498\"}, \"key\": \"id\", \"fields\": [\"total_cases_per_million\", \"Country\"]}}], \"$schema\": \"https://vega.github.io/schema/vega-lite/v4.8.1.json\", \"datasets\": {\"data-d41a7dd5da5f21da657ccf880058d498\": [{\"iso_code\": \"ABW\", \"total_cases_per_million\": 39282.168, \"Country\": \"Aruba\", \"Alpha-2 code\": \"AW\", \"Alpha-3 code\": \"ABW\", \"id\": 533, \"Latitude (average)\": 12.5, \"Longitude (average)\": -69.9667}, {\"iso_code\": \"AFG\", \"total_cases_per_million\": 1022.3660000000001, \"Country\": \"Afghanistan\", \"Alpha-2 code\": \"AF\", \"Alpha-3 code\": \"AFG\", \"id\": 4, \"Latitude (average)\": 33.0, \"Longitude (average)\": 65.0}, {\"iso_code\": \"AGO\", \"total_cases_per_million\": 190.043, \"Country\": \"Angola\", \"Alpha-2 code\": \"AO\", \"Alpha-3 code\": \"AGO\", \"id\": 24, \"Latitude (average)\": -12.5, \"Longitude (average)\": 18.5}, {\"iso_code\": \"AIA\", \"total_cases_per_million\": 199.97299999999998, \"Country\": \"Anguilla\", \"Alpha-2 code\": \"AI\", \"Alpha-3 code\": \"AIA\", \"id\": 660, \"Latitude (average)\": 18.25, \"Longitude (average)\": -63.1667}, {\"iso_code\": \"ALB\", \"total_cases_per_million\": 5350.963000000001, \"Country\": \"Albania\", \"Alpha-2 code\": \"AL\", \"Alpha-3 code\": \"ALB\", \"id\": 8, \"Latitude (average)\": 41.0, \"Longitude (average)\": 20.0}, {\"iso_code\": \"AND\", \"total_cases_per_million\": 34892.901, \"Country\": \"Andorra\", \"Alpha-2 code\": \"AD\", \"Alpha-3 code\": \"AND\", \"id\": 20, \"Latitude (average)\": 42.5, \"Longitude (average)\": 1.6}, {\"iso_code\": \"ARE\", \"total_cases_per_million\": 10740.617, \"Country\": \"United Arab Emirates\", \"Alpha-2 code\": \"AE\", \"Alpha-3 code\": \"ARE\", \"id\": 784, \"Latitude (average)\": 24.0, \"Longitude (average)\": 54.0}, {\"iso_code\": \"ARG\", \"total_cases_per_million\": 19784.879, \"Country\": \"Argentina\", \"Alpha-2 code\": \"AR\", \"Alpha-3 code\": \"ARG\", \"id\": 32, \"Latitude (average)\": -34.0, \"Longitude (average)\": -64.0}, {\"iso_code\": \"ARM\", \"total_cases_per_million\": 19050.47, \"Country\": \"Armenia\", \"Alpha-2 code\": \"AM\", \"Alpha-3 code\": \"ARM\", \"id\": 51, \"Latitude (average)\": 40.0, \"Longitude (average)\": 45.0}, {\"iso_code\": \"ATG\", \"total_cases_per_million\": 1133.486, \"Country\": \"Antigua and Barbuda\", \"Alpha-2 code\": \"AG\", \"Alpha-3 code\": \"ATG\", \"id\": 28, \"Latitude (average)\": 17.05, \"Longitude (average)\": -61.8}, {\"iso_code\": \"AUS\", \"total_cases_per_million\": 1069.181, \"Country\": \"Australia\", \"Alpha-2 code\": \"AU\", \"Alpha-3 code\": \"AUS\", \"id\": 36, \"Latitude (average)\": -27.0, \"Longitude (average)\": 133.0}, {\"iso_code\": \"AUT\", \"total_cases_per_million\": 6215.9130000000005, \"Country\": \"Austria\", \"Alpha-2 code\": \"AT\", \"Alpha-3 code\": \"AUT\", \"id\": 40, \"Latitude (average)\": 47.3333, \"Longitude (average)\": 13.3333}, {\"iso_code\": \"AZE\", \"total_cases_per_million\": 4140.5740000000005, \"Country\": \"Azerbaijan\", \"Alpha-2 code\": \"AZ\", \"Alpha-3 code\": \"AZE\", \"id\": 31, \"Latitude (average)\": 40.5, \"Longitude (average)\": 47.5}, {\"iso_code\": \"BDI\", \"total_cases_per_million\": 44.068000000000005, \"Country\": \"Burundi\", \"Alpha-2 code\": \"BI\", \"Alpha-3 code\": \"BDI\", \"id\": 108, \"Latitude (average)\": -3.5, \"Longitude (average)\": 30.0}, {\"iso_code\": \"BEL\", \"total_cases_per_million\": 13992.267, \"Country\": \"Belgium\", \"Alpha-2 code\": \"BE\", \"Alpha-3 code\": \"BEL\", \"id\": 56, \"Latitude (average)\": 50.8333, \"Longitude (average)\": 4.0}, {\"iso_code\": \"BEN\", \"total_cases_per_million\": 198.875, \"Country\": \"Benin\", \"Alpha-2 code\": \"BJ\", \"Alpha-3 code\": \"BEN\", \"id\": 204, \"Latitude (average)\": 9.5, \"Longitude (average)\": 2.25}, {\"iso_code\": \"BFA\", \"total_cases_per_million\": 109.074, \"Country\": \"Burkina Faso\", \"Alpha-2 code\": \"BF\", \"Alpha-3 code\": \"BFA\", \"id\": 854, \"Latitude (average)\": 13.0, \"Longitude (average)\": -2.0}, {\"iso_code\": \"BGD\", \"total_cases_per_million\": 2296.845, \"Country\": \"Bangladesh\", \"Alpha-2 code\": \"BD\", \"Alpha-3 code\": \"BGD\", \"id\": 50, \"Latitude (average)\": 24.0, \"Longitude (average)\": 90.0}, {\"iso_code\": \"BGR\", \"total_cases_per_million\": 3511.865, \"Country\": \"Bulgaria\", \"Alpha-2 code\": \"BG\", \"Alpha-3 code\": \"BGR\", \"id\": 100, \"Latitude (average)\": 43.0, \"Longitude (average)\": 25.0}, {\"iso_code\": \"BHR\", \"total_cases_per_million\": 44245.27, \"Country\": \"Bahrain\", \"Alpha-2 code\": \"BH\", \"Alpha-3 code\": \"BHR\", \"id\": 48, \"Latitude (average)\": 26.0, \"Longitude (average)\": 50.55}, {\"iso_code\": \"BHS\", \"total_cases_per_million\": 12912.971000000001, \"Country\": \"Bahamas\", \"Alpha-2 code\": \"BS\", \"Alpha-3 code\": \"BHS\", \"id\": 44, \"Latitude (average)\": 24.25, \"Longitude (average)\": -76.0}, {\"iso_code\": \"BIH\", \"total_cases_per_million\": 9118.771, \"Country\": \"Bosnia and Herzegovina\", \"Alpha-2 code\": \"BA\", \"Alpha-3 code\": \"BIH\", \"id\": 70, \"Latitude (average)\": 44.0, \"Longitude (average)\": 18.0}, {\"iso_code\": \"BLR\", \"total_cases_per_million\": 8840.212, \"Country\": \"Belarus\", \"Alpha-2 code\": \"BY\", \"Alpha-3 code\": \"BLR\", \"id\": 112, \"Latitude (average)\": 53.0, \"Longitude (average)\": 28.0}, {\"iso_code\": \"BLZ\", \"total_cases_per_million\": 6103.802, \"Country\": \"Belize\", \"Alpha-2 code\": \"BZ\", \"Alpha-3 code\": \"BLZ\", \"id\": 84, \"Latitude (average)\": 17.25, \"Longitude (average)\": -88.75}, {\"iso_code\": \"BMU\", \"total_cases_per_million\": 2954.732, \"Country\": \"Bermuda\", \"Alpha-2 code\": \"BM\", \"Alpha-3 code\": \"BMU\", \"id\": 60, \"Latitude (average)\": 32.3333, \"Longitude (average)\": -64.75}, {\"iso_code\": \"BOL\", \"total_cases_per_million\": 11871.298, \"Country\": \"Bolivia,Plurinational State of\", \"Alpha-2 code\": \"BO\", \"Alpha-3 code\": \"BOL\", \"id\": 68, \"Latitude (average)\": -17.0, \"Longitude (average)\": -65.0}, {\"iso_code\": \"BOL\", \"total_cases_per_million\": 11871.298, \"Country\": \"Bolivia\", \"Alpha-2 code\": \"BO\", \"Alpha-3 code\": \"BOL\", \"id\": 68, \"Latitude (average)\": -17.0, \"Longitude (average)\": -65.0}, {\"iso_code\": \"BRA\", \"total_cases_per_million\": 23969.685, \"Country\": \"Brazil\", \"Alpha-2 code\": \"BR\", \"Alpha-3 code\": \"BRA\", \"id\": 76, \"Latitude (average)\": -10.0, \"Longitude (average)\": -55.0}, {\"iso_code\": \"BRB\", \"total_cases_per_million\": 723.803, \"Country\": \"Barbados\", \"Alpha-2 code\": \"BB\", \"Alpha-3 code\": \"BRB\", \"id\": 52, \"Latitude (average)\": 13.1667, \"Longitude (average)\": -59.5333}, {\"iso_code\": \"BRN\", \"total_cases_per_million\": 333.727, \"Country\": \"Brunei Darussalam\", \"Alpha-2 code\": \"BN\", \"Alpha-3 code\": \"BRN\", \"id\": 96, \"Latitude (average)\": 4.5, \"Longitude (average)\": 114.6667}, {\"iso_code\": \"BRN\", \"total_cases_per_million\": 333.727, \"Country\": \"Brunei\", \"Alpha-2 code\": \"BN\", \"Alpha-3 code\": \"BRN\", \"id\": 96, \"Latitude (average)\": 4.5, \"Longitude (average)\": 114.6667}, {\"iso_code\": \"BTN\", \"total_cases_per_million\": 400.46, \"Country\": \"Bhutan\", \"Alpha-2 code\": \"BT\", \"Alpha-3 code\": \"BTN\", \"id\": 64, \"Latitude (average)\": 27.5, \"Longitude (average)\": 90.5}, {\"iso_code\": \"BWA\", \"total_cases_per_million\": 1922.075, \"Country\": \"Botswana\", \"Alpha-2 code\": \"BW\", \"Alpha-3 code\": \"BWA\", \"id\": 72, \"Latitude (average)\": -22.0, \"Longitude (average)\": 24.0}, {\"iso_code\": \"CAF\", \"total_cases_per_million\": 1005.018, \"Country\": \"Central African Republic\", \"Alpha-2 code\": \"CF\", \"Alpha-3 code\": \"CAF\", \"id\": 140, \"Latitude (average)\": 7.0, \"Longitude (average)\": 21.0}, {\"iso_code\": \"CAN\", \"total_cases_per_million\": 4719.312, \"Country\": \"Canada\", \"Alpha-2 code\": \"CA\", \"Alpha-3 code\": \"CAN\", \"id\": 124, \"Latitude (average)\": 60.0, \"Longitude (average)\": -95.0}, {\"iso_code\": \"CHE\", \"total_cases_per_million\": 6959.29, \"Country\": \"Switzerland\", \"Alpha-2 code\": \"CH\", \"Alpha-3 code\": \"CHE\", \"id\": 756, \"Latitude (average)\": 47.0, \"Longitude (average)\": 8.0}, {\"iso_code\": \"CHL\", \"total_cases_per_million\": 25181.3, \"Country\": \"Chile\", \"Alpha-2 code\": \"CL\", \"Alpha-3 code\": \"CHL\", \"id\": 152, \"Latitude (average)\": -30.0, \"Longitude (average)\": -71.0}, {\"iso_code\": \"CHN\", \"total_cases_per_million\": 63.093999999999994, \"Country\": \"China\", \"Alpha-2 code\": \"CN\", \"Alpha-3 code\": \"CHN\", \"id\": 156, \"Latitude (average)\": 35.0, \"Longitude (average)\": 105.0}, {\"iso_code\": \"CIV\", \"total_cases_per_million\": 764.038, \"Country\": \"C\\u00f4te d'Ivoire\", \"Alpha-2 code\": \"CI\", \"Alpha-3 code\": \"CIV\", \"id\": 384, \"Latitude (average)\": 8.0, \"Longitude (average)\": -5.0}, {\"iso_code\": \"CIV\", \"total_cases_per_million\": 764.038, \"Country\": \"Ivory Coast\", \"Alpha-2 code\": \"CI\", \"Alpha-3 code\": \"CIV\", \"id\": 384, \"Latitude (average)\": 8.0, \"Longitude (average)\": -5.0}, {\"iso_code\": \"CMR\", \"total_cases_per_million\": 798.7310000000001, \"Country\": \"Cameroon\", \"Alpha-2 code\": \"CM\", \"Alpha-3 code\": \"CMR\", \"id\": 120, \"Latitude (average)\": 6.0, \"Longitude (average)\": 12.0}, {\"iso_code\": \"COD\", \"total_cases_per_million\": 121.146, \"Country\": \"Congo,the Democratic Republic of the\", \"Alpha-2 code\": \"CD\", \"Alpha-3 code\": \"COD\", \"id\": 180, \"Latitude (average)\": 0.0, \"Longitude (average)\": 25.0}, {\"iso_code\": \"COG\", \"total_cases_per_million\": 927.495, \"Country\": \"Congo\", \"Alpha-2 code\": \"CG\", \"Alpha-3 code\": \"COG\", \"id\": 178, \"Latitude (average)\": -1.0, \"Longitude (average)\": 15.0}, {\"iso_code\": \"COL\", \"total_cases_per_million\": 17910.07, \"Country\": \"Colombia\", \"Alpha-2 code\": \"CO\", \"Alpha-3 code\": \"COL\", \"id\": 170, \"Latitude (average)\": 4.0, \"Longitude (average)\": -72.0}, {\"iso_code\": \"COM\", \"total_cases_per_million\": 569.231, \"Country\": \"Comoros\", \"Alpha-2 code\": \"KM\", \"Alpha-3 code\": \"COM\", \"id\": 174, \"Latitude (average)\": -12.1667, \"Longitude (average)\": 44.25}, {\"iso_code\": \"CPV\", \"total_cases_per_million\": 12719.698999999999, \"Country\": \"Cape Verde\", \"Alpha-2 code\": \"CV\", \"Alpha-3 code\": \"CPV\", \"id\": 132, \"Latitude (average)\": 16.0, \"Longitude (average)\": -24.0}, {\"iso_code\": \"CRI\", \"total_cases_per_million\": 17164.712, \"Country\": \"Costa Rica\", \"Alpha-2 code\": \"CR\", \"Alpha-3 code\": \"CRI\", \"id\": 188, \"Latitude (average)\": 10.0, \"Longitude (average)\": -84.0}, {\"iso_code\": \"CUB\", \"total_cases_per_million\": 527.783, \"Country\": \"Cuba\", \"Alpha-2 code\": \"CU\", \"Alpha-3 code\": \"CUB\", \"id\": 192, \"Latitude (average)\": 21.5, \"Longitude (average)\": -80.0}, {\"iso_code\": \"CYM\", \"total_cases_per_million\": 3362.7509999999997, \"Country\": \"Cayman Islands\", \"Alpha-2 code\": \"KY\", \"Alpha-3 code\": \"CYM\", \"id\": 136, \"Latitude (average)\": 19.5, \"Longitude (average)\": -80.5}, {\"iso_code\": \"CYP\", \"total_cases_per_million\": 2267.385, \"Country\": \"Cyprus\", \"Alpha-2 code\": \"CY\", \"Alpha-3 code\": \"CYP\", \"id\": 196, \"Latitude (average)\": 35.0, \"Longitude (average)\": 33.0}, {\"iso_code\": \"CZE\", \"total_cases_per_million\": 10935.68, \"Country\": \"Czech Republic\", \"Alpha-2 code\": \"CZ\", \"Alpha-3 code\": \"CZE\", \"id\": 203, \"Latitude (average)\": 49.75, \"Longitude (average)\": 15.5}, {\"iso_code\": \"DEU\", \"total_cases_per_million\": 3853.531, \"Country\": \"Germany\", \"Alpha-2 code\": \"DE\", \"Alpha-3 code\": \"DEU\", \"id\": 276, \"Latitude (average)\": 51.0, \"Longitude (average)\": 9.0}, {\"iso_code\": \"DJI\", \"total_cases_per_million\": 5488.855, \"Country\": \"Djibouti\", \"Alpha-2 code\": \"DJ\", \"Alpha-3 code\": \"DJI\", \"id\": 262, \"Latitude (average)\": 11.5, \"Longitude (average)\": 43.0}, {\"iso_code\": \"DMA\", \"total_cases_per_million\": 444.5, \"Country\": \"Dominica\", \"Alpha-2 code\": \"DM\", \"Alpha-3 code\": \"DMA\", \"id\": 212, \"Latitude (average)\": 15.4167, \"Longitude (average)\": -61.3333}, {\"iso_code\": \"DNK\", \"total_cases_per_million\": 5597.525, \"Country\": \"Denmark\", \"Alpha-2 code\": \"DK\", \"Alpha-3 code\": \"DNK\", \"id\": 208, \"Latitude (average)\": 56.0, \"Longitude (average)\": 10.0}, {\"iso_code\": \"DOM\", \"total_cases_per_million\": 10921.649, \"Country\": \"Dominican Republic\", \"Alpha-2 code\": \"DO\", \"Alpha-3 code\": \"DOM\", \"id\": 214, \"Latitude (average)\": 19.0, \"Longitude (average)\": -70.6667}, {\"iso_code\": \"DZA\", \"total_cases_per_million\": 1210.279, \"Country\": \"Algeria\", \"Alpha-2 code\": \"DZ\", \"Alpha-3 code\": \"DZA\", \"id\": 12, \"Latitude (average)\": 28.0, \"Longitude (average)\": 3.0}, {\"iso_code\": \"ECU\", \"total_cases_per_million\": 8333.758, \"Country\": \"Ecuador\", \"Alpha-2 code\": \"EC\", \"Alpha-3 code\": \"ECU\", \"id\": 218, \"Latitude (average)\": -2.0, \"Longitude (average)\": -77.5}, {\"iso_code\": \"EGY\", \"total_cases_per_million\": 1020.058, \"Country\": \"Egypt\", \"Alpha-2 code\": \"EG\", \"Alpha-3 code\": \"EGY\", \"id\": 818, \"Latitude (average)\": 27.0, \"Longitude (average)\": 30.0}, {\"iso_code\": \"ERI\", \"total_cases_per_million\": 116.73700000000001, \"Country\": \"Eritrea\", \"Alpha-2 code\": \"ER\", \"Alpha-3 code\": \"ERI\", \"id\": 232, \"Latitude (average)\": 15.0, \"Longitude (average)\": 39.0}, {\"iso_code\": \"ESH\", \"total_cases_per_million\": 1282.373, \"Country\": \"Western Sahara\", \"Alpha-2 code\": \"EH\", \"Alpha-3 code\": \"ESH\", \"id\": 732, \"Latitude (average)\": 24.5, \"Longitude (average)\": -13.0}, {\"iso_code\": \"ESP\", \"total_cases_per_million\": 18417.624, \"Country\": \"Spain\", \"Alpha-2 code\": \"ES\", \"Alpha-3 code\": \"ESP\", \"id\": 724, \"Latitude (average)\": 40.0, \"Longitude (average)\": -4.0}, {\"iso_code\": \"EST\", \"total_cases_per_million\": 2913.597, \"Country\": \"Estonia\", \"Alpha-2 code\": \"EE\", \"Alpha-3 code\": \"EST\", \"id\": 233, \"Latitude (average)\": 59.0, \"Longitude (average)\": 26.0}, {\"iso_code\": \"ETH\", \"total_cases_per_million\": 733.232, \"Country\": \"Ethiopia\", \"Alpha-2 code\": \"ET\", \"Alpha-3 code\": \"ETH\", \"id\": 231, \"Latitude (average)\": 8.0, \"Longitude (average)\": 38.0}, {\"iso_code\": \"FIN\", \"total_cases_per_million\": 2089.982, \"Country\": \"Finland\", \"Alpha-2 code\": \"FI\", \"Alpha-3 code\": \"FIN\", \"id\": 246, \"Latitude (average)\": 64.0, \"Longitude (average)\": 26.0}, {\"iso_code\": \"FJI\", \"total_cases_per_million\": 35.696999999999996, \"Country\": \"Fiji\", \"Alpha-2 code\": \"FJ\", \"Alpha-3 code\": \"FJI\", \"id\": 242, \"Latitude (average)\": -18.0, \"Longitude (average)\": 175.0}, {\"iso_code\": \"FLK\", \"total_cases_per_million\": 3732.415, \"Country\": \"Falkland Islands (Malvinas)\", \"Alpha-2 code\": \"FK\", \"Alpha-3 code\": \"FLK\", \"id\": 238, \"Latitude (average)\": -51.75, \"Longitude (average)\": -59.0}, {\"iso_code\": \"FRA\", \"total_cases_per_million\": 11259.912, \"Country\": \"France\", \"Alpha-2 code\": \"FR\", \"Alpha-3 code\": \"FRA\", \"id\": 250, \"Latitude (average)\": 46.0, \"Longitude (average)\": 2.0}, {\"iso_code\": \"FRO\", \"total_cases_per_million\": 9761.588, \"Country\": \"Faroe Islands\", \"Alpha-2 code\": \"FO\", \"Alpha-3 code\": \"FRO\", \"id\": 234, \"Latitude (average)\": 62.0, \"Longitude (average)\": -7.0}, {\"iso_code\": \"GAB\", \"total_cases_per_million\": 3969.488, \"Country\": \"Gabon\", \"Alpha-2 code\": \"GA\", \"Alpha-3 code\": \"GAB\", \"id\": 266, \"Latitude (average)\": -1.0, \"Longitude (average)\": 11.75}, {\"iso_code\": \"GBR\", \"total_cases_per_million\": 8893.085, \"Country\": \"United Kingdom\", \"Alpha-2 code\": \"GB\", \"Alpha-3 code\": \"GBR\", \"id\": 826, \"Latitude (average)\": 54.0, \"Longitude (average)\": -2.0}, {\"iso_code\": \"GEO\", \"total_cases_per_million\": 2956.5009999999997, \"Country\": \"Georgia\", \"Alpha-2 code\": \"GE\", \"Alpha-3 code\": \"GEO\", \"id\": 268, \"Latitude (average)\": 42.0, \"Longitude (average)\": 43.5}, {\"iso_code\": \"GGY\", \"total_cases_per_million\": 3847.76, \"Country\": \"Guernsey\", \"Alpha-2 code\": \"GG\", \"Alpha-3 code\": \"GGY\", \"id\": 831, \"Latitude (average)\": 49.5, \"Longitude (average)\": -2.56}, {\"iso_code\": \"GHA\", \"total_cases_per_million\": 1512.731, \"Country\": \"Ghana\", \"Alpha-2 code\": \"GH\", \"Alpha-3 code\": \"GHA\", \"id\": 288, \"Latitude (average)\": 8.0, \"Longitude (average)\": -2.0}, {\"iso_code\": \"GIB\", \"total_cases_per_million\": 14395.536, \"Country\": \"Gibraltar\", \"Alpha-2 code\": \"GI\", \"Alpha-3 code\": \"GIB\", \"id\": 292, \"Latitude (average)\": 36.1833, \"Longitude (average)\": -5.3667}, {\"iso_code\": \"GIN\", \"total_cases_per_million\": 839.273, \"Country\": \"Guinea\", \"Alpha-2 code\": \"GN\", \"Alpha-3 code\": \"GIN\", \"id\": 324, \"Latitude (average)\": 11.0, \"Longitude (average)\": -10.0}, {\"iso_code\": \"GMB\", \"total_cases_per_million\": 1502.898, \"Country\": \"Gambia\", \"Alpha-2 code\": \"GM\", \"Alpha-3 code\": \"GMB\", \"id\": 270, \"Latitude (average)\": 13.4667, \"Longitude (average)\": -16.5667}, {\"iso_code\": \"GNB\", \"total_cases_per_million\": 1211.891, \"Country\": \"Guinea-Bissau\", \"Alpha-2 code\": \"GW\", \"Alpha-3 code\": \"GNB\", \"id\": 624, \"Latitude (average)\": 12.0, \"Longitude (average)\": -15.0}, {\"iso_code\": \"GNQ\", \"total_cases_per_million\": 3608.7340000000004, \"Country\": \"Equatorial Guinea\", \"Alpha-2 code\": \"GQ\", \"Alpha-3 code\": \"GNQ\", \"id\": 226, \"Latitude (average)\": 2.0, \"Longitude (average)\": 10.0}, {\"iso_code\": \"GRC\", \"total_cases_per_million\": 2145.052, \"Country\": \"Greece\", \"Alpha-2 code\": \"GR\", \"Alpha-3 code\": \"GRC\", \"id\": 300, \"Latitude (average)\": 39.0, \"Longitude (average)\": 22.0}, {\"iso_code\": \"GRD\", \"total_cases_per_million\": 213.297, \"Country\": \"Grenada\", \"Alpha-2 code\": \"GD\", \"Alpha-3 code\": \"GRD\", \"id\": 308, \"Latitude (average)\": 12.1167, \"Longitude (average)\": -61.6667}, {\"iso_code\": \"GRL\", \"total_cases_per_million\": 281.829, \"Country\": \"Greenland\", \"Alpha-2 code\": \"GL\", \"Alpha-3 code\": \"GRL\", \"id\": 304, \"Latitude (average)\": 72.0, \"Longitude (average)\": -40.0}, {\"iso_code\": \"GTM\", \"total_cases_per_million\": 5454.195, \"Country\": \"Guatemala\", \"Alpha-2 code\": \"GT\", \"Alpha-3 code\": \"GTM\", \"id\": 320, \"Latitude (average)\": 15.5, \"Longitude (average)\": -90.25}, {\"iso_code\": \"GUM\", \"total_cases_per_million\": 18236.433999999997, \"Country\": \"Guam\", \"Alpha-2 code\": \"GU\", \"Alpha-3 code\": \"GUM\", \"id\": 316, \"Latitude (average)\": 13.4667, \"Longitude (average)\": 144.7833}, {\"iso_code\": \"GUY\", \"total_cases_per_million\": 4410.349, \"Country\": \"Guyana\", \"Alpha-2 code\": \"GY\", \"Alpha-3 code\": \"GUY\", \"id\": 328, \"Latitude (average)\": 5.0, \"Longitude (average)\": -59.0}, {\"iso_code\": \"HKG\", \"total_cases_per_million\": null, \"Country\": \"Hong Kong\", \"Alpha-2 code\": \"HK\", \"Alpha-3 code\": \"HKG\", \"id\": 344, \"Latitude (average)\": 22.25, \"Longitude (average)\": 114.1667}, {\"iso_code\": \"HND\", \"total_cases_per_million\": 8489.079, \"Country\": \"Honduras\", \"Alpha-2 code\": \"HN\", \"Alpha-3 code\": \"HND\", \"id\": 340, \"Latitude (average)\": 15.0, \"Longitude (average)\": -86.5}, {\"iso_code\": \"HRV\", \"total_cases_per_million\": 4978.968, \"Country\": \"Croatia\", \"Alpha-2 code\": \"HR\", \"Alpha-3 code\": \"HRV\", \"id\": 191, \"Latitude (average)\": 45.1667, \"Longitude (average)\": 15.5}, {\"iso_code\": \"HTI\", \"total_cases_per_million\": 778.95, \"Country\": \"Haiti\", \"Alpha-2 code\": \"HT\", \"Alpha-3 code\": \"HTI\", \"id\": 332, \"Latitude (average)\": 19.0, \"Longitude (average)\": -72.4167}, {\"iso_code\": \"HUN\", \"total_cases_per_million\": 3993.3340000000003, \"Country\": \"Hungary\", \"Alpha-2 code\": \"HU\", \"Alpha-3 code\": \"HUN\", \"id\": 348, \"Latitude (average)\": 47.0, \"Longitude (average)\": 20.0}, {\"iso_code\": \"IDN\", \"total_cases_per_million\": 1219.087, \"Country\": \"Indonesia\", \"Alpha-2 code\": \"ID\", \"Alpha-3 code\": \"IDN\", \"id\": 360, \"Latitude (average)\": -5.0, \"Longitude (average)\": 120.0}, {\"iso_code\": \"IMN\", \"total_cases_per_million\": 4069.0559999999996, \"Country\": \"Isle of Man\", \"Alpha-2 code\": \"IM\", \"Alpha-3 code\": \"IMN\", \"id\": 833, \"Latitude (average)\": 54.23, \"Longitude (average)\": -4.55}, {\"iso_code\": \"IND\", \"total_cases_per_million\": 5159.794, \"Country\": \"India\", \"Alpha-2 code\": \"IN\", \"Alpha-3 code\": \"IND\", \"id\": 356, \"Latitude (average)\": 20.0, \"Longitude (average)\": 77.0}, {\"iso_code\": \"IRL\", \"total_cases_per_million\": 8612.749, \"Country\": \"Ireland\", \"Alpha-2 code\": \"IE\", \"Alpha-3 code\": \"IRL\", \"id\": 372, \"Latitude (average)\": 53.0, \"Longitude (average)\": -8.0}, {\"iso_code\": \"IRN\", \"total_cases_per_million\": 5953.773, \"Country\": \"Iran,Islamic Republic of\", \"Alpha-2 code\": \"IR\", \"Alpha-3 code\": \"IRN\", \"id\": 364, \"Latitude (average)\": 32.0, \"Longitude (average)\": 53.0}, {\"iso_code\": \"IRQ\", \"total_cases_per_million\": 10002.61, \"Country\": \"Iraq\", \"Alpha-2 code\": \"IQ\", \"Alpha-3 code\": \"IRQ\", \"id\": 368, \"Latitude (average)\": 33.0, \"Longitude (average)\": 44.0}, {\"iso_code\": \"ISL\", \"total_cases_per_million\": 10332.601, \"Country\": \"Iceland\", \"Alpha-2 code\": \"IS\", \"Alpha-3 code\": \"ISL\", \"id\": 352, \"Latitude (average)\": 65.0, \"Longitude (average)\": -18.0}, {\"iso_code\": \"ISR\", \"total_cases_per_million\": 33715.742999999995, \"Country\": \"Israel\", \"Alpha-2 code\": \"IL\", \"Alpha-3 code\": \"ISR\", \"id\": 376, \"Latitude (average)\": 31.5, \"Longitude (average)\": 34.75}, {\"iso_code\": \"ITA\", \"total_cases_per_million\": 5870.646, \"Country\": \"Italy\", \"Alpha-2 code\": \"IT\", \"Alpha-3 code\": \"ITA\", \"id\": 380, \"Latitude (average)\": 42.8333, \"Longitude (average)\": 12.8333}, {\"iso_code\": \"JAM\", \"total_cases_per_million\": 2606.41, \"Country\": \"Jamaica\", \"Alpha-2 code\": \"JM\", \"Alpha-3 code\": \"JAM\", \"id\": 388, \"Latitude (average)\": 18.25, \"Longitude (average)\": -77.5}, {\"iso_code\": \"JEY\", \"total_cases_per_million\": 4442.334, \"Country\": \"Jersey\", \"Alpha-2 code\": \"JE\", \"Alpha-3 code\": \"JEY\", \"id\": 832, \"Latitude (average)\": 49.21, \"Longitude (average)\": -2.13}, {\"iso_code\": \"JOR\", \"total_cases_per_million\": 2442.973, \"Country\": \"Jordan\", \"Alpha-2 code\": \"JO\", \"Alpha-3 code\": \"JOR\", \"id\": 400, \"Latitude (average)\": 31.0, \"Longitude (average)\": 36.0}, {\"iso_code\": \"JPN\", \"total_cases_per_million\": 706.432, \"Country\": \"Japan\", \"Alpha-2 code\": \"JP\", \"Alpha-3 code\": \"JPN\", \"id\": 392, \"Latitude (average)\": 36.0, \"Longitude (average)\": 138.0}, {\"iso_code\": \"KAZ\", \"total_cases_per_million\": 7655.229, \"Country\": \"Kazakhstan\", \"Alpha-2 code\": \"KZ\", \"Alpha-3 code\": \"KAZ\", \"id\": 398, \"Latitude (average)\": 48.0, \"Longitude (average)\": 68.0}, {\"iso_code\": \"KEN\", \"total_cases_per_million\": 772.643, \"Country\": \"Kenya\", \"Alpha-2 code\": \"KE\", \"Alpha-3 code\": \"KEN\", \"id\": 404, \"Latitude (average)\": 1.0, \"Longitude (average)\": 38.0}, {\"iso_code\": \"KGZ\", \"total_cases_per_million\": 7545.763000000001, \"Country\": \"Kyrgyzstan\", \"Alpha-2 code\": \"KG\", \"Alpha-3 code\": \"KGZ\", \"id\": 417, \"Latitude (average)\": 41.0, \"Longitude (average)\": 75.0}, {\"iso_code\": \"KHM\", \"total_cases_per_million\": 16.927, \"Country\": \"Cambodia\", \"Alpha-2 code\": \"KH\", \"Alpha-3 code\": \"KHM\", \"id\": 116, \"Latitude (average)\": 13.0, \"Longitude (average)\": 105.0}, {\"iso_code\": \"KNA\", \"total_cases_per_million\": 357.19699999999995, \"Country\": \"Saint Kitts and Nevis\", \"Alpha-2 code\": \"KN\", \"Alpha-3 code\": \"KNA\", \"id\": 659, \"Latitude (average)\": 17.3333, \"Longitude (average)\": -62.75}, {\"iso_code\": \"KOR\", \"total_cases_per_million\": 481.829, \"Country\": \"Korea,Republic of\", \"Alpha-2 code\": \"KR\", \"Alpha-3 code\": \"KOR\", \"id\": 410, \"Latitude (average)\": 37.0, \"Longitude (average)\": 127.5}, {\"iso_code\": \"KOR\", \"total_cases_per_million\": 481.829, \"Country\": \"South Korea\", \"Alpha-2 code\": \"KR\", \"Alpha-3 code\": \"KOR\", \"id\": 410, \"Latitude (average)\": 37.0, \"Longitude (average)\": 127.5}, {\"iso_code\": \"KWT\", \"total_cases_per_million\": 26019.052000000003, \"Country\": \"Kuwait\", \"Alpha-2 code\": \"KW\", \"Alpha-3 code\": \"KWT\", \"id\": 414, \"Latitude (average)\": 29.3375, \"Longitude (average)\": 47.6581}, {\"iso_code\": \"LAO\", \"total_cases_per_million\": 3.161, \"Country\": \"Lao People's Democratic Republic\", \"Alpha-2 code\": \"LA\", \"Alpha-3 code\": \"LAO\", \"id\": 418, \"Latitude (average)\": 18.0, \"Longitude (average)\": 105.0}, {\"iso_code\": \"LBN\", \"total_cases_per_million\": 7700.307, \"Country\": \"Lebanon\", \"Alpha-2 code\": \"LB\", \"Alpha-3 code\": \"LBN\", \"id\": 422, \"Latitude (average)\": 33.8333, \"Longitude (average)\": 35.8333}, {\"iso_code\": \"LBR\", \"total_cases_per_million\": 269.491, \"Country\": \"Liberia\", \"Alpha-2 code\": \"LR\", \"Alpha-3 code\": \"LBR\", \"id\": 430, \"Latitude (average)\": 6.5, \"Longitude (average)\": -9.5}, {\"iso_code\": \"LBY\", \"total_cases_per_million\": 6216.012, \"Country\": \"Libyan Arab Jamahiriya\", \"Alpha-2 code\": \"LY\", \"Alpha-3 code\": \"LBY\", \"id\": 434, \"Latitude (average)\": 25.0, \"Longitude (average)\": 17.0}, {\"iso_code\": \"LBY\", \"total_cases_per_million\": 6216.012, \"Country\": \"Libya\", \"Alpha-2 code\": \"LY\", \"Alpha-3 code\": \"LBY\", \"id\": 434, \"Latitude (average)\": 25.0, \"Longitude (average)\": 17.0}, {\"iso_code\": \"LCA\", \"total_cases_per_million\": 157.92700000000002, \"Country\": \"Saint Lucia\", \"Alpha-2 code\": \"LC\", \"Alpha-3 code\": \"LCA\", \"id\": 662, \"Latitude (average)\": 13.8833, \"Longitude (average)\": -61.1333}, {\"iso_code\": \"LIE\", \"total_cases_per_million\": 3618.533, \"Country\": \"Liechtenstein\", \"Alpha-2 code\": \"LI\", \"Alpha-3 code\": \"LIE\", \"id\": 438, \"Latitude (average)\": 47.1667, \"Longitude (average)\": 9.5333}, {\"iso_code\": \"LKA\", \"total_cases_per_million\": 221.919, \"Country\": \"Sri Lanka\", \"Alpha-2 code\": \"LK\", \"Alpha-3 code\": \"LKA\", \"id\": 144, \"Latitude (average)\": 7.0, \"Longitude (average)\": 81.0}, {\"iso_code\": \"LSO\", \"total_cases_per_million\": 842.571, \"Country\": \"Lesotho\", \"Alpha-2 code\": \"LS\", \"Alpha-3 code\": \"LSO\", \"id\": 426, \"Latitude (average)\": -29.5, \"Longitude (average)\": 28.5}, {\"iso_code\": \"LTU\", \"total_cases_per_million\": 2248.841, \"Country\": \"Lithuania\", \"Alpha-2 code\": \"LT\", \"Alpha-3 code\": \"LTU\", \"id\": 440, \"Latitude (average)\": 56.0, \"Longitude (average)\": 24.0}, {\"iso_code\": \"LUX\", \"total_cases_per_million\": 14952.65, \"Country\": \"Luxembourg\", \"Alpha-2 code\": \"LU\", \"Alpha-3 code\": \"LUX\", \"id\": 442, \"Latitude (average)\": 49.75, \"Longitude (average)\": 6.1667}, {\"iso_code\": \"LVA\", \"total_cases_per_million\": 1415.543, \"Country\": \"Latvia\", \"Alpha-2 code\": \"LV\", \"Alpha-3 code\": \"LVA\", \"id\": 428, \"Latitude (average)\": 57.0, \"Longitude (average)\": 25.0}, {\"iso_code\": \"MAR\", \"total_cases_per_million\": 4059.57, \"Country\": \"Morocco\", \"Alpha-2 code\": \"MA\", \"Alpha-3 code\": \"MAR\", \"id\": 504, \"Latitude (average)\": 32.0, \"Longitude (average)\": -5.0}, {\"iso_code\": \"MCO\", \"total_cases_per_million\": 5962.695, \"Country\": \"Monaco\", \"Alpha-2 code\": \"MC\", \"Alpha-3 code\": \"MCO\", \"id\": 492, \"Latitude (average)\": 43.7333, \"Longitude (average)\": 7.4}, {\"iso_code\": \"MDA\", \"total_cases_per_million\": 15406.934, \"Country\": \"Moldova,Republic of\", \"Alpha-2 code\": \"MD\", \"Alpha-3 code\": \"MDA\", \"id\": 498, \"Latitude (average)\": 47.0, \"Longitude (average)\": 29.0}, {\"iso_code\": \"MDG\", \"total_cases_per_million\": 603.734, \"Country\": \"Madagascar\", \"Alpha-2 code\": \"MG\", \"Alpha-3 code\": \"MDG\", \"id\": 450, \"Latitude (average)\": -20.0, \"Longitude (average)\": 47.0}, {\"iso_code\": \"MDV\", \"total_cases_per_million\": 20153.846, \"Country\": \"Maldives\", \"Alpha-2 code\": \"MV\", \"Alpha-3 code\": \"MDV\", \"id\": 462, \"Latitude (average)\": 3.25, \"Longitude (average)\": 73.0}, {\"iso_code\": \"MEX\", \"total_cases_per_million\": 6315.9130000000005, \"Country\": \"Mexico\", \"Alpha-2 code\": \"MX\", \"Alpha-3 code\": \"MEX\", \"id\": 484, \"Latitude (average)\": 23.0, \"Longitude (average)\": -102.0}, {\"iso_code\": \"MKD\", \"total_cases_per_million\": 10049.535, \"Country\": \"Macedonia,the former Yugoslav Republic of\", \"Alpha-2 code\": \"MK\", \"Alpha-3 code\": \"MKD\", \"id\": 807, \"Latitude (average)\": 41.8333, \"Longitude (average)\": 22.0}, {\"iso_code\": \"MLI\", \"total_cases_per_million\": 162.265, \"Country\": \"Mali\", \"Alpha-2 code\": \"ML\", \"Alpha-3 code\": \"MLI\", \"id\": 466, \"Latitude (average)\": 17.0, \"Longitude (average)\": -4.0}, {\"iso_code\": \"MLT\", \"total_cases_per_million\": 8551.905999999999, \"Country\": \"Malta\", \"Alpha-2 code\": \"MT\", \"Alpha-3 code\": \"MLT\", \"id\": 470, \"Latitude (average)\": 35.8333, \"Longitude (average)\": 14.5833}, {\"iso_code\": \"MMR\", \"total_cases_per_million\": 514.135, \"Country\": \"Myanmar\", \"Alpha-2 code\": \"MM\", \"Alpha-3 code\": \"MMR\", \"id\": 104, \"Latitude (average)\": 22.0, \"Longitude (average)\": 98.0}, {\"iso_code\": \"MMR\", \"total_cases_per_million\": 514.135, \"Country\": \"Burma\", \"Alpha-2 code\": \"MM\", \"Alpha-3 code\": \"MMR\", \"id\": 104, \"Latitude (average)\": 22.0, \"Longitude (average)\": 98.0}, {\"iso_code\": \"MNE\", \"total_cases_per_million\": 22082.215, \"Country\": \"Montenegro\", \"Alpha-2 code\": \"ME\", \"Alpha-3 code\": \"MNE\", \"id\": 499, \"Latitude (average)\": 42.0, \"Longitude (average)\": 19.0}, {\"iso_code\": \"MNG\", \"total_cases_per_million\": 97.00200000000001, \"Country\": \"Mongolia\", \"Alpha-2 code\": \"MN\", \"Alpha-3 code\": \"MNG\", \"id\": 496, \"Latitude (average)\": 46.0, \"Longitude (average)\": 105.0}, {\"iso_code\": \"MNP\", \"total_cases_per_million\": 1337.8039999999999, \"Country\": \"Northern Mariana Islands\", \"Alpha-2 code\": \"MP\", \"Alpha-3 code\": \"MNP\", \"id\": 580, \"Latitude (average)\": 15.2, \"Longitude (average)\": 145.75}, {\"iso_code\": \"MOZ\", \"total_cases_per_million\": 319.976, \"Country\": \"Mozambique\", \"Alpha-2 code\": \"MZ\", \"Alpha-3 code\": \"MOZ\", \"id\": 508, \"Latitude (average)\": -18.25, \"Longitude (average)\": 35.0}, {\"iso_code\": \"MRT\", \"total_cases_per_million\": 1623.775, \"Country\": \"Mauritania\", \"Alpha-2 code\": \"MR\", \"Alpha-3 code\": \"MRT\", \"id\": 478, \"Latitude (average)\": 20.0, \"Longitude (average)\": -12.0}, {\"iso_code\": \"MSR\", \"total_cases_per_million\": 2600.52, \"Country\": \"Montserrat\", \"Alpha-2 code\": \"MS\", \"Alpha-3 code\": \"MSR\", \"id\": 500, \"Latitude (average)\": 16.75, \"Longitude (average)\": -62.2}, {\"iso_code\": \"MUS\", \"total_cases_per_million\": 310.591, \"Country\": \"Mauritius\", \"Alpha-2 code\": \"MU\", \"Alpha-3 code\": \"MUS\", \"id\": 480, \"Latitude (average)\": -20.2833, \"Longitude (average)\": 57.55}, {\"iso_code\": \"MWI\", \"total_cases_per_million\": 304.28700000000003, \"Country\": \"Malawi\", \"Alpha-2 code\": \"MW\", \"Alpha-3 code\": \"MWI\", \"id\": 454, \"Latitude (average)\": -13.5, \"Longitude (average)\": 34.0}, {\"iso_code\": \"MYS\", \"total_cases_per_million\": 483.74800000000005, \"Country\": \"Malaysia\", \"Alpha-2 code\": \"MY\", \"Alpha-3 code\": \"MYS\", \"id\": 458, \"Latitude (average)\": 2.5, \"Longitude (average)\": 112.5}, {\"iso_code\": \"NAM\", \"total_cases_per_million\": 4697.519, \"Country\": \"Namibia\", \"Alpha-2 code\": null, \"Alpha-3 code\": \"NAM\", \"id\": 516, \"Latitude (average)\": -22.0, \"Longitude (average)\": 17.0}, {\"iso_code\": \"NCL\", \"total_cases_per_million\": 94.574, \"Country\": \"New Caledonia\", \"Alpha-2 code\": \"NC\", \"Alpha-3 code\": \"NCL\", \"id\": 540, \"Latitude (average)\": -21.5, \"Longitude (average)\": 165.5}, {\"iso_code\": \"NER\", \"total_cases_per_million\": 49.614, \"Country\": \"Niger\", \"Alpha-2 code\": \"NE\", \"Alpha-3 code\": \"NER\", \"id\": 562, \"Latitude (average)\": 16.0, \"Longitude (average)\": 8.0}, {\"iso_code\": \"NGA\", \"total_cases_per_million\": 292.355, \"Country\": \"Nigeria\", \"Alpha-2 code\": \"NG\", \"Alpha-3 code\": \"NGA\", \"id\": 566, \"Latitude (average)\": 10.0, \"Longitude (average)\": 8.0}, {\"iso_code\": \"NIC\", \"total_cases_per_million\": 794.62, \"Country\": \"Nicaragua\", \"Alpha-2 code\": \"NI\", \"Alpha-3 code\": \"NIC\", \"id\": 558, \"Latitude (average)\": 13.0, \"Longitude (average)\": -85.0}, {\"iso_code\": \"NLD\", \"total_cases_per_million\": 10180.992, \"Country\": \"Netherlands\", \"Alpha-2 code\": \"NL\", \"Alpha-3 code\": \"NLD\", \"id\": 528, \"Latitude (average)\": 52.5, \"Longitude (average)\": 5.75}, {\"iso_code\": \"NOR\", \"total_cases_per_million\": 2807.659, \"Country\": \"Norway\", \"Alpha-2 code\": \"NO\", \"Alpha-3 code\": \"NOR\", \"id\": 578, \"Latitude (average)\": 62.0, \"Longitude (average)\": 10.0}, {\"iso_code\": \"NPL\", \"total_cases_per_million\": 3698.243, \"Country\": \"Nepal\", \"Alpha-2 code\": \"NP\", \"Alpha-3 code\": \"NPL\", \"id\": 524, \"Latitude (average)\": 28.0, \"Longitude (average)\": 84.0}, {\"iso_code\": \"NZL\", \"total_cases_per_million\": 314.17, \"Country\": \"New Zealand\", \"Alpha-2 code\": \"NZ\", \"Alpha-3 code\": \"NZL\", \"id\": 554, \"Latitude (average)\": -41.0, \"Longitude (average)\": 174.0}, {\"iso_code\": \"OMN\", \"total_cases_per_million\": 20735.821, \"Country\": \"Oman\", \"Alpha-2 code\": \"OM\", \"Alpha-3 code\": \"OMN\", \"id\": 512, \"Latitude (average)\": 21.0, \"Longitude (average)\": 57.0}, {\"iso_code\": \"PAK\", \"total_cases_per_million\": 1443.835, \"Country\": \"Pakistan\", \"Alpha-2 code\": \"PK\", \"Alpha-3 code\": \"PAK\", \"id\": 586, \"Latitude (average)\": 30.0, \"Longitude (average)\": 70.0}, {\"iso_code\": \"PAN\", \"total_cases_per_million\": 27884.002, \"Country\": \"Panama\", \"Alpha-2 code\": \"PA\", \"Alpha-3 code\": \"PAN\", \"id\": 591, \"Latitude (average)\": 9.0, \"Longitude (average)\": -80.0}, {\"iso_code\": \"PER\", \"total_cases_per_million\": 25760.493, \"Country\": \"Peru\", \"Alpha-2 code\": \"PE\", \"Alpha-3 code\": \"PER\", \"id\": 604, \"Latitude (average)\": -10.0, \"Longitude (average)\": -76.0}, {\"iso_code\": \"PHL\", \"total_cases_per_million\": 3096.711, \"Country\": \"Philippines\", \"Alpha-2 code\": \"PH\", \"Alpha-3 code\": \"PHL\", \"id\": 608, \"Latitude (average)\": 13.0, \"Longitude (average)\": 122.0}, {\"iso_code\": \"PNG\", \"total_cases_per_million\": 61.92, \"Country\": \"Papua New Guinea\", \"Alpha-2 code\": \"PG\", \"Alpha-3 code\": \"PNG\", \"id\": 598, \"Latitude (average)\": -6.0, \"Longitude (average)\": 147.0}, {\"iso_code\": \"POL\", \"total_cases_per_million\": 3324.367, \"Country\": \"Poland\", \"Alpha-2 code\": \"PL\", \"Alpha-3 code\": \"POL\", \"id\": 616, \"Latitude (average)\": 52.0, \"Longitude (average)\": 20.0}, {\"iso_code\": \"PRI\", \"total_cases_per_million\": 18760.574, \"Country\": \"Puerto Rico\", \"Alpha-2 code\": \"PR\", \"Alpha-3 code\": \"PRI\", \"id\": 630, \"Latitude (average)\": 18.25, \"Longitude (average)\": -66.5}, {\"iso_code\": \"PRT\", \"total_cases_per_million\": 8499.215, \"Country\": \"Portugal\", \"Alpha-2 code\": \"PT\", \"Alpha-3 code\": \"PRT\", \"id\": 620, \"Latitude (average)\": 39.5, \"Longitude (average)\": -8.0}, {\"iso_code\": \"PRY\", \"total_cases_per_million\": 6964.569, \"Country\": \"Paraguay\", \"Alpha-2 code\": \"PY\", \"Alpha-3 code\": \"PRY\", \"id\": 600, \"Latitude (average)\": -23.0, \"Longitude (average)\": -58.0}, {\"iso_code\": \"PSE\", \"total_cases_per_million\": 10890.31, \"Country\": \"Palestinian Territory,Occupied\", \"Alpha-2 code\": \"PS\", \"Alpha-3 code\": \"PSE\", \"id\": 275, \"Latitude (average)\": 32.0, \"Longitude (average)\": 35.25}, {\"iso_code\": \"PYF\", \"total_cases_per_million\": 9583.345, \"Country\": \"French Polynesia\", \"Alpha-2 code\": \"PF\", \"Alpha-3 code\": \"PYF\", \"id\": 258, \"Latitude (average)\": -15.0, \"Longitude (average)\": -140.0}, {\"iso_code\": \"QAT\", \"total_cases_per_million\": 44422.886, \"Country\": \"Qatar\", \"Alpha-2 code\": \"QA\", \"Alpha-3 code\": \"QAT\", \"id\": 634, \"Latitude (average)\": 25.5, \"Longitude (average)\": 51.25}, {\"iso_code\": \"ROU\", \"total_cases_per_million\": 8071.814, \"Country\": \"Romania\", \"Alpha-2 code\": \"RO\", \"Alpha-3 code\": \"ROU\", \"id\": 642, \"Latitude (average)\": 46.0, \"Longitude (average)\": 25.0}, {\"iso_code\": \"RUS\", \"total_cases_per_million\": 8899.324, \"Country\": \"Russian Federation\", \"Alpha-2 code\": \"RU\", \"Alpha-3 code\": \"RUS\", \"id\": 643, \"Latitude (average)\": 60.0, \"Longitude (average)\": 100.0}, {\"iso_code\": \"RUS\", \"total_cases_per_million\": 8899.324, \"Country\": \"Russia\", \"Alpha-2 code\": \"RU\", \"Alpha-3 code\": \"RUS\", \"id\": 643, \"Latitude (average)\": 60.0, \"Longitude (average)\": 100.0}, {\"iso_code\": \"RWA\", \"total_cases_per_million\": 378.005, \"Country\": \"Rwanda\", \"Alpha-2 code\": \"RW\", \"Alpha-3 code\": \"RWA\", \"id\": 646, \"Latitude (average)\": -2.0, \"Longitude (average)\": 30.0}, {\"iso_code\": \"SAU\", \"total_cases_per_million\": 9745.168, \"Country\": \"Saudi Arabia\", \"Alpha-2 code\": \"SA\", \"Alpha-3 code\": \"SAU\", \"id\": 682, \"Latitude (average)\": 25.0, \"Longitude (average)\": 45.0}, {\"iso_code\": \"SDN\", \"total_cases_per_million\": 311.75, \"Country\": \"Sudan\", \"Alpha-2 code\": \"SD\", \"Alpha-3 code\": \"SDN\", \"id\": 736, \"Latitude (average)\": 15.0, \"Longitude (average)\": 30.0}, {\"iso_code\": \"SEN\", \"total_cases_per_million\": 911.8530000000001, \"Country\": \"Senegal\", \"Alpha-2 code\": \"SN\", \"Alpha-3 code\": \"SEN\", \"id\": 686, \"Latitude (average)\": 14.0, \"Longitude (average)\": -14.0}, {\"iso_code\": \"SGP\", \"total_cases_per_million\": 9892.753, \"Country\": \"Singapore\", \"Alpha-2 code\": \"SG\", \"Alpha-3 code\": \"SGP\", \"id\": 702, \"Latitude (average)\": 1.3667, \"Longitude (average)\": 103.8}, {\"iso_code\": \"SLE\", \"total_cases_per_million\": 289.082, \"Country\": \"Sierra Leone\", \"Alpha-2 code\": \"SL\", \"Alpha-3 code\": \"SLE\", \"id\": 694, \"Latitude (average)\": 8.5, \"Longitude (average)\": -11.5}, {\"iso_code\": \"SLV\", \"total_cases_per_million\": 4655.4220000000005, \"Country\": \"El Salvador\", \"Alpha-2 code\": \"SV\", \"Alpha-3 code\": \"SLV\", \"id\": 222, \"Latitude (average)\": 13.8333, \"Longitude (average)\": -88.9167}, {\"iso_code\": \"SMR\", \"total_cases_per_million\": 22158.053, \"Country\": \"San Marino\", \"Alpha-2 code\": \"SM\", \"Alpha-3 code\": \"SMR\", \"id\": 674, \"Latitude (average)\": 43.7667, \"Longitude (average)\": 12.4167}, {\"iso_code\": \"SOM\", \"total_cases_per_million\": 243.123, \"Country\": \"Somalia\", \"Alpha-2 code\": \"SO\", \"Alpha-3 code\": \"SOM\", \"id\": 706, \"Latitude (average)\": 10.0, \"Longitude (average)\": 49.0}, {\"iso_code\": \"SRB\", \"total_cases_per_million\": 5112.28, \"Country\": \"Serbia\", \"Alpha-2 code\": \"RS\", \"Alpha-3 code\": \"SRB\", \"id\": 688, \"Latitude (average)\": 44.0, \"Longitude (average)\": 21.0}, {\"iso_code\": \"SSD\", \"total_cases_per_million\": 248.085, \"Country\": \"South Sudan\", \"Alpha-2 code\": \"SS\", \"Alpha-3 code\": \"SSD\", \"id\": 728, \"Latitude (average)\": 8.0, \"Longitude (average)\": 30.0}, {\"iso_code\": \"STP\", \"total_cases_per_million\": 4238.893, \"Country\": \"Sao Tome and Principe\", \"Alpha-2 code\": \"ST\", \"Alpha-3 code\": \"STP\", \"id\": 678, \"Latitude (average)\": 1.0, \"Longitude (average)\": 7.0}, {\"iso_code\": \"SUR\", \"total_cases_per_million\": 8610.139000000001, \"Country\": \"Suriname\", \"Alpha-2 code\": \"SR\", \"Alpha-3 code\": \"SUR\", \"id\": 740, \"Latitude (average)\": 4.0, \"Longitude (average)\": -56.0}, {\"iso_code\": \"SVK\", \"total_cases_per_million\": 3635.952, \"Country\": \"Slovakia\", \"Alpha-2 code\": \"SK\", \"Alpha-3 code\": \"SVK\", \"id\": 703, \"Latitude (average)\": 48.6667, \"Longitude (average)\": 19.5}, {\"iso_code\": \"SVN\", \"total_cases_per_million\": 4168.005, \"Country\": \"Slovenia\", \"Alpha-2 code\": \"SI\", \"Alpha-3 code\": \"SVN\", \"id\": 705, \"Latitude (average)\": 46.0, \"Longitude (average)\": 15.0}, {\"iso_code\": \"SWE\", \"total_cases_per_million\": 9748.328000000001, \"Country\": \"Sweden\", \"Alpha-2 code\": \"SE\", \"Alpha-3 code\": \"SWE\", \"id\": 752, \"Latitude (average)\": 62.0, \"Longitude (average)\": 15.0}, {\"iso_code\": \"SWZ\", \"total_cases_per_million\": 4886.378, \"Country\": \"Swaziland\", \"Alpha-2 code\": \"SZ\", \"Alpha-3 code\": \"SWZ\", \"id\": 748, \"Latitude (average)\": -26.5, \"Longitude (average)\": 31.5}, {\"iso_code\": \"SYC\", \"total_cases_per_million\": 1504.983, \"Country\": \"Seychelles\", \"Alpha-2 code\": \"SC\", \"Alpha-3 code\": \"SYC\", \"id\": 690, \"Latitude (average)\": -4.5833, \"Longitude (average)\": 55.6667}, {\"iso_code\": \"SYR\", \"total_cases_per_million\": 267.019, \"Country\": \"Syrian Arab Republic\", \"Alpha-2 code\": \"SY\", \"Alpha-3 code\": \"SYR\", \"id\": 760, \"Latitude (average)\": 35.0, \"Longitude (average)\": 38.0}, {\"iso_code\": \"TCA\", \"total_cases_per_million\": 17950.307, \"Country\": \"Turks and Caicos Islands\", \"Alpha-2 code\": \"TC\", \"Alpha-3 code\": \"TCA\", \"id\": 796, \"Latitude (average)\": 21.75, \"Longitude (average)\": -71.5833}, {\"iso_code\": \"TCD\", \"total_cases_per_million\": 79.387, \"Country\": \"Chad\", \"Alpha-2 code\": \"TD\", \"Alpha-3 code\": \"TCD\", \"id\": 148, \"Latitude (average)\": 15.0, \"Longitude (average)\": 19.0}, {\"iso_code\": \"TGO\", \"total_cases_per_million\": 234.335, \"Country\": \"Togo\", \"Alpha-2 code\": \"TG\", \"Alpha-3 code\": \"TGO\", \"id\": 768, \"Latitude (average)\": 8.0, \"Longitude (average)\": 1.1667}, {\"iso_code\": \"THA\", \"total_cases_per_million\": 52.163000000000004, \"Country\": \"Thailand\", \"Alpha-2 code\": \"TH\", \"Alpha-3 code\": \"THA\", \"id\": 764, \"Latitude (average)\": 15.0, \"Longitude (average)\": 100.0}, {\"iso_code\": \"TJK\", \"total_cases_per_million\": 1071.753, \"Country\": \"Tajikistan\", \"Alpha-2 code\": \"TJ\", \"Alpha-3 code\": \"TJK\", \"id\": 762, \"Latitude (average)\": 39.0, \"Longitude (average)\": 71.0}, {\"iso_code\": \"TLS\", \"total_cases_per_million\": 21.237, \"Country\": \"Timor-Leste\", \"Alpha-2 code\": \"TL\", \"Alpha-3 code\": \"TLS\", \"id\": 626, \"Latitude (average)\": -8.55, \"Longitude (average)\": 125.5167}, {\"iso_code\": \"TTO\", \"total_cases_per_million\": 3644.897, \"Country\": \"Trinidad and Tobago\", \"Alpha-2 code\": \"TT\", \"Alpha-3 code\": \"TTO\", \"id\": 780, \"Latitude (average)\": 11.0, \"Longitude (average)\": -61.0}, {\"iso_code\": \"TUN\", \"total_cases_per_million\": 2644.895, \"Country\": \"Tunisia\", \"Alpha-2 code\": \"TN\", \"Alpha-3 code\": \"TUN\", \"id\": 788, \"Latitude (average)\": 34.0, \"Longitude (average)\": 9.0}, {\"iso_code\": \"TUR\", \"total_cases_per_million\": 3978.382, \"Country\": \"Turkey\", \"Alpha-2 code\": \"TR\", \"Alpha-3 code\": \"TUR\", \"id\": 792, \"Latitude (average)\": 39.0, \"Longitude (average)\": 35.0}, {\"iso_code\": \"TWN\", \"total_cases_per_million\": 22.127, \"Country\": \"Taiwan,Province of China\", \"Alpha-2 code\": \"TW\", \"Alpha-3 code\": \"TWN\", \"id\": 158, \"Latitude (average)\": 23.5, \"Longitude (average)\": 121.0}, {\"iso_code\": \"TWN\", \"total_cases_per_million\": 22.127, \"Country\": \"Taiwan\", \"Alpha-2 code\": \"TW\", \"Alpha-3 code\": \"TWN\", \"id\": 158, \"Latitude (average)\": 23.5, \"Longitude (average)\": 121.0}, {\"iso_code\": \"TZA\", \"total_cases_per_million\": 8.521, \"Country\": \"Tanzania,United Republic of\", \"Alpha-2 code\": \"TZ\", \"Alpha-3 code\": \"TZA\", \"id\": 834, \"Latitude (average)\": -6.0, \"Longitude (average)\": 35.0}, {\"iso_code\": \"UGA\", \"total_cases_per_million\": 214.27200000000002, \"Country\": \"Uganda\", \"Alpha-2 code\": \"UG\", \"Alpha-3 code\": \"UGA\", \"id\": 800, \"Latitude (average)\": 1.0, \"Longitude (average)\": 32.0}, {\"iso_code\": \"UKR\", \"total_cases_per_million\": 5968.706999999999, \"Country\": \"Ukraine\", \"Alpha-2 code\": \"UA\", \"Alpha-3 code\": \"UKR\", \"id\": 804, \"Latitude (average)\": 49.0, \"Longitude (average)\": 32.0}, {\"iso_code\": \"URY\", \"total_cases_per_million\": 660.3860000000001, \"Country\": \"Uruguay\", \"Alpha-2 code\": \"UY\", \"Alpha-3 code\": \"URY\", \"id\": 858, \"Latitude (average)\": -33.0, \"Longitude (average)\": -56.0}, {\"iso_code\": \"USA\", \"total_cases_per_million\": 23451.607000000004, \"Country\": \"United States\", \"Alpha-2 code\": \"US\", \"Alpha-3 code\": \"USA\", \"id\": 840, \"Latitude (average)\": 38.0, \"Longitude (average)\": -97.0}, {\"iso_code\": \"UZB\", \"total_cases_per_million\": 1825.499, \"Country\": \"Uzbekistan\", \"Alpha-2 code\": \"UZ\", \"Alpha-3 code\": \"UZB\", \"id\": 860, \"Latitude (average)\": 41.0, \"Longitude (average)\": 64.0}, {\"iso_code\": \"VAT\", \"total_cases_per_million\": 14833.127, \"Country\": \"Holy See (Vatican City State)\", \"Alpha-2 code\": \"VA\", \"Alpha-3 code\": \"VAT\", \"id\": 336, \"Latitude (average)\": 41.9, \"Longitude (average)\": 12.45}, {\"iso_code\": \"VCT\", \"total_cases_per_million\": 576.852, \"Country\": \"Saint Vincent and the Grenadines\", \"Alpha-2 code\": \"VC\", \"Alpha-3 code\": \"VCT\", \"id\": 670, \"Latitude (average)\": 13.25, \"Longitude (average)\": -61.2}, {\"iso_code\": \"VCT\", \"total_cases_per_million\": 576.852, \"Country\": \"Saint Vincent & the Grenadines\", \"Alpha-2 code\": \"VC\", \"Alpha-3 code\": \"VCT\", \"id\": 670, \"Latitude (average)\": 13.25, \"Longitude (average)\": -61.2}, {\"iso_code\": \"VCT\", \"total_cases_per_million\": 576.852, \"Country\": \"St. Vincent and the Grenadines\", \"Alpha-2 code\": \"VC\", \"Alpha-3 code\": \"VCT\", \"id\": 670, \"Latitude (average)\": 13.25, \"Longitude (average)\": -61.2}, {\"iso_code\": \"VEN\", \"total_cases_per_million\": 2923.659, \"Country\": \"Venezuela,Bolivarian Republic of\", \"Alpha-2 code\": \"VE\", \"Alpha-3 code\": \"VEN\", \"id\": 862, \"Latitude (average)\": 8.0, \"Longitude (average)\": -66.0}, {\"iso_code\": \"VEN\", \"total_cases_per_million\": 2923.659, \"Country\": \"Venezuela\", \"Alpha-2 code\": \"VE\", \"Alpha-3 code\": \"VEN\", \"id\": 862, \"Latitude (average)\": 8.0, \"Longitude (average)\": -66.0}, {\"iso_code\": \"VGB\", \"total_cases_per_million\": 2348.117, \"Country\": \"Virgin Islands,British\", \"Alpha-2 code\": \"VG\", \"Alpha-3 code\": \"VGB\", \"id\": 92, \"Latitude (average)\": 18.5, \"Longitude (average)\": -64.5}, {\"iso_code\": \"VIR\", \"total_cases_per_million\": 12707.928, \"Country\": \"Virgin Islands,U.S.\", \"Alpha-2 code\": \"VI\", \"Alpha-3 code\": \"VIR\", \"id\": 850, \"Latitude (average)\": 18.3333, \"Longitude (average)\": -64.8333}, {\"iso_code\": \"VNM\", \"total_cases_per_million\": 11.392999999999999, \"Country\": \"Viet Nam\", \"Alpha-2 code\": \"VN\", \"Alpha-3 code\": \"VNM\", \"id\": 704, \"Latitude (average)\": 16.0, \"Longitude (average)\": 106.0}, {\"iso_code\": \"VNM\", \"total_cases_per_million\": 11.392999999999999, \"Country\": \"Vietnam\", \"Alpha-2 code\": \"VN\", \"Alpha-3 code\": \"VNM\", \"id\": 704, \"Latitude (average)\": 16.0, \"Longitude (average)\": 106.0}, {\"iso_code\": \"YEM\", \"total_cases_per_million\": 68.9, \"Country\": \"Yemen\", \"Alpha-2 code\": \"YE\", \"Alpha-3 code\": \"YEM\", \"id\": 887, \"Latitude (average)\": 15.0, \"Longitude (average)\": 48.0}, {\"iso_code\": \"ZAF\", \"total_cases_per_million\": 11675.708999999999, \"Country\": \"South Africa\", \"Alpha-2 code\": \"ZA\", \"Alpha-3 code\": \"ZAF\", \"id\": 710, \"Latitude (average)\": -29.0, \"Longitude (average)\": 24.0}, {\"iso_code\": \"ZMB\", \"total_cases_per_million\": 840.842, \"Country\": \"Zambia\", \"Alpha-2 code\": \"ZM\", \"Alpha-3 code\": \"ZMB\", \"id\": 894, \"Latitude (average)\": -15.0, \"Longitude (average)\": 30.0}, {\"iso_code\": \"ZWE\", \"total_cases_per_million\": 538.992, \"Country\": \"Zimbabwe\", \"Alpha-2 code\": \"ZW\", \"Alpha-3 code\": \"ZWE\", \"id\": 716, \"Latitude (average)\": -20.0, \"Longitude (average)\": 30.0}]}}, {\"mode\": \"vega-lite\"});\n",
       "</script>"
      ],
      "text/plain": [
       "alt.Chart(...)"
      ]
     },
     "execution_count": 24,
     "metadata": {},
     "output_type": "execute_result"
    }
   ],
   "source": [
    "alt.Chart(countries).mark_geoshape(\n",
    "    stroke='white'\n",
    ").encode(\n",
    "    color='total_cases_per_million:Q',\n",
    "    tooltip=['Country:O','total_cases_per_million:Q']\n",
    ").transform_lookup(\n",
    "    lookup='id',\n",
    "    from_=alt.LookupData(data=merged_lookup_data, key='id', fields=['total_cases_per_million', 'Country'])\n",
    ").project(\n",
    "    type='mercator',\n",
    "    scale=250,\n",
    "    center=[20,55],\n",
    "    clipExtent= [[0,0], [400, 300]]\n",
    ")"
   ]
  },
  {
   "cell_type": "markdown",
   "metadata": {},
   "source": [
    "Challenge visualization!\n",
    "\n",
    "Try to visualize a region of your choice with one of the above shown methods! Tip: Try different projections as well!"
   ]
  },
  {
   "cell_type": "markdown",
   "metadata": {
    "colab_type": "text",
    "id": "IELEzpLaViOM"
   },
   "source": [
    "## Sources\n",
    "\n",
    "Tutorials & Documentation\n",
    "- [Specifying Geospatial Data in Altair — Altair 4.1.0 documentation](https://altair-viz.github.io/user_guide/data.html#geospatial-data)\n",
    "- [GeoPandas](https://geopandas.org)\n",
    "- [OSMPythonTools](https://github.com/mocnik-science/osm-python-tools)\n",
    "- [GeoPy](https://geopy.readthedocs.io/)\n",
    "\n",
    "Additionally I recommend looking at the procedure described in the [original tutorial](https://infovis.fh-potsdam.de/tutorials/infovis8geovis.html) by the FH Potsdam, which uses a rather custom approach to visualizing geospatial data in Altair."
   ]
  }
 ],
 "metadata": {
  "colab": {
   "authorship_tag": "ABX9TyMkJ/tzxU1CwkA0+U2mdoy5",
   "collapsed_sections": [],
   "name": "infovis8geovis.ipynb",
   "provenance": [],
   "toc_visible": true
  },
  "kernelspec": {
   "display_name": "Python 3",
   "language": "python",
   "name": "python3"
  },
  "language_info": {
   "codemirror_mode": {
    "name": "ipython",
    "version": 3
   },
   "file_extension": ".py",
   "mimetype": "text/x-python",
   "name": "python",
   "nbconvert_exporter": "python",
   "pygments_lexer": "ipython3",
   "version": "3.8.5"
  }
 },
 "nbformat": 4,
 "nbformat_minor": 4
}
