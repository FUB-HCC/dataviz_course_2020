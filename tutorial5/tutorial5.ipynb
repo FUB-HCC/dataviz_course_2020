{
 "cells": [
  {
   "cell_type": "markdown",
   "metadata": {
    "colab_type": "text",
    "id": "gdoSGJp1fRAX"
   },
   "source": [
    "**Data Visualization course - winter semester 23/24 - FU Berlin**\n",
    "\n",
    "*Tutorials adapted from the [Information Visualization](https://infovis.fh-potsdam.de/tutorials/) course at the FH Potsdam*\n",
    "\n",
    "# Tutorial 5: Temporal analysis\n",
    "\n",
    "We encounter time series data in pretty much every domain, from finance to weather, from public health to renewable energies. Visualizations of temporal data may represent recorded observations from the past and/or predicted developments for the future, which is why visual representations of temporal data are so important and interesting. Especially, in the context of the ongoing climate and corona crises we encounter many time series visualizations. "
   ]
  },
  {
   "cell_type": "markdown",
   "metadata": {
    "colab_type": "text",
    "id": "w1GXDEeaz4OT"
   },
   "source": [
    "## 🛒 1. Prepare \n",
    "\n",
    "Before we are able to do anything, we need to include the libraries that we are working with (as always):"
   ]
  },
  {
   "cell_type": "code",
   "execution_count": null,
   "metadata": {
    "colab": {},
    "colab_type": "code",
    "id": "zlp7zpRy9rRo"
   },
   "outputs": [],
   "source": [
    "import pandas as pd\n",
    "import altair as alt"
   ]
  },
  {
   "cell_type": "markdown",
   "metadata": {
    "colab_type": "text",
    "id": "FbQDD--KpUwY"
   },
   "source": [
    "### Parse dates and times\n",
    "\n",
    "In its most basic form, time series data contain a quantitative measure that changes over time. To reference a time point we use [Timestamp](https://pandas.pydata.org/pandas-docs/stable/reference/api/pandas.Timestamp.html) of Pandas as the data type for temporal entities.\n",
    "\n",
    "With **`to_datetime()`** you can create a Timestamp with a string containing a date and/or time. Pandas can infer the date and time from various date/time strings. Let's start with the present:\n"
   ]
  },
  {
   "cell_type": "code",
   "execution_count": null,
   "metadata": {
    "colab": {
     "base_uri": "https://localhost:8080/",
     "height": 34
    },
    "colab_type": "code",
    "executionInfo": {
     "elapsed": 1923,
     "status": "ok",
     "timestamp": 1598364811679,
     "user": {
      "displayName": "Marian Dörk",
      "photoUrl": "https://lh3.googleusercontent.com/a-/AOh14GhqiajTdRS6NXELnqFzS3NNM3uxy6nUDGSMCjvAjw=s64",
      "userId": "05248840544598202773"
     },
     "user_tz": -120
    },
    "id": "3QCZtIrXmKOH",
    "outputId": "6a1554f8-c883-4c66-f551-48b803c5f819"
   },
   "outputs": [],
   "source": [
    "pd.to_datetime('now')"
   ]
  },
  {
   "cell_type": "markdown",
   "metadata": {
    "colab_type": "text",
    "id": "eAYopZX4mc3I"
   },
   "source": [
    "We can pass a range of date formats and Pandas will guess which numbers refer to years, months, days, hours, etc.:"
   ]
  },
  {
   "cell_type": "code",
   "execution_count": null,
   "metadata": {
    "colab": {
     "base_uri": "https://localhost:8080/",
     "height": 34
    },
    "colab_type": "code",
    "executionInfo": {
     "elapsed": 1899,
     "status": "ok",
     "timestamp": 1598364811679,
     "user": {
      "displayName": "Marian Dörk",
      "photoUrl": "https://lh3.googleusercontent.com/a-/AOh14GhqiajTdRS6NXELnqFzS3NNM3uxy6nUDGSMCjvAjw=s64",
      "userId": "05248840544598202773"
     },
     "user_tz": -120
    },
    "id": "F92IKMJE9mXV",
    "outputId": "5f057437-866f-4243-9c28-792f7e70996c"
   },
   "outputs": [],
   "source": [
    "pd.to_datetime('2024-10-07 3pm')"
   ]
  },
  {
   "cell_type": "markdown",
   "metadata": {
    "colab_type": "text",
    "id": "_1mZ0oHsHZaN"
   },
   "source": [
    "When expressing dates and times in written language, there is an ambiguity between the order of different entities. The most frequent ambiguity concerns the order of days and months, as they are typyically both expressed in double-digit numbers, unlike years that tend to be expressed with four digits. However, date conventions vary across the world.  For example, the following date might be interpreted differently depending on the country; it may refer to Saint Nicholas Day in 1929 or Anne Frank's birthday:"
   ]
  },
  {
   "cell_type": "code",
   "execution_count": null,
   "metadata": {
    "colab": {
     "base_uri": "https://localhost:8080/",
     "height": 34
    },
    "colab_type": "code",
    "executionInfo": {
     "elapsed": 1874,
     "status": "ok",
     "timestamp": 1598364811680,
     "user": {
      "displayName": "Marian Dörk",
      "photoUrl": "https://lh3.googleusercontent.com/a-/AOh14GhqiajTdRS6NXELnqFzS3NNM3uxy6nUDGSMCjvAjw=s64",
      "userId": "05248840544598202773"
     },
     "user_tz": -120
    },
    "id": "dA08J0G_HhjR",
    "outputId": "f7ee26b5-3589-455c-c164-e48e2c9fbe98"
   },
   "outputs": [],
   "source": [
    "pd.to_datetime('12.6.1929')"
   ]
  },
  {
   "cell_type": "markdown",
   "metadata": {
    "colab_type": "text",
    "id": "PnVaBh1dIdQO"
   },
   "source": [
    "To clarify towards Pandas that the first number refers to the day, you can add the parameter **`dayfirst`**:"
   ]
  },
  {
   "cell_type": "code",
   "execution_count": null,
   "metadata": {
    "colab": {
     "base_uri": "https://localhost:8080/",
     "height": 34
    },
    "colab_type": "code",
    "executionInfo": {
     "elapsed": 1848,
     "status": "ok",
     "timestamp": 1598364811680,
     "user": {
      "displayName": "Marian Dörk",
      "photoUrl": "https://lh3.googleusercontent.com/a-/AOh14GhqiajTdRS6NXELnqFzS3NNM3uxy6nUDGSMCjvAjw=s64",
      "userId": "05248840544598202773"
     },
     "user_tz": -120
    },
    "id": "TY2V3Yz4Imz9",
    "outputId": "6d0e72fc-6bfd-4490-871d-89ca191f61d9"
   },
   "outputs": [],
   "source": [
    "pd.to_datetime('12.6.1929', dayfirst=True)"
   ]
  },
  {
   "cell_type": "markdown",
   "metadata": {
    "colab_type": "text",
    "id": "6YSZLy4VJIXM"
   },
   "source": [
    "The method `to_datetime()` can also handle an array of date strings; it will return a `DatetimeIndex`, which is crucial for temporal indexing with Pandas."
   ]
  },
  {
   "cell_type": "code",
   "execution_count": null,
   "metadata": {
    "colab": {
     "base_uri": "https://localhost:8080/",
     "height": 85
    },
    "colab_type": "code",
    "executionInfo": {
     "elapsed": 1825,
     "status": "ok",
     "timestamp": 1598364811681,
     "user": {
      "displayName": "Marian Dörk",
      "photoUrl": "https://lh3.googleusercontent.com/a-/AOh14GhqiajTdRS6NXELnqFzS3NNM3uxy6nUDGSMCjvAjw=s64",
      "userId": "05248840544598202773"
     },
     "user_tz": -120
    },
    "id": "iQV2-_3MJaNL",
    "outputId": "05077596-d3e2-4616-9dc8-0558655441da"
   },
   "outputs": [],
   "source": [
    "sessions=[\"2.4.2020\", \"9.4.2020\", \"16.4.2020\", \"23.4.2020\", \"7.5.2020\", \"14.5.2020\", \"28.5.2020\", \"4.6.2020\", \"11.6.2020\", \"25.6.2020\", \"2.7.2020\", \"9.7.2020\"]\n",
    "\n",
    "pd.to_datetime(sessions, dayfirst=True)"
   ]
  },
  {
   "cell_type": "markdown",
   "metadata": {
    "colab_type": "text",
    "id": "IBomS957AQ6b"
   },
   "source": [
    "If you want to make extra sure that the date/time string is parsed correctly and quickly, you can pass a fixed **`format`** for the date/time strings to be parsed:"
   ]
  },
  {
   "cell_type": "code",
   "execution_count": null,
   "metadata": {
    "colab": {
     "base_uri": "https://localhost:8080/",
     "height": 34
    },
    "colab_type": "code",
    "executionInfo": {
     "elapsed": 1799,
     "status": "ok",
     "timestamp": 1598364811681,
     "user": {
      "displayName": "Marian Dörk",
      "photoUrl": "https://lh3.googleusercontent.com/a-/AOh14GhqiajTdRS6NXELnqFzS3NNM3uxy6nUDGSMCjvAjw=s64",
      "userId": "05248840544598202773"
     },
     "user_tz": -120
    },
    "id": "7zxy-vRYA3Fn",
    "outputId": "950d50c9-99f8-4cf9-8149-db22c98eb19e"
   },
   "outputs": [],
   "source": [
    "pd.to_datetime('2020-05-07', format='%Y-%m-%d')"
   ]
  },
  {
   "cell_type": "code",
   "execution_count": null,
   "metadata": {
    "colab": {
     "base_uri": "https://localhost:8080/",
     "height": 34
    },
    "colab_type": "code",
    "executionInfo": {
     "elapsed": 1773,
     "status": "ok",
     "timestamp": 1598364811681,
     "user": {
      "displayName": "Marian Dörk",
      "photoUrl": "https://lh3.googleusercontent.com/a-/AOh14GhqiajTdRS6NXELnqFzS3NNM3uxy6nUDGSMCjvAjw=s64",
      "userId": "05248840544598202773"
     },
     "user_tz": -120
    },
    "id": "id5G7TLNNtNP",
    "outputId": "28699fce-aaaa-4263-f3e4-eefdff7396ae"
   },
   "outputs": [],
   "source": [
    "pd.to_datetime('8.5.1945 23:01', format='%d.%m.%Y %H:%M')"
   ]
  },
  {
   "cell_type": "markdown",
   "metadata": {
    "colab_type": "text",
    "id": "8z8s8BB-Zfqt"
   },
   "source": [
    "### Load time series data\n",
    "\n",
    "In this tutorial we will be analyzing our usual data source. `read_csv()` has a convenient feature, which lets you specify the column containing date/time information."
   ]
  },
  {
   "cell_type": "code",
   "execution_count": null,
   "metadata": {
    "colab": {},
    "colab_type": "code",
    "id": "BfjlZDYLo8Pp"
   },
   "outputs": [],
   "source": [
    "covid_data = pd.read_csv(\"https://covid.ourworldindata.org/data/owid-covid-data.csv\", parse_dates=['date'])"
   ]
  },
  {
   "cell_type": "markdown",
   "metadata": {
    "colab_type": "text",
    "id": "tIl8s77KXJ73"
   },
   "source": [
    "We filter the data for rows which contain German data (and also skip some columns we do not need ('iso_code', 'continent', 'location') or that provide some problems later in the process because of its object type ('tests_units'):"
   ]
  },
  {
   "cell_type": "code",
   "execution_count": null,
   "metadata": {
    "colab": {},
    "colab_type": "code",
    "id": "smhoBWgaXPvB"
   },
   "outputs": [],
   "source": [
    "covid_data_de = covid_data[ covid_data.location == 'Germany' ]\n",
    "covid_data_de = covid_data_de.drop(['iso_code', 'continent', 'location', 'tests_units'], axis=1, inplace=False)"
   ]
  },
  {
   "cell_type": "code",
   "execution_count": null,
   "metadata": {},
   "outputs": [],
   "source": [
    "covid_data_de.info()"
   ]
  },
  {
   "cell_type": "code",
   "execution_count": null,
   "metadata": {
    "colab": {
     "base_uri": "https://localhost:8080/",
     "height": 204
    },
    "colab_type": "code",
    "executionInfo": {
     "elapsed": 4152,
     "status": "ok",
     "timestamp": 1598364814167,
     "user": {
      "displayName": "Marian Dörk",
      "photoUrl": "https://lh3.googleusercontent.com/a-/AOh14GhqiajTdRS6NXELnqFzS3NNM3uxy6nUDGSMCjvAjw=s64",
      "userId": "05248840544598202773"
     },
     "user_tz": -120
    },
    "id": "F_8y3qlza5ec",
    "outputId": "07e41e13-7ebf-4cf3-aec0-08a438811796"
   },
   "outputs": [],
   "source": [
    "covid_data_de = covid_data_de.set_index('date')\n",
    "covid_data_de"
   ]
  },
  {
   "cell_type": "markdown",
   "metadata": {
    "colab_type": "text",
    "id": "RpRQRpK0Um5n"
   },
   "source": [
    "The `DatetimeIndex` provides a few handy methods to extract temporal units such as months, days, week of the year, etc.: "
   ]
  },
  {
   "cell_type": "code",
   "execution_count": null,
   "metadata": {
    "colab": {
     "base_uri": "https://localhost:8080/",
     "height": 34
    },
    "colab_type": "code",
    "executionInfo": {
     "elapsed": 4091,
     "status": "ok",
     "timestamp": 1598364814168,
     "user": {
      "displayName": "Marian Dörk",
      "photoUrl": "https://lh3.googleusercontent.com/a-/AOh14GhqiajTdRS6NXELnqFzS3NNM3uxy6nUDGSMCjvAjw=s64",
      "userId": "05248840544598202773"
     },
     "user_tz": -120
    },
    "id": "_xYFzLnvjS3t",
    "outputId": "c8bfe5b3-0eb2-49cc-b84d-fb0a06cce86a"
   },
   "outputs": [],
   "source": [
    "covid_data_de.index.year.unique()"
   ]
  },
  {
   "cell_type": "markdown",
   "metadata": {
    "colab_type": "text",
    "id": "SrkSq41Qlkz-"
   },
   "source": [
    "✏️ *Try to extract any other [temporal attributes](https://pandas.pydata.org/pandas-docs/stable/reference/api/pandas.DatetimeIndex.html):*\n"
   ]
  },
  {
   "cell_type": "code",
   "execution_count": null,
   "metadata": {
    "colab": {},
    "colab_type": "code",
    "id": "eGJdkQc65ric"
   },
   "outputs": [],
   "source": []
  },
  {
   "cell_type": "markdown",
   "metadata": {
    "colab_type": "text",
    "id": "eNEzc_npz4X2"
   },
   "source": [
    "## 🕒 2. Process\n"
   ]
  },
  {
   "cell_type": "markdown",
   "metadata": {
    "colab_type": "text",
    "id": "8mOmPkkhddT_"
   },
   "source": [
    "### Query time points and spans\n",
    "\n",
    "A particular powerful feature of the Pandas DataFrame is its indexing capability that also works using time-based entities, such as dates and times. We have already created the index above, so let's put it to use.\n",
    "\n",
    "One useful function of a temporal index, is its querying function. We can quickly extract the rows for a given time point or period."
   ]
  },
  {
   "cell_type": "code",
   "execution_count": null,
   "metadata": {
    "colab": {
     "base_uri": "https://localhost:8080/",
     "height": 824
    },
    "colab_type": "code",
    "executionInfo": {
     "elapsed": 4051,
     "status": "ok",
     "timestamp": 1598364814169,
     "user": {
      "displayName": "Marian Dörk",
      "photoUrl": "https://lh3.googleusercontent.com/a-/AOh14GhqiajTdRS6NXELnqFzS3NNM3uxy6nUDGSMCjvAjw=s64",
      "userId": "05248840544598202773"
     },
     "user_tz": -120
    },
    "id": "z_ODLzpYuiBP",
    "outputId": "0219c43a-72dc-4f6c-b9d7-325548a9e8a1"
   },
   "outputs": [],
   "source": [
    "covid_data_de.loc['2020-10-11']"
   ]
  },
  {
   "cell_type": "markdown",
   "metadata": {
    "colab_type": "text",
    "id": "VDC4Q9wGtkLX"
   },
   "source": [
    "Above query is an example of partial-string indexing: while our `DateTime` column actually contains time information as well, you can query it quickly (!) with just the date, or even a shorter query:"
   ]
  },
  {
   "cell_type": "code",
   "execution_count": null,
   "metadata": {
    "colab": {
     "base_uri": "https://localhost:8080/",
     "height": 450
    },
    "colab_type": "code",
    "executionInfo": {
     "elapsed": 4232,
     "status": "ok",
     "timestamp": 1598364814383,
     "user": {
      "displayName": "Marian Dörk",
      "photoUrl": "https://lh3.googleusercontent.com/a-/AOh14GhqiajTdRS6NXELnqFzS3NNM3uxy6nUDGSMCjvAjw=s64",
      "userId": "05248840544598202773"
     },
     "user_tz": -120
    },
    "id": "8uoWkuREv3KB",
    "outputId": "d4b91894-2e8b-42cb-ba2c-bc6c118f9a95"
   },
   "outputs": [],
   "source": [
    "covid_data_de.loc['2020-10']"
   ]
  },
  {
   "cell_type": "code",
   "execution_count": null,
   "metadata": {
    "colab": {
     "base_uri": "https://localhost:8080/",
     "height": 450
    },
    "colab_type": "code",
    "executionInfo": {
     "elapsed": 4201,
     "status": "ok",
     "timestamp": 1598364814384,
     "user": {
      "displayName": "Marian Dörk",
      "photoUrl": "https://lh3.googleusercontent.com/a-/AOh14GhqiajTdRS6NXELnqFzS3NNM3uxy6nUDGSMCjvAjw=s64",
      "userId": "05248840544598202773"
     },
     "user_tz": -120
    },
    "id": "nCsrtgu9wWyc",
    "outputId": "5327eb5a-d6f8-41ee-e7cf-7b99b63111a2"
   },
   "outputs": [],
   "source": [
    "covid_data_de.loc['2020-09-11': '2020-10-09']"
   ]
  },
  {
   "cell_type": "markdown",
   "metadata": {
    "colab_type": "text",
    "id": "IvsXOkJRd3Vc"
   },
   "source": [
    "### Aggregate values along time\n"
   ]
  },
  {
   "cell_type": "markdown",
   "metadata": {
    "colab_type": "text",
    "id": "15dqnyKrtXur"
   },
   "source": [
    "The DataFrame's `resample()` method provides a concise and quick way of aggregating temporally indexed data along time units. Here we create a DataFrame with summed up values for each year aggregated from the original dataset:"
   ]
  },
  {
   "cell_type": "code",
   "execution_count": null,
   "metadata": {
    "colab": {
     "base_uri": "https://localhost:8080/",
     "height": 204
    },
    "colab_type": "code",
    "executionInfo": {
     "elapsed": 4170,
     "status": "ok",
     "timestamp": 1598364814385,
     "user": {
      "displayName": "Marian Dörk",
      "photoUrl": "https://lh3.googleusercontent.com/a-/AOh14GhqiajTdRS6NXELnqFzS3NNM3uxy6nUDGSMCjvAjw=s64",
      "userId": "05248840544598202773"
     },
     "user_tz": -120
    },
    "id": "zH4DzR1IsbKk",
    "outputId": "82fc2b71-226e-4fd7-dbc3-eb3006c5e4f9"
   },
   "outputs": [],
   "source": [
    "sums = covid_data_de.resample('M').sum()\n",
    "sums"
   ]
  },
  {
   "cell_type": "markdown",
   "metadata": {
    "colab_type": "text",
    "id": "r22UKH1u1dke"
   },
   "source": [
    "The resample operations can also be carried out one after another. For example, we might want to know how weekly energy use/production varies between the quarters:"
   ]
  },
  {
   "cell_type": "code",
   "execution_count": null,
   "metadata": {
    "colab": {
     "base_uri": "https://localhost:8080/",
     "height": 607
    },
    "colab_type": "code",
    "executionInfo": {
     "elapsed": 4140,
     "status": "ok",
     "timestamp": 1598364814385,
     "user": {
      "displayName": "Marian Dörk",
      "photoUrl": "https://lh3.googleusercontent.com/a-/AOh14GhqiajTdRS6NXELnqFzS3NNM3uxy6nUDGSMCjvAjw=s64",
      "userId": "05248840544598202773"
     },
     "user_tz": -120
    },
    "id": "KdUr-KoLub2W",
    "outputId": "216c4dfd-fb0e-46ee-c13c-33e5cb6c927f"
   },
   "outputs": [],
   "source": [
    "weekly_sums = covid_data_de.resample('W').sum()\n",
    "\n",
    "quarterly_sums = weekly_sums.resample('Q').mean()\n",
    "\n",
    "quarterly_sums.astype(int)\n"
   ]
  },
  {
   "cell_type": "markdown",
   "metadata": {
    "colab_type": "text",
    "id": "N7jNS6bHz4g1"
   },
   "source": [
    "## 🥗 3. Present\n",
    "\n",
    "Enough data processing. It's time for visualization!"
   ]
  },
  {
   "cell_type": "markdown",
   "metadata": {
    "colab_type": "text",
    "id": "gYYXypmu8t1i"
   },
   "source": [
    "### Overall trends\n",
    "\n",
    "Next, we are going to return to the energy time series data that we prepared above. Remember that the original dataset has an hourly resolution resulting in too many data points to visualize at once. Altair itself handles at most 5000 data rows.\n",
    "\n",
    "To reduce the dataset into a manageable size (only one year), we  will monthly daily sums with the `resample()` method of the DateTimeIndex:"
   ]
  },
  {
   "cell_type": "code",
   "execution_count": null,
   "metadata": {
    "colab": {},
    "colab_type": "code",
    "id": "bQbt4i8n8z-J"
   },
   "outputs": [],
   "source": [
    "covid_data_sa = covid_data[ covid_data.continent == 'South America' ]\n",
    "covid_data_sa = covid_data_sa.drop(['iso_code', 'continent', 'tests_units'], axis=1, inplace=False)  \n",
    "covid_data_sa['date'] = pd.to_datetime(covid_data_sa['date'], format=\"%Y-%m-%d\")\n",
    "# Filter the data for the year 2021\n",
    "covid_data_sa = covid_data_sa.loc[covid_data_sa['date'].dt.year == 2021]\n",
    "# Resample the data by month and location and compute the sum\n",
    "covid_data_sa = covid_data_sa.groupby(['location', pd.Grouper(key='date', freq='M')]).sum()\n",
    "# Reset the index to convert the grouped columns back to regular columns\n",
    "covid_data_sa = covid_data_sa.reset_index()\n",
    "covid_data_sa\n",
    "\n"
   ]
  },
  {
   "cell_type": "markdown",
   "metadata": {
    "colab_type": "text",
    "id": "J2IGlcuJ-imN"
   },
   "source": [
    "Now let's start with a scatterplot visualization of the daily data:"
   ]
  },
  {
   "cell_type": "code",
   "execution_count": null,
   "metadata": {
    "colab": {
     "base_uri": "https://localhost:8080/",
     "height": 468
    },
    "colab_type": "code",
    "executionInfo": {
     "elapsed": 5413,
     "status": "ok",
     "timestamp": 1598364815735,
     "user": {
      "displayName": "Marian Dörk",
      "photoUrl": "https://lh3.googleusercontent.com/a-/AOh14GhqiajTdRS6NXELnqFzS3NNM3uxy6nUDGSMCjvAjw=s64",
      "userId": "05248840544598202773"
     },
     "user_tz": -120
    },
    "id": "aTaxd7_AmyB_",
    "outputId": "6d117de6-c3e3-432e-8814-418838cd49a6"
   },
   "outputs": [],
   "source": [
    "alt.Chart(covid_data_sa).mark_circle().encode(\n",
    "    x='date:T',\n",
    "    y='new_cases',\n",
    "    color='location',\n",
    "    tooltip='location'\n",
    ").properties(\n",
    "    width=800,\n",
    "    height=400\n",
    ")"
   ]
  },
  {
   "cell_type": "markdown",
   "metadata": {
    "colab_type": "text",
    "id": "yLWFYj5YBXXZ"
   },
   "source": [
    "With this our eyes can already see several patterns going on. Some are more dictinct than others.\n",
    "\n",
    "✏️ *There is a lot of overplotting going on. Reduce the `size` and `opacity` of all dots, by passing these as parameters to `mark_circle`!*"
   ]
  },
  {
   "cell_type": "markdown",
   "metadata": {
    "colab_type": "text",
    "id": "Vhq0jmC7BoUf"
   },
   "source": [
    "Next, we are going to connect the dots and create a line chart form this data. So basically the same code as above, except we're now using `mark_line()` instead of `mark_circle`:"
   ]
  },
  {
   "cell_type": "code",
   "execution_count": null,
   "metadata": {
    "colab": {
     "base_uri": "https://localhost:8080/",
     "height": 468
    },
    "colab_type": "code",
    "executionInfo": {
     "elapsed": 5895,
     "status": "ok",
     "timestamp": 1598364816244,
     "user": {
      "displayName": "Marian Dörk",
      "photoUrl": "https://lh3.googleusercontent.com/a-/AOh14GhqiajTdRS6NXELnqFzS3NNM3uxy6nUDGSMCjvAjw=s64",
      "userId": "05248840544598202773"
     },
     "user_tz": -120
    },
    "id": "O3bPvJ-7-k4n",
    "outputId": "7d4d5cd6-ed11-461e-e3ce-8d3cd04ba5c7"
   },
   "outputs": [],
   "source": [
    "chart1 = alt.Chart(covid_data_sa).mark_line(opacity=0.5).encode(\n",
    "    x='date:T',\n",
    "    y='new_cases',\n",
    "    color='location',\n",
    "    tooltip='location'\n",
    ").properties(\n",
    "    width=800,\n",
    "    height=400\n",
    ")\n",
    "\n",
    "chart1"
   ]
  },
  {
   "cell_type": "markdown",
   "metadata": {
    "colab_type": "text",
    "id": "RSoqecNLmbbl"
   },
   "source": [
    "This chart already shows a lot: we can see weekly patterns—the jittery up and down—in the new cases. What else do you see?\n"
   ]
  },
  {
   "cell_type": "markdown",
   "metadata": {
    "colab_type": "text",
    "id": "AK7YFUX6mHnU"
   },
   "source": [
    "While above line chart is truthful to the local fluctuations, it makes it hard to actually grasp the up and down over the course of weeks. Let's change the sampling from days to months to examine the overall patterns in the data."
   ]
  },
  {
   "cell_type": "code",
   "execution_count": null,
   "metadata": {
    "colab": {
     "base_uri": "https://localhost:8080/",
     "height": 488
    },
    "colab_type": "code",
    "executionInfo": {
     "elapsed": 5867,
     "status": "ok",
     "timestamp": 1598364816245,
     "user": {
      "displayName": "Marian Dörk",
      "photoUrl": "https://lh3.googleusercontent.com/a-/AOh14GhqiajTdRS6NXELnqFzS3NNM3uxy6nUDGSMCjvAjw=s64",
      "userId": "05248840544598202773"
     },
     "user_tz": -120
    },
    "id": "dOuMuEBylQTp",
    "outputId": "4df2e3a9-4abb-4c09-de67-8a169c4835eb"
   },
   "outputs": [],
   "source": [
    "months = covid_data_sa.set_index('date').groupby('location').resample('M').mean().reset_index()\n",
    "\n",
    "chart2 = alt.Chart(months).mark_line(interpolate='basis').encode(\n",
    "    x='date:T',\n",
    "    y='new_cases',\n",
    "    color='location',\n",
    "    tooltip='location'\n",
    ").properties(\n",
    "    width=800,\n",
    "    height=400\n",
    ")\n",
    "\n",
    "chart2"
   ]
  },
  {
   "cell_type": "markdown",
   "metadata": {
    "colab_type": "text",
    "id": "YwnpG9bjoW6B"
   },
   "source": [
    "What do you think? The fine-grained jitter is now gone and we might have lost too much detail. In fact, first downsampling the data and then including an interpolation is maybe giving it too much of a treatment (like overusing Photoshop's blur function)."
   ]
  },
  {
   "cell_type": "markdown",
   "metadata": {
    "colab_type": "text",
    "id": "Ou56yqJZx6UN"
   },
   "source": [
    "One way to integrate the local and global patterns is to create a layered graph, as we have already done with the presidents' names above. This time we are combining a line chart of the days with a line chart of monthly averages.\n"
   ]
  },
  {
   "cell_type": "markdown",
   "metadata": {
    "colab_type": "text",
    "id": "BQLJmya_FGdv"
   },
   "source": [
    "Next we create the line charts and combine the two again with the **+** operator:"
   ]
  },
  {
   "cell_type": "code",
   "execution_count": null,
   "metadata": {
    "colab": {
     "base_uri": "https://localhost:8080/",
     "height": 468
    },
    "colab_type": "code",
    "executionInfo": {
     "elapsed": 5836,
     "status": "ok",
     "timestamp": 1598364816246,
     "user": {
      "displayName": "Marian Dörk",
      "photoUrl": "https://lh3.googleusercontent.com/a-/AOh14GhqiajTdRS6NXELnqFzS3NNM3uxy6nUDGSMCjvAjw=s64",
      "userId": "05248840544598202773"
     },
     "user_tz": -120
    },
    "id": "aGHIOA2IFG_F",
    "outputId": "69f50775-055d-4d7d-a051-cefb94dd80f9"
   },
   "outputs": [],
   "source": [
    "chart1 + chart2"
   ]
  },
  {
   "cell_type": "markdown",
   "metadata": {
    "colab_type": "text",
    "id": "mKGsfHpZ0GYV"
   },
   "source": [
    "With this view we already get a good sense of the overall time patterns, while still seeing some of the particular variations.\n",
    "\n",
    "✏️ *Add the `.interactive()` directive to one of these charts to make them zoomable!*"
   ]
  },
  {
   "cell_type": "markdown",
   "metadata": {
    "colab_type": "text",
    "id": "WNf-GlZo5jlU"
   },
   "source": [
    "### Rolling windows\n",
    "\n",
    "While the `resample()` method takes a broad brush and results in a reduced dataset and a chart with smooth curves, `rolling()` offers an alternative way of smoothing out local outliers without actually reducing the resolution of the dataset.\n",
    "\n",
    "The first parameter determines the window size, by positioning the window at the `center` values are considered in both directions of the current date/time, and `win_type` determines how the values across the window are weighted; with the `triang` option the values further away contribute less:"
   ]
  },
  {
   "cell_type": "code",
   "execution_count": null,
   "metadata": {
    "colab": {
     "base_uri": "https://localhost:8080/",
     "height": 468
    },
    "colab_type": "code",
    "executionInfo": {
     "elapsed": 6426,
     "status": "ok",
     "timestamp": 1598364816862,
     "user": {
      "displayName": "Marian Dörk",
      "photoUrl": "https://lh3.googleusercontent.com/a-/AOh14GhqiajTdRS6NXELnqFzS3NNM3uxy6nUDGSMCjvAjw=s64",
      "userId": "05248840544598202773"
     },
     "user_tz": -120
    },
    "id": "9r6RqrkT5tEl",
    "outputId": "0dcabe64-5095-4b85-bba8-ff4d5cc47368"
   },
   "outputs": [],
   "source": [
    "rolling = covid_data_sa.set_index('date').groupby('location').rolling(14, center=True, win_type='triang').mean().reset_index()\n",
    "\n",
    "chart3 = alt.Chart(rolling).mark_line().encode(\n",
    "    x='date:T',\n",
    "    y='new_cases',\n",
    "    color='location',\n",
    "    tooltip='location'\n",
    ").properties(\n",
    "    width=800,\n",
    "    height=400\n",
    ")\n",
    "\n",
    "chart1 + chart2 + chart3"
   ]
  },
  {
   "cell_type": "markdown",
   "metadata": {
    "colab_type": "text",
    "id": "qiPkRkNDdseR"
   },
   "source": [
    "Above you see the two lines for daily sums and monthly averages from the previous cell (slightly more transparent), on top of which you can see the time curve generated with a rolling window. It is quite apparent that this curve still features more pronounced dips around the end-of-year periods and elsewhere.\n"
   ]
  },
  {
   "cell_type": "markdown",
   "metadata": {
    "colab_type": "text",
    "id": "ZdmVF9s_cve0"
   },
   "source": [
    "✏️ *Play around with different window sizes and other parameters in the first line in above cell!*"
   ]
  },
  {
   "cell_type": "markdown",
   "metadata": {},
   "source": [
    "## Small Multiples"
   ]
  },
  {
   "cell_type": "code",
   "execution_count": null,
   "metadata": {},
   "outputs": [],
   "source": [
    "from vega_datasets import data"
   ]
  },
  {
   "cell_type": "code",
   "execution_count": null,
   "metadata": {},
   "outputs": [],
   "source": [
    "code_lookup = pd.read_csv('country_lookup.csv')\n",
    "countries = alt.topo_feature(data.world_110m.url, 'countries')"
   ]
  },
  {
   "cell_type": "code",
   "execution_count": null,
   "metadata": {},
   "outputs": [],
   "source": [
    "def generate_map_plot(date, covid_data):\n",
    "    date_infections = covid_data.loc[date]\n",
    "    country_infections = date_infections[['iso_code', 'total_cases_per_million']].groupby('iso_code').mean().reset_index()\n",
    "    data = country_infections.merge(code_lookup, left_on='iso_code', right_on='Alpha-3 code').rename(columns={'Numeric code': 'id'})\n",
    "\n",
    "    map = alt.Chart(countries).mark_geoshape(\n",
    "        stroke='white'\n",
    "    ).encode(\n",
    "        color=alt.Color('total_cases_per_million:Q', scale=alt.Scale(type='symlog')),\n",
    "        tooltip=['Country:N', 'total_cases_per_million:Q']\n",
    "    ).transform_lookup(\n",
    "        lookup='id',\n",
    "        from_=alt.LookupData(data=data, key='id', fields=['total_cases_per_million', 'Country'])\n",
    "    ).project(\n",
    "        type='mercator',\n",
    "        scale=125,\n",
    "        center=[-30,70],\n",
    "        clipExtent=[[0,0], [200,150]]\n",
    "    ).properties(\n",
    "        width=200,\n",
    "        height=150\n",
    "    )\n",
    "    \n",
    "    return map"
   ]
  },
  {
   "cell_type": "code",
   "execution_count": null,
   "metadata": {},
   "outputs": [],
   "source": [
    "dates = ['2020-02-01', '2020-03-01', '2020-04-01', '2020-05-01', '2020-06-01', '2020-07-01', '2020-08-01', '2020-09-01', '2020-10-01']\n",
    "\n",
    "maps = []\n",
    "covid_data = covid_data.set_index('date')\n",
    "\n",
    "for i, date in enumerate(dates):\n",
    "    maps.append(generate_map_plot(date, covid_data))\n",
    "\n",
    "\n",
    "import numpy as np\n",
    "plot = None\n",
    "for row in np.array_split(np.array(maps),3):\n",
    "    row_plot = row[0]\n",
    "    for col in row[1:]:\n",
    "        row_plot |= col\n",
    "    if plot:\n",
    "        plot &= row_plot\n",
    "    else:\n",
    "        plot = row_plot\n",
    "        \n",
    "plot"
   ]
  },
  {
   "cell_type": "markdown",
   "metadata": {
    "colab_type": "text",
    "id": "y3Uh0LTn7pU2"
   },
   "source": [
    "### Time spans\n",
    "\n",
    "One of the first time visualizations was [*A Chart of Biography*](https://en.wikipedia.org/wiki/A_Chart_of_Biography) (1765) by Joseph Priestley. Let's create a similar visualization of the US presidencies since World War II. First we load the CSV file with `pd.read_csv()`:"
   ]
  },
  {
   "cell_type": "code",
   "execution_count": null,
   "metadata": {
    "colab": {},
    "colab_type": "code",
    "id": "qj_2QGNi7uUP"
   },
   "outputs": [],
   "source": [
    "presidents = pd.read_csv(\"http://infovis.fh-potsdam.de/temp/us_presidents.csv\", parse_dates=['start', 'end'])"
   ]
  },
  {
   "cell_type": "markdown",
   "metadata": {
    "colab_type": "text",
    "id": "KVXmMMv45Fuf"
   },
   "source": [
    "The following chart consists of two parts: `bars` and `labels`. The former will be the main bar chart representing the time spans of the presidencies, and the latter will add the presidents' names. This way we can position the labels right next to the bars, much nicer!"
   ]
  },
  {
   "cell_type": "code",
   "execution_count": null,
   "metadata": {
    "colab": {
     "base_uri": "https://localhost:8080/",
     "height": 323
    },
    "colab_type": "code",
    "executionInfo": {
     "elapsed": 4818,
     "status": "ok",
     "timestamp": 1598364815108,
     "user": {
      "displayName": "Marian Dörk",
      "photoUrl": "https://lh3.googleusercontent.com/a-/AOh14GhqiajTdRS6NXELnqFzS3NNM3uxy6nUDGSMCjvAjw=s64",
      "userId": "05248840544598202773"
     },
     "user_tz": -120
    },
    "id": "ldJPtaC45Gam",
    "outputId": "19fd5740-e61a-4c3d-bb16-40090afbce6d"
   },
   "outputs": [],
   "source": [
    "bars = alt.Chart(presidents).mark_bar(height=5).encode(\n",
    "    x='start',\n",
    "    x2='end',\n",
    "    y=alt.Y('name', sort='x', axis=None),\n",
    "    color='party'\n",
    ")\n",
    "\n",
    "labels = bars.mark_text(align='right', dx=-5).encode(text='name')\n",
    "\n",
    "bars + labels"
   ]
  },
  {
   "cell_type": "markdown",
   "metadata": {
    "colab_type": "text",
    "id": "wwy7qKEj7ZRR"
   },
   "source": [
    "✏️ *Customize this chart. For example, you might want to change the colors associated with the parties… There was a time when orange has not been the color of the Republicans…*"
   ]
  },
  {
   "cell_type": "markdown",
   "metadata": {
    "colab_type": "text",
    "id": "tElb-jEcz3HM"
   },
   "source": [
    "## Sources\n",
    "\n",
    "Tutorials & Examples\n",
    "- [​​​​Tutorial: Time Series Analysis with Pandas by Jennifer Walker](https://www.dataquest.io/blog/tutorial-time-series-analysis-with-pandas/)\n",
    "- [Altair Interval Selection Example](https://altair-viz.github.io/gallery/interval_selection.html)\n",
    "\n",
    "Documentation: Pandas\n",
    "- [Time series / date functionality](https://pandas.pydata.org/pandas-docs/stable/user_guide/timeseries.html)\n",
    "- [Timestamp](https://pandas.pydata.org/pandas-docs/stable/reference/api/pandas.Timestamp.html)\n",
    "- [DatetimeIndex](https://pandas.pydata.org/pandas-docs/stable/reference/api/pandas.DatetimeIndex.html)\n",
    "- [Time-aware rolling vs. resampling](https://pandas.pydata.org/pandas-docs/stable/user_guide/computation.html#time-aware-rolling-vs-resampling)\n",
    "\n"
   ]
  }
 ],
 "metadata": {
  "colab": {
   "authorship_tag": "ABX9TyMsoIj/7TCE921Nf4z+SuN1",
   "collapsed_sections": [],
   "name": "infovis4time.ipynb",
   "provenance": [],
   "toc_visible": true
  },
  "kernelspec": {
   "display_name": "Python 3",
   "language": "python",
   "name": "python3"
  },
  "language_info": {
   "codemirror_mode": {
    "name": "ipython",
    "version": 3
   },
   "file_extension": ".py",
   "mimetype": "text/x-python",
   "name": "python",
   "nbconvert_exporter": "python",
   "pygments_lexer": "ipython3",
   "version": "3.11.4"
  }
 },
 "nbformat": 4,
 "nbformat_minor": 4
}
